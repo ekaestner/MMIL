{
 "cells": [
  {
   "cell_type": "markdown",
   "metadata": {},
   "source": [
    "<img src=\"../src/packt-banner.png\" alt=\"\">"
   ]
  },
  {
   "cell_type": "markdown",
   "metadata": {},
   "source": [
    "# Lesson 3: Web Scraping, API Requests and Interactive Visualizations\n",
    "\n",
    "In this workbook you will find:\n",
    "- Web scraping\n",
    "- HTML parsing\n",
    "- Interactive visualizations\n",
    "---"
   ]
  },
  {
   "cell_type": "code",
   "execution_count": 1,
   "metadata": {
    "collapsed": true
   },
   "outputs": [],
   "source": [
    "import pandas as pd\n",
    "import numpy as np\n",
    "import datetime\n",
    "import time\n",
    "import os\n",
    "\n",
    "import matplotlib.pyplot as plt\n",
    "%matplotlib inline\n",
    "import seaborn as sns\n",
    "\n",
    "# Set plot appearance\n",
    "# See here for more options: https://matplotlib.org/users/customizing.html\n",
    "\n",
    "%config InlineBackend.figure_format='retina'\n",
    "sns.set() # Revert to matplotlib defaults\n",
    "plt.rcParams['figure.figsize'] = (9, 6)\n",
    "plt.rcParams['axes.labelpad'] = 10\n",
    "sns.set_style(\"darkgrid\")\n",
    "# sns.set_context(\"poster\", font_scale=1.0)\n",
    "\n",
    "# Ignore warnings (for seaborn's kdeplot)\n",
    "# import warnings\n",
    "# warnings.filterwarnings('ignore')"
   ]
  },
  {
   "cell_type": "code",
   "execution_count": 2,
   "metadata": {},
   "outputs": [
    {
     "data": {
      "application/json": {
       "Software versions": [
        {
         "module": "Python",
         "version": "3.5.4 64bit [GCC 4.2.1 Compatible Clang 4.0.1 (tags/RELEASE_401/final)]"
        },
        {
         "module": "IPython",
         "version": "6.1.0"
        },
        {
         "module": "OS",
         "version": "Darwin 16.7.0 x86_64 i386 64bit"
        },
        {
         "module": "pandas",
         "version": "0.20.3"
        },
        {
         "module": "numpy",
         "version": "1.13.1"
        },
        {
         "module": "matplotlib",
         "version": "2.0.2"
        },
        {
         "module": "seaborn",
         "version": "0.8.0"
        },
        {
         "module": "sklearn",
         "version": "0.19.0"
        },
        {
         "module": "requests",
         "version": "2.18.4"
        },
        {
         "module": "beautifulsoup4",
         "version": "4.6.0"
        },
        {
         "module": "bokeh",
         "version": "0.12.10"
        }
       ]
      },
      "text/html": [
       "<table><tr><th>Software</th><th>Version</th></tr><tr><td>Python</td><td>3.5.4 64bit [GCC 4.2.1 Compatible Clang 4.0.1 (tags/RELEASE_401/final)]</td></tr><tr><td>IPython</td><td>6.1.0</td></tr><tr><td>OS</td><td>Darwin 16.7.0 x86_64 i386 64bit</td></tr><tr><td>pandas</td><td>0.20.3</td></tr><tr><td>numpy</td><td>1.13.1</td></tr><tr><td>matplotlib</td><td>2.0.2</td></tr><tr><td>seaborn</td><td>0.8.0</td></tr><tr><td>sklearn</td><td>0.19.0</td></tr><tr><td>requests</td><td>2.18.4</td></tr><tr><td>beautifulsoup4</td><td>4.6.0</td></tr><tr><td>bokeh</td><td>0.12.10</td></tr><tr><td colspan='2'>Mon Mar 26 18:58:36 2018 PDT</td></tr></table>"
      ],
      "text/latex": [
       "\\begin{tabular}{|l|l|}\\hline\n",
       "{\\bf Software} & {\\bf Version} \\\\ \\hline\\hline\n",
       "Python & 3.5.4 64bit [GCC 4.2.1 Compatible Clang 4.0.1 (tags/RELEASE\\_401/final)] \\\\ \\hline\n",
       "IPython & 6.1.0 \\\\ \\hline\n",
       "OS & Darwin 16.7.0 x86\\_64 i386 64bit \\\\ \\hline\n",
       "pandas & 0.20.3 \\\\ \\hline\n",
       "numpy & 1.13.1 \\\\ \\hline\n",
       "matplotlib & 2.0.2 \\\\ \\hline\n",
       "seaborn & 0.8.0 \\\\ \\hline\n",
       "sklearn & 0.19.0 \\\\ \\hline\n",
       "requests & 2.18.4 \\\\ \\hline\n",
       "beautifulsoup4 & 4.6.0 \\\\ \\hline\n",
       "bokeh & 0.12.10 \\\\ \\hline\n",
       "\\hline \\multicolumn{2}{|l|}{Mon Mar 26 18:58:36 2018 PDT} \\\\ \\hline\n",
       "\\end{tabular}\n"
      ],
      "text/plain": [
       "Software versions\n",
       "Python 3.5.4 64bit [GCC 4.2.1 Compatible Clang 4.0.1 (tags/RELEASE_401/final)]\n",
       "IPython 6.1.0\n",
       "OS Darwin 16.7.0 x86_64 i386 64bit\n",
       "pandas 0.20.3\n",
       "numpy 1.13.1\n",
       "matplotlib 2.0.2\n",
       "seaborn 0.8.0\n",
       "sklearn 0.19.0\n",
       "requests 2.18.4\n",
       "beautifulsoup4 4.6.0\n",
       "bokeh 0.12.10\n",
       "Mon Mar 26 18:58:36 2018 PDT"
      ]
     },
     "execution_count": 2,
     "metadata": {},
     "output_type": "execute_result"
    }
   ],
   "source": [
    "%load_ext version_information\n",
    "%version_information pandas, numpy, matplotlib, seaborn, sklearn, requests, beautifulsoup4, bokeh"
   ]
  },
  {
   "cell_type": "markdown",
   "metadata": {},
   "source": [
    "---\n",
    "## Topic A: Scraping web-page data\n",
    "---\n",
    "### Subtopic A: Introduction to HTTP requests\n",
    "---"
   ]
  },
  {
   "cell_type": "code",
   "execution_count": 3,
   "metadata": {
    "collapsed": true
   },
   "outputs": [],
   "source": [
    "import requests"
   ]
  },
  {
   "cell_type": "code",
   "execution_count": 4,
   "metadata": {
    "collapsed": true
   },
   "outputs": [],
   "source": [
    "# Set up request header\n",
    "\n",
    "url = 'https://jupyter.org/'\n",
    "req = requests.Request('GET', url)\n",
    "req.headers['User-Agent'] = 'Mozilla/5.0'\n",
    "req = req.prepare()"
   ]
  },
  {
   "cell_type": "code",
   "execution_count": 5,
   "metadata": {
    "collapsed": true
   },
   "outputs": [],
   "source": [
    "requests.Request?"
   ]
  },
  {
   "cell_type": "code",
   "execution_count": 6,
   "metadata": {
    "collapsed": true
   },
   "outputs": [],
   "source": [
    "req?"
   ]
  },
  {
   "cell_type": "code",
   "execution_count": 7,
   "metadata": {
    "collapsed": true
   },
   "outputs": [],
   "source": [
    "# Make the request\n",
    "\n",
    "with requests.Session() as sess:\n",
    "    page = sess.send(req)"
   ]
  },
  {
   "cell_type": "code",
   "execution_count": 8,
   "metadata": {},
   "outputs": [
    {
     "data": {
      "text/plain": [
       "<Response [200]>"
      ]
     },
     "execution_count": 8,
     "metadata": {},
     "output_type": "execute_result"
    }
   ],
   "source": [
    "page"
   ]
  },
  {
   "cell_type": "code",
   "execution_count": 9,
   "metadata": {},
   "outputs": [
    {
     "data": {
      "text/plain": [
       "200"
      ]
     },
     "execution_count": 9,
     "metadata": {},
     "output_type": "execute_result"
    }
   ],
   "source": [
    "page.status_code"
   ]
  },
  {
   "cell_type": "code",
   "execution_count": 10,
   "metadata": {
    "collapsed": true
   },
   "outputs": [],
   "source": [
    "page_html = page.text"
   ]
  },
  {
   "cell_type": "code",
   "execution_count": 11,
   "metadata": {},
   "outputs": [
    {
     "data": {
      "text/plain": [
       "'<!DOCTYPE html>\\n<html>\\n\\n  <head>\\n\\n    <meta charset=\"utf-8\">\\n    <meta http-equiv=\"X-UA-Compatible\" content=\"IE=edge\">\\n    <meta name=\"viewport\" content=\"width=device-width, initial-scale=1\">\\n    <meta name=\"description\" content=\"\">\\n    <meta name=\"author\" content=\"\">\\n\\n    <title>Project Jupyter | Home</title>\\n    <meta property=\"og:title\" content=\"Project Jupyter\" />\\n    <meta property=\"og:description\" content=\"The Jupyter Notebook is a web-based interactive computing platform. The notebook combines live code, equations, narrative text, visualizations, interactive dashboards and other media.\\n\">\\n    <meta property=\"og:url\" content=\"http://www.jupyter.org\" />\\n    <meta property=\"og:image\" content=\"http://jupyter.org/assets/homepage.png\" />\\n    <!-- Bootstrap Core CSS -->\\n    <script src=\"/cdn-cgi/apps/head/MuIIl4I_IVFkxldaVu1mdWee9as.js\"></script><link rel=\"stylesheet\" href=\"/css/bootstrap.min.css\">\\n    <link rel=\"stylesheet\" href=\"/css/logo-nav.css\">\\n    <link rel=\"stylesheet\" href=\"/c'"
      ]
     },
     "execution_count": 11,
     "metadata": {},
     "output_type": "execute_result"
    }
   ],
   "source": [
    "page_html[:1000]"
   ]
  },
  {
   "cell_type": "code",
   "execution_count": 12,
   "metadata": {},
   "outputs": [
    {
     "name": "stdout",
     "output_type": "stream",
     "text": [
      "<!DOCTYPE html>\n",
      "<html>\n",
      " <head>\n",
      "  <meta charset=\"utf-8\"/>\n",
      "  <meta content=\"IE=edge\" http-equiv=\"X-UA-Compatible\"/>\n",
      "  <meta content=\"width=device-width, initial-scale=1\" name=\"viewport\"/>\n",
      "  <meta content=\"\" name=\"description\"/>\n",
      "  <meta content=\"\" name=\"author\"/>\n",
      "  <title>\n",
      "   Project Jupyter | Home\n",
      "  </title>\n",
      "  <meta content=\"Project Jupyter\" property=\"og:title\">\n",
      "   <meta content=\"The Jupyter Notebook is a web-based interactive computing platform. The notebook combines live code, equations, narrative text, visualizations, interactive dashboards and other media.\n",
      "\" property=\"og:description\"/>\n",
      "   <meta content=\"http://www.jupyter.org\" property=\"og:url\">\n",
      "    <meta content=\"http://jupyter.org/assets/homepage.png\" property=\"og:image\">\n",
      "     <!-- Bootstrap Core CSS -->\n",
      "     <script src=\"/cdn-cgi/apps/head/MuIIl4I_IVFkxldaVu1mdWee9as.js\">\n",
      "     </script>\n",
      "     <link href=\"/css/bootstrap.min.css\" rel=\"stylesheet\"/>\n",
      "     <link href=\"/css/logo-nav.css\" rel=\"stylesheet\"/>\n",
      "     <link href=\"/css/cardlist.\n"
     ]
    }
   ],
   "source": [
    "from bs4 import BeautifulSoup\n",
    "print(BeautifulSoup(page_html, 'html.parser').prettify()[:1000])"
   ]
  },
  {
   "cell_type": "code",
   "execution_count": 13,
   "metadata": {
    "scrolled": false
   },
   "outputs": [
    {
     "data": {
      "text/html": [
       "<!DOCTYPE html>\n",
       "<html>\n",
       "\n",
       "  <head>\n",
       "\n",
       "    <meta charset=\"utf-8\">\n",
       "    <meta http-equiv=\"X-UA-Compatible\" content=\"IE=edge\">\n",
       "    <meta name=\"viewport\" content=\"width=device-width, initial-scale=1\">\n",
       "    <meta name=\"description\" content=\"\">\n",
       "    <meta name=\"author\" content=\"\">\n",
       "\n",
       "    <title>Project Jupyter | Home</title>\n",
       "    <meta property=\"og:title\" content=\"Project Jupyter\" />\n",
       "    <meta property=\"og:description\" content=\"The Jupyter Notebook is a web-based interactive computing platform. The notebook combines live code, equations, narrative text, visualizations, interactive dashboards and other media.\n",
       "\">\n",
       "    <meta property=\"og:url\" content=\"http://www.jupyter.org\" />\n",
       "    <meta property=\"og:image\" content=\"http://jupyter.org/assets/homepage.png\" />\n",
       "    <!-- Bootstrap Core CSS -->\n",
       "    <script src=\"/cdn-cgi/apps/head/MuIIl4I_IVFkxldaVu1mdWee9as.js\"></script><link rel=\"stylesheet\" href=\"/css/bootstrap.min.css\">\n",
       "    <link rel=\"stylesheet\" href=\"/css/logo-nav.css\">\n",
       "    <link rel=\"stylesheet\" href=\"/css/cardlist.css\">\n",
       "    <link rel=\"stylesheet\" href=\"/css/github-buttons.css\">\n",
       "    <link rel=\"icon\" type=\"image/png\" href=\"favicon.ico\" />\n",
       "    <link href=\"/assets/apple-touch-icon.png\" rel=\"apple-touch-icon\" />\n",
       "    <link href=\"/assets/apple-touch-icon-76x76.png\" rel=\"apple-touch-icon\" sizes=\"76x76\" />\n",
       "    <link href=\"/assets/apple-touch-icon-120x120.png\" rel=\"apple-touch-icon\" sizes=\"120x120\" />\n",
       "    <link href=\"/assets/apple-touch-icon-152x152.png\" rel=\"apple-touch-icon\" sizes=\"152x152\" />\n",
       "    <link href=\"/assets/apple-touch-icon-180x180.png\" rel=\"apple-touch-icon\" sizes=\"180x180\" />\n",
       "    <link href=\"/assets/icon-hires.png\" rel=\"icon\" sizes=\"192x192\" />\n",
       "    <link href=\"/assets/icon-normal.png\" rel=\"icon\" sizes=\"128x128\" />\n",
       "    <link rel=\"canonical\" href=\"http://jupyter.org/\">\n",
       "\n",
       "    <!-- HTML5 Shim and Respond.js IE8 support of HTML5 elements and media queries -->\n",
       "    <!-- WARNING: Respond.js doesn't work if you view the page via file:// -->\n",
       "    <!--[if lt IE 9]>\n",
       "        <script src=\"https://oss.maxcdn.com/libs/html5shiv/3.7.0/html5shiv.js\"></script>\n",
       "        <script src=\"https://oss.maxcdn.com/libs/respond.js/1.4.2/respond.min.js\"></script>\n",
       "    <![endif]-->\n",
       "    <script src=\"//use.typekit.net/kpd5yrh.js\"></script>\n",
       "    <script>try{Typekit.load();}catch(e){}</script>\n",
       "    <script>\n",
       "      (function(i,s,o,g,r,a,m){i['GoogleAnalyticsObject']=r;i[r]=i[r]||function(){\n",
       "      (i[r].q=i[r].q||[]).push(arguments)},i[r].l=1*new Date();a=s.createElement(o),\n",
       "      m=s.getElementsByTagName(o)[0];a.async=1;a.src=g;m.parentNode.insertBefore(a,m)\n",
       "      })(window,document,'script','//www.google-analytics.com/analytics.js','ga');\n",
       "\n",
       "      ga('create', 'UA-52617120-1', 'auto');\n",
       "      ga('send', 'pageview');\n",
       "\n",
       "    </script>\n",
       "    <script>console.log('Welcome to Project Jupyter! Explore the various tools available and their corresponding documentation. If you are interested in contributing to the platform, please visit the community resources section at http://jupyter.org/community.html.')</script>\n",
       "</head>\n",
       "\n",
       "\n",
       "  <body>\n",
       "\n",
       "    <nav class=\"navbar navbar-fixed-top\" role=\"navigation\" id=\"navbar\" >\n",
       "        <div class=\"navbar-inner\">\n",
       "        <div class=\"container\">\n",
       "            <!-- Brand and toggle get grouped for better mobile display -->\n",
       "            <div class=\"navbar-header\">\n",
       "                <button type=\"button\" class=\"navbar-toggle\" data-toggle=\"collapse\" data-target=\"#bs-example-navbar-collapse-1\">\n",
       "                    <span class=\"sr-only\">Toggle navigation</span>\n",
       "                    \n",
       "                      <span class=\"icon-bar white-icon-bar\"></span>\n",
       "                      <span class=\"icon-bar white-icon-bar\"></span>\n",
       "                      <span class=\"icon-bar white-icon-bar\"></span>\n",
       "                    \n",
       "                </button>\n",
       "                <a class=\"navbar-brand\" href=\"/index.html\">\n",
       "                    <img id=\"jupyter-nav-logo\" class=\"navbar-logo\" src=\"/assets/nav_logo.svg\" alt=\"Jupyter logo\">\n",
       "                </a>\n",
       "            </div>\n",
       "            <div class=\"blur\"></div>\n",
       "            <!-- Collect the nav links, forms, and other content for toggling -->\n",
       "            <div class=\"collapse navbar-collapse\" id=\"bs-example-navbar-collapse-1\">\n",
       "                <ul class=\"nav navbar-nav navbar-right\">\n",
       "                               <li>\n",
       "                                   <a href=\"/install\" class=\"tab\">Install</a>\n",
       "                               </li>\n",
       "                               <li>\n",
       "                                   <a href=\"/about\" class=\"tab\">About Us</a>\n",
       "                               </li>\n",
       "                               <li>\n",
       "                                   <a href=\"/community\" class=\"tab\">Community</a>\n",
       "                               </li>\n",
       "                               <li>\n",
       "                                   <a href=\"/documentation\" class=\"tab\">Documentation</a>\n",
       "                               </li>\n",
       "                               <li>\n",
       "                                 <a href=\"https://nbviewer.jupyter.org\" class=\"tab\" target=\"_blank\">NBViewer</a>\n",
       "                               </li>\n",
       "                               <li>\n",
       "                                   <a href=\"/widgets\" class=\"tab\">Widgets</a>\n",
       "                               </li>\n",
       "                               <li>\n",
       "                                 <a href=\"https://blog.jupyter.org\" class=\"tab\" target=\"_blank\">Blog</a>\n",
       "                               </li>\n",
       "                </ul>\n",
       "            </div>\n",
       "            <!-- /.navbar-collapse -->\n",
       "        </div>\n",
       "        <!-- /.container -->\n",
       "    </div>\n",
       "</nav>\n",
       "\n",
       "    <section>\n",
       "    <section>\n",
       "    <div class=\"jumbotron\">\n",
       "        <div class=\"row\">\n",
       "            <div class=\"col-md-12\">\n",
       "                <div class=\"img-container\">\n",
       "                    <span><img class=\"img-responsive fade-in one\" src=\"assets/circle1.svg\" alt=\"circle of programming language icons\"></span>\n",
       "                </div>\n",
       "                <div class=\"img-container\">\n",
       "                    <span><img class=\"img-responsive fade-in two\" src=\"assets/circle2.svg\" alt=\"circle of programming language icons\"></span>\n",
       "                </div>\n",
       "                <div class=\"img-container\">\n",
       "                    <span><img class=\"img-responsive fade-in three\" src=\"assets/circle3.svg\" alt=\"circle of programming language icons\"></span>\n",
       "                </div>\n",
       "                <div class=\"img-container\">\n",
       "                    <img class=\"img-responsive\" id=\"main-logo\" src=\"assets/main-logo.svg\" alt=\"jupyter logo\">\n",
       "                </div>\n",
       "                <img class=\"img-responsive\" src=\"assets/white-background.svg\" alt=\"white background\">\n",
       "            </div>\n",
       "        </div>\n",
       "    </div>\n",
       "    <div class=\"container\">\n",
       "        <div class=\"row\">\n",
       "            <div class=\"col-md-12\">\n",
       "                <div class=\"col-md-8 col-md-offset-2\">\n",
       "                <h4 class=\"jumbotron-text\">Project Jupyter exists to develop open-source software, open-standards, \n",
       "                    and services for interactive computing across dozens of programming languages.</h4>\n",
       "                </div>\n",
       "             </div>\n",
       "        </div>\n",
       "    </div>\n",
       "</section>\n",
       "\n",
       "<section>\n",
       "    <div class=\"jupytercon-section\">\n",
       "        <div class=\"container-fluid\">\n",
       "            <div class=\"row\">\n",
       "                <div class=\"col-xs-12\">\n",
       "                    <h2 class=\"jupytercon-header\">JupyterCon 2018</h2>\n",
       "                    <h3 class=\"jupytercon-subheader\">August 21 - 25</h3>\n",
       "                    <div class=\"jupytercon-button\">\n",
       "                        <a class=\"orange-button\" href=\"https://conferences.oreilly.com/jupyter/jup-ny?cmp=ex-data-confreg-home-jpny18_pj_site\" target=\"_blank\">Learn more</a>\n",
       "                    </div>\n",
       "                </div>\n",
       "            </div>\n",
       "        </div>\n",
       "    </div>\n",
       "</section>\n",
       "\n",
       "<section id=\"about-notebook\">\n",
       "    <div class=\"section-white\">\n",
       "        <div class=\"notebook-preview\">\n",
       "            <div class=\"container\">\n",
       "                <div class=\"row\">\n",
       "                    <div class=\"col-md-6\">\n",
       "                        <img class=\"img-responsive\" src=\"assets/jupyterpreview.png\" id=\"portal\" alt=\"example notebook of Lorenz differential equations\"/>\n",
       "                    </div>\n",
       "                    <div class=\"col-md-6 nb-highlight-text\">\n",
       "                        <h3>The Jupyter Notebook</h3>\n",
       "                        <h4 class=\"nb-desc\">The Jupyter Notebook is an open-source web application that allows you to create and share \n",
       "                            documents that contain live code, equations, visualizations and narrative text. Uses include: data cleaning \n",
       "                            and transformation, numerical simulation, statistical modeling, data visualization, machine learning, and much more.</h4>\n",
       "                    </div>\n",
       "                    <div>\n",
       "                        <a class=\"orange-button\" href=\"try\">Try it in your browser</a>\n",
       "                        <a class=\"orange-button install-button\" href=\"install.html\">Install the Notebook</a>\n",
       "                    </div>\n",
       "                </div>\n",
       "            </div>\n",
       "        </div>\n",
       "        <div class=\"notebook-features\">\n",
       "            <div class=\"container\">\n",
       "                <div class=\"row\">\n",
       "                    <div class=\"col-md-3 notebook-feature\">\n",
       "                        <img class=\"img-responsive language\" src=\"assets/language.svg\" id=\"feature\" alt=\"icon to represent a language\">\n",
       "                        <h4>Language of choice</h4>\n",
       "                        <p>The Notebook has support for over 40 programming languages, including Python, R, Julia, and Scala.</p>\n",
       "                    </div>\n",
       "                    <div class=\"col-md-3 notebook-feature\">\n",
       "                        <img class=\"img-responsive share\" src=\"assets/share.svg\" alt=\"icon to represent sharing a notebook\">\n",
       "                        <h4>Share notebooks</h4>\n",
       "                        <p> Notebooks can be shared with others using email, Dropbox, GitHub and the <a href=\"http://nbviewer.jupyter.org/\">Jupyter Notebook Viewer</a>.</p>\n",
       "                    </div>\n",
       "                    <div class=\"col-md-3 notebook-feature\">\n",
       "                        <img class=\"img-responsive widget\" src=\"assets/widget.svg\" alt=\"icon to represent an interactive widget\">\n",
       "                        <h4>Interactive output</h4>\n",
       "                        <p>Your code can produce rich, interactive output: HTML, images, videos, LaTeX, and custom MIME types.</p>\n",
       "                    </div>\n",
       "                    <div class=\"col-md-3 notebook-feature\">\n",
       "                        <img class=\"img-responsive data\" src=\"assets/spark.svg\" alt=\"spark logo to represent big data\">\n",
       "                        <h4> Big data integration</h4>\n",
       "                        <p>Leverage big data tools, such as Apache Spark, from Python, R and Scala. Explore that same data with pandas, scikit-learn, ggplot2, TensorFlow.</p>\n",
       "                    </div>\n",
       "                </div>\n",
       "            </div>\n",
       "        </div>\n",
       "    </div>\n",
       "</section>\n",
       "<section id=\"jupyterhub\">\n",
       "    <div class=\"section-grey\">\n",
       "        <div class=\"container\">\n",
       "            <div class=\"row\">\n",
       "            <div>\n",
       "                <div class=\"hublogo col-md-offset-4 col-md-4 col-md-offset-4\">\n",
       "                    <img src=\"assets/hublogo.svg\" class=\"img-responsive\" style=\"margin:0 auto;\" id=\"hublogo\" alt=\"jupyterhub logo\">\n",
       "                </div>\n",
       "                <div class=\"col-md-offset-3 col-md-6 col-md-offset-3\" style=\"margin-bottom:-36px\">\n",
       "                    <p style=\"padding-top:24px; text-align: center\">A multi-user version of the notebook designed for companies, classrooms and research labs</p>\n",
       "                </div>\n",
       "            </div>\n",
       "            <div class=\"hubfeatures col-md-12\">\n",
       "                <div class=\"feature1 hubfeature col-md-3 authentication\">\n",
       "                    <img src=\"assets/authentication.svg\" class=\"img-responsive\" alt=\"authentication icon\">\n",
       "                    <h4>Pluggable authentication</h4>\n",
       "                    <p>Manage users and authentication with PAM, OAuth or integrate with your own directory service system.</p>\n",
       "                </div>\n",
       "                <div class=\"feature-middle hubfeature col-md-3\">\n",
       "                    <img src=\"assets/central.svg\" class=\"img-responsive\" alt=\"icon to represent centralized deployment\">\n",
       "                    <h4>Centralized deployment</h4>\n",
       "                    <p>Deploy the Jupyter Notebook to thousands of users in your organization on centralized infrastructure on- or off-site.</p>\n",
       "                </div>\n",
       "                <div class=\"feature-middle hubfeature col-md-3\">\n",
       "                    <img src=\"assets/container.svg\" class=\"img-responsive\" alt=\"container icon\">\n",
       "                    <h4>Container friendly</h4>\n",
       "                    <p>Use Docker and Kubernetes to scale your deployment, isolate user processes, and simplify software installation.</p>\n",
       "                </div>\n",
       "                <div class=\"feature4 hubfeature col-md-3\">\n",
       "                    <img src=\"assets/data.svg\" class=\"img-responsive\" id=\"data\" alt=\"icon to represent data\">\n",
       "                    <h4>Code meets data</h4>\n",
       "                    <p>Deploy the Notebook next to your data to provide unified software management and data access within your organization.</p>\n",
       "                </div>\n",
       "            </div>\n",
       "            <div class=\"col-md-12\" style=\"text-align: center; margin-top: 24px;\">\n",
       "                <a class=\"orange-button\" href=\"https://github.com/jupyter/jupyterhub\">Learn more about JupyterHub</a>\n",
       "            </div>\n",
       "            </div>\n",
       "        </div>\n",
       "    </div>\n",
       "</section>\n",
       "<section id=\"current-use\">\n",
       "    <div class=\"section-white\">\n",
       "        <div class=\"container\">\n",
       "            <div class=\"row\">\n",
       "                <h3 class=\"section-header\">Currently in use at</h3>\n",
       "                <ul class=\"companies\">\n",
       "                    <li class=\"col\"><a href=\"http://www.google.com\"><img src=\"assets/google.svg\" class=\"greydout\" alt=\"Google\"></a></li>\n",
       "                    <li class=\"col\"><a href=\"http://www.microsoft.com\"><img src=\"assets/Microsoft.svg\" class=\"greydout\" alt=\"Microsoft\"></a></li>\n",
       "                    <li class=\"col\"><a href=\"http://www.ibm.com\"><img src=\"assets/IBM.svg\" class=\"greydout\" alt=\"IBM\"></a></li>\n",
       "                    <li class=\"col\"><a href=\"http://www.bloomberg.com\"><img src=\"assets/bloomberg.svg\" class=\"greydout\" alt=\"Bloomberg\"></a></li>\n",
       "                    <li class=\"col\"><a href=\"http://www.oreilly.com\"><img src=\"assets/oreilly.svg\" class=\"greydout\" alt=\"OReilly\"></a></li>\n",
       "                    <li class=\"col\"><a href=\"https://www.anaconda.com/\"><img src=\"assets/anaconda.svg\" class=\"greydout\" alt=\"Anaconda\"></a></li>\n",
       "                    <li class=\"col\"><a href=\"http://developer.rackspace.com\"><img src=\"assets/rackspace.svg\" class=\"greydout\" alt=\"Rackspace\"></a></li>\n",
       "                    <li class=\"col\"><a href=\"http://www.soundcloud.com\"><img src=\"assets/soundcloud.svg\" class=\"greydout\" alt=\"SoundCloud\"></a></li>\n",
       "                    <li class=\"col\"><a href=\"https://www.quantopian.com/\"><img src=\"assets/quantopian.svg\" class=\"greydout\" alt=\"Quantopian\"></a></li>\n",
       "                    <li class=\"col\"><a href=\"http://www.netapp.com/us/\"><img src=\"assets/netapp.svg\" class=\"greydout\" alt=\"NetApp\"></a></li>\n",
       "                    <li class=\"col\"><a href=\"http://software-carpentry.org\"><img src=\"assets/carpentry.svg\" class=\"greydout\" alt=\"Carpentry\"></a></li>\n",
       "                    <li class=\"col\"><a href=\"https://www.janelia.org/\"><img src=\"assets/janelia.svg\" class=\"greydout\" alt=\"Janelia\"></a></li>\n",
       "                    <li class=\"col\"><a href=\"http://codeneuro.org/\"><img src=\"assets/codeneuro.svg\" class=\"greydout\" alt=\"CodeNeuro\"></a></li>\n",
       "                    <li class=\"col\"><a href=\"\"><img src=\"assets/nsite.svg\" class=\"greydout\" alt=\"NSite\"></a></li>\n",
       "                    <li class=\"col\"><a href=\"https://cocalc.com/\"><img src=\"assets/cocalc.svg\" class=\"greydout\" alt=\"CoCalc\"></a></li>\n",
       "                    <li class=\"col\"><a href=\"https://www.brynmawr.edu\"><img src=\"assets/brynmawr.svg\" class=\"greydout\" alt=\"BrynMawr\"></a></li>\n",
       "                    <li class=\"col\"><a href=\"http://www.calpoly.edu\"><img src=\"assets/calpoly.svg\" class=\"greydout\" alt=\"CalPoly\"></a></li>\n",
       "                    <li class=\"col\"><a href=\"http://www.berkeley.edu\"><img src=\"assets/Berkeley.svg\" class=\"greydout\" alt=\"Berkeley\"></a></li>\n",
       "                    <li class=\"col\"><a href=\"http://www.sheffield.ac.uk/\"><img src=\"assets/sheffield.svg\" class=\"greydout\" alt=\"Sheffield\"></a></li>\n",
       "                    <li class=\"col\"><a href=\"http://www.gwu.edu/\"><img src=\"assets/washington.svg\" class=\"greydout\" alt=\"Washington\"></a></li>\n",
       "                    <li class=\"col\"><a href=\"http://www.clemson.edu/\"><img src=\"assets/clemson.svg\" class=\"greydout\" alt=\"Clemson\"></a></li>\n",
       "                    <li class=\"col\"><a href=\"https://msu.edu/\"><img src=\"assets/michigan-state.svg\" class=\"greydout\" alt=\"Michigan State University\"></a></li>\n",
       "                    <li class=\"col\"><a href=\"http://www.northwestern.edu/\"><img src=\"assets/northwestern.svg\" class=\"greydout\" alt=\"Northwestern University\"></a></li>\n",
       "                    <li class=\"col\"><a href=\"http://www.nyu.edu\"><img src=\"assets/NYU.svg\" class=\"greydout\" alt=\"NYU\"></a></li>\n",
       "                    <li class=\"col\"><a href=\"http://www.nasa.gov\"><img src=\"assets/NASA.svg\" class=\"greydout\" alt=\"NASA\"></a></li>\n",
       "                    <li class=\"col\"><a href=\"http://ayasdi.com\"><img src=\"assets/ayasdi.svg\" class=\"greydout\" alt=\"Ayasdi\"></a></li>\n",
       "                    <li class=\"col\"><a href=\"https://www.thedataincubator.com\"><img src=\"assets/tdi.svg\" class=\"greydout\" alt=\"The Data Incubator\"></a></li>\n",
       "                </ul>\n",
       "            </div>\n",
       "        </div>\n",
       "    </div>\n",
       "</section>\n",
       "<section id=\"architecture\">\n",
       "    <div class=\"section-grey\">\n",
       "        <div class=\"container\">\n",
       "            <div class=\"architecturedescription\">\n",
       "                <img src=\"assets/architectureicon2.svg\" class=\"section-icon\" alt=\"icon to represent jupyter architecture\">\n",
       "                <h3 class=\"section-header\">Open Standards for Interactive Computing</h3>\n",
       "                <h4 class=\"support-paragraph\">The Jupyter Notebook is based on a set of open standards for interactive computing. Think HTML and CSS for interactive computing on the web. These open standards can be leveraged by third party developers to build customized applications with embedded interactive computing.</h4>\n",
       "            </div>\n",
       "            <div class=\"architecturecontent row col-md-12\">\n",
       "                <div class=\"card col-md-4\">\n",
       "                    <div class=\"arcfeature\" id=\"arcfeature1\">\n",
       "                        <div class=\"container\">\n",
       "                            <div class=\"front\">\n",
       "                                <img src=\"assets/notebook-format.svg\" alt=\"icon to represent notebook format\">\n",
       "                                <a class=\"arc-button bt\">Learn more</a>\n",
       "                            </div>\n",
       "                            <div class=\"front flipped content-back\">\n",
       "                                <h3>The Notebook Document Format</h3>\n",
       "                                <p id=\"document\">Jupyter Notebooks are an open document format based on JSON. They contain a complete record of the user's sessions and include code, narrative text, equations and rich output. </p>\n",
       "                                <a class=\"arc-button bt\">Go back</a>\n",
       "                            </div>\n",
       "                        </div>\n",
       "                    </div>\n",
       "                </div>\n",
       "                <div class=\"card col-md-4\">\n",
       "                    <div class=\"arcfeature\" id=\"protocol\">\n",
       "                        <div class=\"container\">\n",
       "                            <div class=\"front2\">\n",
       "                                <img src=\"assets/protocol.svg\" alt=\"icon to represent a protocol\">\n",
       "                                <a class=\"arc-button bt1\">Learn more</a>\n",
       "                            </div>\n",
       "                            <div class=\"front2 flipped content-back\">\n",
       "                                <h3>Interactive Computing Protocol</h3>\n",
       "                                <p>The Notebook communicates with computational Kernels using the Interactive Computing Protocol, an open network protocol based on JSON data over ZMQ and WebSockets.</p>\n",
       "                                <a class=\"arc-button bt1\">Go back</a>\n",
       "                            </div>\n",
       "                        </div>\n",
       "                    </div>\n",
       "                </div>\n",
       "                <div class=\"card col-md-4\">\n",
       "                    <div class=\"arcfeature\" id=\"kernel\">\n",
       "                        <div class=\"container\">\n",
       "                            <div class=\"front3\">\n",
       "                                <img src=\"assets/kernel.svg\" alt=\"icon that looks like a terminal represents kernel\">\n",
       "                                <a class=\"arc-button bt2\">Learn more</a>\n",
       "                            </div>\n",
       "                            <div class=\"front3 flipped content-back\">\n",
       "                                <h3>Kernels</h3>\n",
       "                                <p id=\"block3\">Kernels are processes that run interactive code in a particular programming language and return output to the user. Kernels also respond to tab completion and introspection requests.</p>\n",
       "                                <a class=\"arc-button bt2\">Go back</a>\n",
       "                            </div>\n",
       "                        </div>\n",
       "                    </div>\n",
       "                </div>\n",
       "            </div>\n",
       "        </div>\n",
       "    </div>\n",
       "</section>\n",
       "\n",
       "    </section>\n",
       "\n",
       "    <footer>\n",
       "    <div class=\"footer\" role=\"navigation\">\n",
       "        <div class=\"container\">\n",
       "            <div class=\"navbar-text\">\n",
       "                <ul class=\"footer-text\">\n",
       "                    <li><a href=\"/index.html\">Home</a></li>\n",
       "                               <li><a href=\"/install\">Install</a></li>\n",
       "                               <li><a href=\"/about\">About Us</a></li>\n",
       "                               <li><a href=\"/community\">Community</a></li>\n",
       "                               <li><a href=\"/documentation\">Documentation</a></li>\n",
       "                               <li><a href=\"https://nbviewer.jupyter.org\" target=\"_blank\">NBViewer</a></li>\n",
       "                               <li><a href=\"/widgets\">Widgets</a></li>\n",
       "                               <li><a href=\"https://blog.jupyter.org\" target=\"_blank\">Blog</a></li>\n",
       "                    <!--2018-03-16 02:51:45 +0000-->\n",
       "                </ul>\n",
       "                <p>Copyright © 2018  Project Jupyter –\n",
       "                Last updated Fri, Mar 16, 2018</p>\n",
       "                <p>The Jupyter Trademark is registered with the U.S. Patent &amp; Trademark Office.</p>\n",
       "            </div>\n",
       "            <div class=\"follow\">\n",
       "                <a href=\"https://github.com/jupyter\" class=\"button github-button\" aria-label=\"Follow @jupyter on GitHub\"><svg version=\"1.1\" width=\"14\" height=\"14\" viewBox=\"0 0 16 16\" class=\"octicon octicon-mark-github\" aria-hidden=\"true\"><path fill-rule=\"evenodd\" d=\"M8 0C3.58 0 0 3.58 0 8c0 3.54 2.29 6.53 5.47 7.59.4.07.55-.17.55-.38 0-.19-.01-.82-.01-1.49-2.01.37-2.53-.49-2.69-.94-.09-.23-.48-.94-.82-1.13-.28-.15-.68-.52-.01-.53.63-.01 1.08.58 1.23.82.72 1.21 1.87.87 2.33.66.07-.52.28-.87.51-1.07-1.78-.2-3.64-.89-3.64-3.95 0-.87.31-1.59.82-2.15-.08-.2-.36-1.02.08-2.12 0 0 .67-.21 2.2.82.64-.18 1.32-.27 2-.27.68 0 1.36.09 2 .27 1.53-1.04 2.2-.82 2.2-.82.44 1.1.16 1.92.08 2.12.51.56.82 1.27.82 2.15 0 3.07-1.87 3.75-3.65 3.95.29.25.54.73.54 1.48 0 1.07-.01 1.93-.01 2.2 0 .21.15.46.55.38A8.013 8.013 0 0 0 16 8c0-4.42-3.58-8-8-8z\"></path></svg> <span>Follow @jupyter</span></a>\n",
       "                <br><a href=\"https://twitter.com/ProjectJupyter\" class=\"twitter-follow-button\" data-show-count=\"false\">Follow @ProjectJupyter</a>\n",
       "            </div>\n",
       "        </div>\n",
       "    </div>\n",
       "</footer>\n",
       "\n",
       "    <!-- jQuery -->\n",
       "    <script src=\"/js/jquery.js\"></script>\n",
       "\n",
       "    <!-- Bootstrap Core JavaScript -->\n",
       "    <script src=\"/js/bootstrap.min.js\"></script>\n",
       "    <script src=\"/js/architecture.js\"></script>\n",
       "    <script src=\"/js/simon.js\"></script>\n",
       "    <script>!function(d,s,id){var js,fjs=d.getElementsByTagName(s)[0],p=/^http:/.test(d.location)?'http':'https';if(!d.getElementById(id)){js=d.createElement(s);js.id=id;js.src=p+'://platform.twitter.com/widgets.js';fjs.parentNode.insertBefore(js,fjs);}}(document, 'script', 'twitter-wjs');</script>\n",
       "\n",
       "\n",
       "  </body>\n",
       "\n",
       "</html>\n"
      ],
      "text/plain": [
       "<IPython.core.display.HTML object>"
      ]
     },
     "execution_count": 13,
     "metadata": {},
     "output_type": "execute_result"
    }
   ],
   "source": [
    "from IPython.display import HTML\n",
    "HTML(page_html)"
   ]
  },
  {
   "cell_type": "code",
   "execution_count": 14,
   "metadata": {},
   "outputs": [
    {
     "data": {
      "text/html": [
       "\n",
       "        <iframe\n",
       "            width=\"800\"\n",
       "            height=\"800\"\n",
       "            src=\"https://jupyter.org/\"\n",
       "            frameborder=\"0\"\n",
       "            allowfullscreen\n",
       "        ></iframe>\n",
       "        "
      ],
      "text/plain": [
       "<IPython.lib.display.IFrame at 0x1109e2470>"
      ]
     },
     "execution_count": 14,
     "metadata": {},
     "output_type": "execute_result"
    }
   ],
   "source": [
    "from IPython.display import IFrame\n",
    "IFrame(src=url, height=800, width=800)"
   ]
  },
  {
   "cell_type": "code",
   "execution_count": 15,
   "metadata": {},
   "outputs": [
    {
     "data": {
      "text/plain": [
       "<Response [200]>"
      ]
     },
     "execution_count": 15,
     "metadata": {},
     "output_type": "execute_result"
    }
   ],
   "source": [
    "# Easier way to make a GET request\n",
    "\n",
    "url = 'http://www.python.org/'\n",
    "page = requests.get(url)\n",
    "page"
   ]
  },
  {
   "cell_type": "code",
   "execution_count": 16,
   "metadata": {},
   "outputs": [
    {
     "data": {
      "text/plain": [
       "'https://www.python.org/'"
      ]
     },
     "execution_count": 16,
     "metadata": {},
     "output_type": "execute_result"
    }
   ],
   "source": [
    "page.url"
   ]
  },
  {
   "cell_type": "code",
   "execution_count": 17,
   "metadata": {},
   "outputs": [
    {
     "data": {
      "text/plain": [
       "[<Response [301]>]"
      ]
     },
     "execution_count": 17,
     "metadata": {},
     "output_type": "execute_result"
    }
   ],
   "source": [
    "page.history"
   ]
  },
  {
   "cell_type": "markdown",
   "metadata": {},
   "source": [
    "---\n",
    "### Subtopic B: Parsing HTML with Python\n",
    "---"
   ]
  },
  {
   "cell_type": "code",
   "execution_count": 18,
   "metadata": {},
   "outputs": [
    {
     "name": "stdout",
     "output_type": "stream",
     "text": [
      "https://en.wikipedia.org/wiki/List_of_countries_by_central_bank_interest_rates 200\n"
     ]
    }
   ],
   "source": [
    "# Request the Wiki page\n",
    "\n",
    "url = 'https://en.wikipedia.org/wiki/List_of_countries_by_central_bank_interest_rates'\n",
    "page = requests.get(url)\n",
    "print(page.url, page.status_code)"
   ]
  },
  {
   "cell_type": "code",
   "execution_count": 19,
   "metadata": {
    "collapsed": true
   },
   "outputs": [],
   "source": [
    "# Load the HTML as a Beautiful Soup object\n",
    "\n",
    "from bs4 import BeautifulSoup\n",
    "soup = BeautifulSoup(page.content, 'html.parser')"
   ]
  },
  {
   "cell_type": "code",
   "execution_count": 20,
   "metadata": {
    "scrolled": false
   },
   "outputs": [
    {
     "data": {
      "text/plain": [
       "\u001b[0;33mattribute access:\u001b[0;m\n",
       "    \u001b[0;36m__delattr__\u001b[0;m\u001b[1;30m, \u001b[0;m\u001b[0;36m__dir__\u001b[0;m\u001b[1;30m, \u001b[0;m\u001b[0;36m__getattr__\u001b[0;m\u001b[1;30m, \u001b[0;m\u001b[0;36m__getattribute__\u001b[0;m\u001b[1;30m, \u001b[0;m\u001b[0;36m__setattr__\u001b[0;m\n",
       "\u001b[0;33mclass customization:\u001b[0;m\n",
       "    \u001b[0;36m__subclasshook__\u001b[0;m\n",
       "\u001b[0;33mcopy:\u001b[0;m\n",
       "    \u001b[0;36m__copy__\u001b[0;m\n",
       "\u001b[0;33memulating container:\u001b[0;m\n",
       "    \u001b[0;36m__contains__\u001b[0;m\u001b[1;30m, \u001b[0;m\u001b[0;36m__delitem__\u001b[0;m\u001b[1;30m, \u001b[0;m\u001b[0;36m__getitem__\u001b[0;m\u001b[1;30m, \u001b[0;m\u001b[0;36m__iter__\u001b[0;m\u001b[1;30m, \u001b[0;m\u001b[0;36m__len__\u001b[0;m\u001b[1;30m, \u001b[0;m\u001b[0;36m__setitem__\u001b[0;m\n",
       "\u001b[0;33mobject customization:\u001b[0;m\n",
       "    \u001b[0;36m__bool__\u001b[0;m\u001b[1;30m, \u001b[0;m\u001b[0;36m__format__\u001b[0;m\u001b[1;30m, \u001b[0;m\u001b[0;36m__hash__\u001b[0;m\u001b[1;30m, \u001b[0;m\u001b[0;36m__init__\u001b[0;m\u001b[1;30m, \u001b[0;m\u001b[0;36m__new__\u001b[0;m\u001b[1;30m, \u001b[0;m\u001b[0;36m__repr__\u001b[0;m\u001b[1;30m, \u001b[0;m\u001b[0;36m__sizeof__\u001b[0;m\u001b[1;30m, \u001b[0;m\u001b[0;36m__str__\u001b[0;m\n",
       "\u001b[0;33mother:\u001b[0;m\n",
       "    \u001b[0;36mASCII_SPACES\u001b[0;m\u001b[1;30m, \u001b[0;m\u001b[0;36mDEFAULT_BUILDER_FEATURES\u001b[0;m\u001b[1;30m, \u001b[0;m\u001b[0;36mHTML_FORMATTERS\u001b[0;m\u001b[1;30m, \u001b[0;m\u001b[0;36mNO_PARSER_SPECIFIED_WARNING\u001b[0;m\u001b[1;30m, \u001b[0;m\u001b[0;36mROOT_TAG_NAME\u001b[0;m\u001b[1;30m, \u001b[0;m\u001b[0;36mXML_FORMATTERS\u001b[0;m\u001b[1;30m, \u001b[0;m\u001b[0;36m_is_xml\u001b[0;m\u001b[1;30m, \u001b[0;m\u001b[0;36m_most_recent_element\u001b[0;m\u001b[1;30m, \u001b[0;m\u001b[0;36m_select_debug\u001b[0;m\u001b[1;30m, \u001b[0;m\u001b[0;36m_selector_combinators\u001b[0;m\u001b[1;30m, \u001b[0;m\u001b[0;36mattribselect_re\u001b[0;m\u001b[1;30m, \u001b[0;m\u001b[0;36mattrs\u001b[0;m\u001b[1;30m, \u001b[0;m\u001b[0;36mbuilder\u001b[0;m\u001b[1;30m, \u001b[0;m\u001b[0;36mcan_be_empty_element\u001b[0;m\u001b[1;30m, \u001b[0;m\u001b[0;36mchildren\u001b[0;m\u001b[1;30m, \u001b[0;m\u001b[0;36mcontains_replacement_characters\u001b[0;m\u001b[1;30m, \u001b[0;m\u001b[0;36mcontents\u001b[0;m\u001b[1;30m, \u001b[0;m\u001b[0;36mcurrentTag\u001b[0;m\u001b[1;30m, \u001b[0;m\u001b[0;36mcurrent_data\u001b[0;m\u001b[1;30m, \u001b[0;m\u001b[0;36mdeclared_html_encoding\u001b[0;m\u001b[1;30m, \u001b[0;m\u001b[0;36mdescendants\u001b[0;m\u001b[1;30m, \u001b[0;m\u001b[0;36mhidden\u001b[0;m\u001b[1;30m, \u001b[0;m\u001b[0;36misSelfClosing\u001b[0;m\u001b[1;30m, \u001b[0;m\u001b[0;36mis_empty_element\u001b[0;m\u001b[1;30m, \u001b[0;m\u001b[0;36mis_xml\u001b[0;m\u001b[1;30m, \u001b[0;m\u001b[0;36mknown_xml\u001b[0;m\u001b[1;30m, \u001b[0;m\u001b[0;36mmarkup\u001b[0;m\u001b[1;30m, \u001b[0;m\u001b[0;36mname\u001b[0;m\u001b[1;30m, \u001b[0;m\u001b[0;36mnamespace\u001b[0;m\u001b[1;30m, \u001b[0;m\u001b[0;36mnext\u001b[0;m\u001b[1;30m, \u001b[0;m\u001b[0;36mnextSibling\u001b[0;m\u001b[1;30m, \u001b[0;m\u001b[0;36mnext_element\u001b[0;m\u001b[1;30m, \u001b[0;m\u001b[0;36mnext_elements\u001b[0;m\u001b[1;30m, \u001b[0;m\u001b[0;36mnext_sibling\u001b[0;m\u001b[1;30m, \u001b[0;m\u001b[0;36mnext_siblings\u001b[0;m\u001b[1;30m, \u001b[0;m\u001b[0;36moriginal_encoding\u001b[0;m\u001b[1;30m, \u001b[0;m\u001b[0;36mparent\u001b[0;m\u001b[1;30m, \u001b[0;m\u001b[0;36mparents\u001b[0;m\u001b[1;30m, \u001b[0;m\u001b[0;36mparse_only\u001b[0;m\u001b[1;30m, \u001b[0;m\u001b[0;36mprefix\u001b[0;m\u001b[1;30m, \u001b[0;m\u001b[0;36mpreserve_whitespace_tag_stack\u001b[0;m\u001b[1;30m, \u001b[0;m\u001b[0;36mpreserve_whitespace_tags\u001b[0;m\u001b[1;30m, \u001b[0;m\u001b[0;36mprevious\u001b[0;m\u001b[1;30m, \u001b[0;m\u001b[0;36mpreviousSibling\u001b[0;m\u001b[1;30m, \u001b[0;m\u001b[0;36mprevious_element\u001b[0;m\u001b[1;30m, \u001b[0;m\u001b[0;36mprevious_elements\u001b[0;m\u001b[1;30m, \u001b[0;m\u001b[0;36mprevious_sibling\u001b[0;m\u001b[1;30m, \u001b[0;m\u001b[0;36mprevious_siblings\u001b[0;m\u001b[1;30m, \u001b[0;m\u001b[0;36mquoted_colon\u001b[0;m\u001b[1;30m, \u001b[0;m\u001b[0;36mstring\u001b[0;m\u001b[1;30m, \u001b[0;m\u001b[0;36mstrings\u001b[0;m\u001b[1;30m, \u001b[0;m\u001b[0;36mstripped_strings\u001b[0;m\u001b[1;30m, \u001b[0;m\u001b[0;36mtagStack\u001b[0;m\u001b[1;30m, \u001b[0;m\u001b[0;36mtag_name_re\u001b[0;m\u001b[1;30m, \u001b[0;m\u001b[0;36mtext\u001b[0;m\n",
       "\u001b[0;33mpickle:\u001b[0;m\n",
       "    \u001b[0;36m__getstate__\u001b[0;m\u001b[1;30m, \u001b[0;m\u001b[0;36m__reduce__\u001b[0;m\u001b[1;30m, \u001b[0;m\u001b[0;36m__reduce_ex__\u001b[0;m\n",
       "\u001b[0;33mrich comparison:\u001b[0;m\n",
       "    \u001b[0;36m__eq__\u001b[0;m\u001b[1;30m, \u001b[0;m\u001b[0;36m__ge__\u001b[0;m\u001b[1;30m, \u001b[0;m\u001b[0;36m__gt__\u001b[0;m\u001b[1;30m, \u001b[0;m\u001b[0;36m__le__\u001b[0;m\u001b[1;30m, \u001b[0;m\u001b[0;36m__lt__\u001b[0;m\u001b[1;30m, \u001b[0;m\u001b[0;36m__ne__\u001b[0;m\n",
       "\u001b[0;33mspecial attribute:\u001b[0;m\n",
       "    \u001b[0;36m__class__\u001b[0;m\u001b[1;30m, \u001b[0;m\u001b[0;36m__dict__\u001b[0;m\u001b[1;30m, \u001b[0;m\u001b[0;36m__doc__\u001b[0;m\u001b[1;30m, \u001b[0;m\u001b[0;36m__module__\u001b[0;m\u001b[1;30m, \u001b[0;m\u001b[0;36m__weakref__\u001b[0;m\n",
       "\u001b[0;33mclass:\u001b[0;m\n",
       "    \u001b[0;36mparserClass:\u001b[0;m \u001b[1;30mThis class defines the basic interface called by the tree builders.\u001b[0;m\n",
       "    \u001b[0;36mparser_class:\u001b[0;m \u001b[1;30mThis class defines the basic interface called by the tree builders.\u001b[0;m\n",
       "\u001b[0;33mfunction:\u001b[0;m\n",
       "    \u001b[0;36m__unicode__:\u001b[0;m \u001b[1;30m\u001b[0;m\n",
       "    \u001b[0;36m_all_strings:\u001b[0;m \u001b[1;30mYield all strings of certain classes, possibly stripping them.\u001b[0;m\n",
       "    \u001b[0;36m_attr_value_as_string:\u001b[0;m \u001b[1;30mForce an attribute value into a string representation.\u001b[0;m\n",
       "    \u001b[0;36m_attribute_checker:\u001b[0;m \u001b[1;30mCreate a function that performs a CSS selector operation.\u001b[0;m\n",
       "    \u001b[0;36m_check_markup_is_url:\u001b[0;m \u001b[1;30mCheck if markup looks like it's actually a url and raise a warning \u001b[0;m\n",
       "    \u001b[0;36m_feed:\u001b[0;m \u001b[1;30m\u001b[0;m\n",
       "    \u001b[0;36m_find_all:\u001b[0;m \u001b[1;30mIterates over a generator looking for things that match.\u001b[0;m\n",
       "    \u001b[0;36m_find_one:\u001b[0;m \u001b[1;30m\u001b[0;m\n",
       "    \u001b[0;36m_formatter_for_name:\u001b[0;m \u001b[1;30mLook up a formatter function based on its name and the tree.\u001b[0;m\n",
       "    \u001b[0;36m_lastRecursiveChild:\u001b[0;m \u001b[1;30mFinds the last element beneath this object to be parsed.\u001b[0;m\n",
       "    \u001b[0;36m_last_descendant:\u001b[0;m \u001b[1;30mFinds the last element beneath this object to be parsed.\u001b[0;m\n",
       "    \u001b[0;36m_popToTag:\u001b[0;m \u001b[1;30mPops the tag stack up to and including the most recent\u001b[0;m\n",
       "    \u001b[0;36m_should_pretty_print:\u001b[0;m \u001b[1;30mShould this tag be pretty-printed?\u001b[0;m\n",
       "    \u001b[0;36m_tag_name_matches_and:\u001b[0;m \u001b[1;30m\u001b[0;m\n",
       "    \u001b[0;36mappend:\u001b[0;m \u001b[1;30mAppends the given tag to the contents of this tag.\u001b[0;m\n",
       "    \u001b[0;36mchildGenerator:\u001b[0;m \u001b[1;30m\u001b[0;m\n",
       "    \u001b[0;36mclear:\u001b[0;m \u001b[1;30mExtract all children. If decompose is True, decompose instead.\u001b[0;m\n",
       "    \u001b[0;36mdecode:\u001b[0;m \u001b[1;30mReturns a string or Unicode representation of this document.\u001b[0;m\n",
       "    \u001b[0;36mdecode_contents:\u001b[0;m \u001b[1;30mRenders the contents of this tag as a Unicode string.\u001b[0;m\n",
       "    \u001b[0;36mdecompose:\u001b[0;m \u001b[1;30mRecursively destroys the contents of this tree.\u001b[0;m\n",
       "    \u001b[0;36mencode:\u001b[0;m \u001b[1;30m\u001b[0;m\n",
       "    \u001b[0;36mencode_contents:\u001b[0;m \u001b[1;30mRenders the contents of this tag as a bytestring.\u001b[0;m\n",
       "    \u001b[0;36mendData:\u001b[0;m \u001b[1;30m\u001b[0;m\n",
       "    \u001b[0;36mextract:\u001b[0;m \u001b[1;30mDestructively rips this element out of the tree.\u001b[0;m\n",
       "    \u001b[0;36mfetchNextSiblings:\u001b[0;m \u001b[1;30mReturns the siblings of this Tag that match the given\u001b[0;m\n",
       "    \u001b[0;36mfetchParents:\u001b[0;m \u001b[1;30mReturns the parents of this Tag that match the given\u001b[0;m\n",
       "    \u001b[0;36mfetchPrevious:\u001b[0;m \u001b[1;30mReturns all items that match the given criteria and appear\u001b[0;m\n",
       "    \u001b[0;36mfetchPreviousSiblings:\u001b[0;m \u001b[1;30mReturns the siblings of this Tag that match the given\u001b[0;m\n",
       "    \u001b[0;36mfind:\u001b[0;m \u001b[1;30mReturn only the first child of this Tag matching the given\u001b[0;m\n",
       "    \u001b[0;36mfindAll:\u001b[0;m \u001b[1;30mExtracts a list of Tag objects that match the given\u001b[0;m\n",
       "    \u001b[0;36mfindAllNext:\u001b[0;m \u001b[1;30mReturns all items that match the given criteria and appear\u001b[0;m\n",
       "    \u001b[0;36mfindAllPrevious:\u001b[0;m \u001b[1;30mReturns all items that match the given criteria and appear\u001b[0;m\n",
       "    \u001b[0;36mfindChild:\u001b[0;m \u001b[1;30mReturn only the first child of this Tag matching the given\u001b[0;m\n",
       "    \u001b[0;36mfindChildren:\u001b[0;m \u001b[1;30mExtracts a list of Tag objects that match the given\u001b[0;m\n",
       "    \u001b[0;36mfindNext:\u001b[0;m \u001b[1;30mReturns the first item that matches the given criteria and\u001b[0;m\n",
       "    \u001b[0;36mfindNextSibling:\u001b[0;m \u001b[1;30mReturns the closest sibling to this Tag that matches the\u001b[0;m\n",
       "    \u001b[0;36mfindNextSiblings:\u001b[0;m \u001b[1;30mReturns the siblings of this Tag that match the given\u001b[0;m\n",
       "    \u001b[0;36mfindParent:\u001b[0;m \u001b[1;30mReturns the closest parent of this Tag that matches the given\u001b[0;m\n",
       "    \u001b[0;36mfindParents:\u001b[0;m \u001b[1;30mReturns the parents of this Tag that match the given\u001b[0;m\n",
       "    \u001b[0;36mfindPrevious:\u001b[0;m \u001b[1;30mReturns the first item that matches the given criteria and\u001b[0;m\n",
       "    \u001b[0;36mfindPreviousSibling:\u001b[0;m \u001b[1;30mReturns the closest sibling to this Tag that matches the\u001b[0;m\n",
       "    \u001b[0;36mfindPreviousSiblings:\u001b[0;m \u001b[1;30mReturns the siblings of this Tag that match the given\u001b[0;m\n",
       "    \u001b[0;36mfind_all:\u001b[0;m \u001b[1;30mExtracts a list of Tag objects that match the given\u001b[0;m\n",
       "    \u001b[0;36mfind_all_next:\u001b[0;m \u001b[1;30mReturns all items that match the given criteria and appear\u001b[0;m\n",
       "    \u001b[0;36mfind_all_previous:\u001b[0;m \u001b[1;30mReturns all items that match the given criteria and appear\u001b[0;m\n",
       "    \u001b[0;36mfind_next:\u001b[0;m \u001b[1;30mReturns the first item that matches the given criteria and\u001b[0;m\n",
       "    \u001b[0;36mfind_next_sibling:\u001b[0;m \u001b[1;30mReturns the closest sibling to this Tag that matches the\u001b[0;m\n",
       "    \u001b[0;36mfind_next_siblings:\u001b[0;m \u001b[1;30mReturns the siblings of this Tag that match the given\u001b[0;m\n",
       "    \u001b[0;36mfind_parent:\u001b[0;m \u001b[1;30mReturns the closest parent of this Tag that matches the given\u001b[0;m\n",
       "    \u001b[0;36mfind_parents:\u001b[0;m \u001b[1;30mReturns the parents of this Tag that match the given\u001b[0;m\n",
       "    \u001b[0;36mfind_previous:\u001b[0;m \u001b[1;30mReturns the first item that matches the given criteria and\u001b[0;m\n",
       "    \u001b[0;36mfind_previous_sibling:\u001b[0;m \u001b[1;30mReturns the closest sibling to this Tag that matches the\u001b[0;m\n",
       "    \u001b[0;36mfind_previous_siblings:\u001b[0;m \u001b[1;30mReturns the siblings of this Tag that match the given\u001b[0;m\n",
       "    \u001b[0;36mformat_string:\u001b[0;m \u001b[1;30mFormat the given string using the given formatter.\u001b[0;m\n",
       "    \u001b[0;36mget:\u001b[0;m \u001b[1;30mReturns the value of the 'key' attribute for the tag, or\u001b[0;m\n",
       "    \u001b[0;36mgetText:\u001b[0;m \u001b[1;30mGet all child strings, concatenated using the given separator.\u001b[0;m\n",
       "    \u001b[0;36mget_attribute_list:\u001b[0;m \u001b[1;30mThe same as get(), but always returns a list.\u001b[0;m\n",
       "    \u001b[0;36mget_text:\u001b[0;m \u001b[1;30mGet all child strings, concatenated using the given separator.\u001b[0;m\n",
       "    \u001b[0;36mhandle_data:\u001b[0;m \u001b[1;30m\u001b[0;m\n",
       "    \u001b[0;36mhandle_endtag:\u001b[0;m \u001b[1;30m\u001b[0;m\n",
       "    \u001b[0;36mhandle_starttag:\u001b[0;m \u001b[1;30mPush a start tag on to the stack.\u001b[0;m\n",
       "    \u001b[0;36mhas_attr:\u001b[0;m \u001b[1;30m\u001b[0;m\n",
       "    \u001b[0;36mhas_key:\u001b[0;m \u001b[1;30mThis was kind of misleading because has_key() (attributes)\u001b[0;m\n",
       "    \u001b[0;36mindex:\u001b[0;m \u001b[1;30mFind the index of a child by identity, not value. Avoids issues with\u001b[0;m\n",
       "    \u001b[0;36minsert:\u001b[0;m \u001b[1;30m\u001b[0;m\n",
       "    \u001b[0;36minsert_after:\u001b[0;m \u001b[1;30mMakes the given element the immediate successor of this one.\u001b[0;m\n",
       "    \u001b[0;36minsert_before:\u001b[0;m \u001b[1;30mMakes the given element the immediate predecessor of this one.\u001b[0;m\n",
       "    \u001b[0;36mnew_string:\u001b[0;m \u001b[1;30mCreate a new NavigableString associated with this soup.\u001b[0;m\n",
       "    \u001b[0;36mnew_tag:\u001b[0;m \u001b[1;30mCreate a new tag associated with this soup.\u001b[0;m\n",
       "    \u001b[0;36mnextGenerator:\u001b[0;m \u001b[1;30m\u001b[0;m\n",
       "    \u001b[0;36mnextSiblingGenerator:\u001b[0;m \u001b[1;30m\u001b[0;m\n",
       "    \u001b[0;36mobject_was_parsed:\u001b[0;m \u001b[1;30mAdd an object to the parse tree.\u001b[0;m\n",
       "    \u001b[0;36mparentGenerator:\u001b[0;m \u001b[1;30m\u001b[0;m\n",
       "    \u001b[0;36mpopTag:\u001b[0;m \u001b[1;30m\u001b[0;m\n",
       "    \u001b[0;36mprettify:\u001b[0;m \u001b[1;30m\u001b[0;m\n",
       "    \u001b[0;36mpreviousGenerator:\u001b[0;m \u001b[1;30m\u001b[0;m\n",
       "    \u001b[0;36mpreviousSiblingGenerator:\u001b[0;m \u001b[1;30m\u001b[0;m\n",
       "    \u001b[0;36mpushTag:\u001b[0;m \u001b[1;30m\u001b[0;m\n",
       "    \u001b[0;36mrecursiveChildGenerator:\u001b[0;m \u001b[1;30m\u001b[0;m\n",
       "    \u001b[0;36mrenderContents:\u001b[0;m \u001b[1;30m\u001b[0;m\n",
       "    \u001b[0;36mreplaceWith:\u001b[0;m \u001b[1;30m\u001b[0;m\n",
       "    \u001b[0;36mreplaceWithChildren:\u001b[0;m \u001b[1;30m\u001b[0;m\n",
       "    \u001b[0;36mreplace_with:\u001b[0;m \u001b[1;30m\u001b[0;m\n",
       "    \u001b[0;36mreplace_with_children:\u001b[0;m \u001b[1;30m\u001b[0;m\n",
       "    \u001b[0;36mreset:\u001b[0;m \u001b[1;30m\u001b[0;m\n",
       "    \u001b[0;36mselect:\u001b[0;m \u001b[1;30mPerform a CSS selection operation on the current element.\u001b[0;m\n",
       "    \u001b[0;36mselect_one:\u001b[0;m \u001b[1;30mPerform a CSS selection operation on the current element.\u001b[0;m\n",
       "    \u001b[0;36msetup:\u001b[0;m \u001b[1;30mSets up the initial relations between this element and\u001b[0;m\n",
       "    \u001b[0;36munwrap:\u001b[0;m \u001b[1;30m\u001b[0;m\n",
       "    \u001b[0;36mwrap:\u001b[0;m \u001b[1;30m\u001b[0;m\n",
       "\u001b[0;33mmagic method:\u001b[0;m\n",
       "    \u001b[0;36m__call__:\u001b[0;m \u001b[1;30mCalling a tag like a function is the same as calling its\u001b[0;m"
      ]
     },
     "execution_count": 20,
     "metadata": {},
     "output_type": "execute_result"
    }
   ],
   "source": [
    "try:\n",
    "    import pdir\n",
    "    dir = pdir\n",
    "except:\n",
    "    print('You can install pdir with:\\npip install pdir2')\n",
    "\n",
    "dir(soup)"
   ]
  },
  {
   "cell_type": "code",
   "execution_count": 21,
   "metadata": {},
   "outputs": [
    {
     "data": {
      "text/plain": [
       "[<h1 class=\"firstHeading\" id=\"firstHeading\" lang=\"en\">List of countries by central bank interest rates</h1>]"
      ]
     },
     "execution_count": 21,
     "metadata": {},
     "output_type": "execute_result"
    }
   ],
   "source": [
    "# What is the primary heading tag(s)?\n",
    "\n",
    "h1 = soup.find_all('h1')\n",
    "h1"
   ]
  },
  {
   "cell_type": "code",
   "execution_count": 22,
   "metadata": {
    "collapsed": true
   },
   "outputs": [],
   "source": [
    "# Pick out first list element\n",
    "h1 = h1[0]"
   ]
  },
  {
   "cell_type": "code",
   "execution_count": 23,
   "metadata": {},
   "outputs": [
    {
     "data": {
      "text/plain": [
       "{'class': ['firstHeading'], 'id': 'firstHeading', 'lang': 'en'}"
      ]
     },
     "execution_count": 23,
     "metadata": {},
     "output_type": "execute_result"
    }
   ],
   "source": [
    "# Print the HTML element attributes\n",
    "h1.attrs"
   ]
  },
  {
   "cell_type": "code",
   "execution_count": 24,
   "metadata": {},
   "outputs": [
    {
     "data": {
      "text/plain": [
       "'List of countries by central bank interest rates'"
      ]
     },
     "execution_count": 24,
     "metadata": {},
     "output_type": "execute_result"
    }
   ],
   "source": [
    "# Get the visible text\n",
    "h1.text"
   ]
  },
  {
   "cell_type": "code",
   "execution_count": 25,
   "metadata": {},
   "outputs": [
    {
     "data": {
      "text/plain": [
       "92"
      ]
     },
     "execution_count": 25,
     "metadata": {},
     "output_type": "execute_result"
    }
   ],
   "source": [
    "# Get the images on the page\n",
    "\n",
    "imgs = soup.find_all('img')\n",
    "len(imgs)"
   ]
  },
  {
   "cell_type": "code",
   "execution_count": 26,
   "metadata": {
    "scrolled": false
   },
   "outputs": [
    {
     "data": {
      "text/plain": [
       "['//upload.wikimedia.org/wikipedia/commons/thumb/3/36/Flag_of_Albania.svg/21px-Flag_of_Albania.svg.png',\n",
       " '//upload.wikimedia.org/wikipedia/commons/thumb/9/9d/Flag_of_Angola.svg/23px-Flag_of_Angola.svg.png',\n",
       " '//upload.wikimedia.org/wikipedia/commons/thumb/1/1a/Flag_of_Argentina.svg/23px-Flag_of_Argentina.svg.png',\n",
       " '//upload.wikimedia.org/wikipedia/commons/thumb/2/2f/Flag_of_Armenia.svg/23px-Flag_of_Armenia.svg.png',\n",
       " '//upload.wikimedia.org/wikipedia/en/thumb/b/b9/Flag_of_Australia.svg/23px-Flag_of_Australia.svg.png',\n",
       " '//upload.wikimedia.org/wikipedia/commons/thumb/d/dd/Flag_of_Azerbaijan.svg/23px-Flag_of_Azerbaijan.svg.png',\n",
       " '//upload.wikimedia.org/wikipedia/commons/thumb/9/93/Flag_of_the_Bahamas.svg/23px-Flag_of_the_Bahamas.svg.png',\n",
       " '//upload.wikimedia.org/wikipedia/commons/thumb/2/2c/Flag_of_Bahrain.svg/23px-Flag_of_Bahrain.svg.png',\n",
       " '//upload.wikimedia.org/wikipedia/commons/thumb/f/f9/Flag_of_Bangladesh.svg/23px-Flag_of_Bangladesh.svg.png',\n",
       " '//upload.wikimedia.org/wikipedia/commons/thumb/e/ef/Flag_of_Barbados.svg/23px-Flag_of_Barbados.svg.png',\n",
       " '//upload.wikimedia.org/wikipedia/commons/thumb/8/85/Flag_of_Belarus.svg/23px-Flag_of_Belarus.svg.png',\n",
       " '//upload.wikimedia.org/wikipedia/commons/thumb/f/fa/Flag_of_Botswana.svg/23px-Flag_of_Botswana.svg.png',\n",
       " '//upload.wikimedia.org/wikipedia/en/thumb/0/05/Flag_of_Brazil.svg/22px-Flag_of_Brazil.svg.png',\n",
       " '//upload.wikimedia.org/wikipedia/commons/thumb/9/9a/Flag_of_Bulgaria.svg/23px-Flag_of_Bulgaria.svg.png',\n",
       " '//upload.wikimedia.org/wikipedia/en/thumb/c/cf/Flag_of_Canada.svg/23px-Flag_of_Canada.svg.png',\n",
       " '//upload.wikimedia.org/wikipedia/commons/thumb/3/38/Flag_of_Cape_Verde.svg/23px-Flag_of_Cape_Verde.svg.png',\n",
       " '//upload.wikimedia.org/wikipedia/commons/thumb/7/78/Flag_of_Chile.svg/23px-Flag_of_Chile.svg.png',\n",
       " '//upload.wikimedia.org/wikipedia/commons/thumb/f/fa/Flag_of_the_People%27s_Republic_of_China.svg/23px-Flag_of_the_People%27s_Republic_of_China.svg.png',\n",
       " '//upload.wikimedia.org/wikipedia/commons/thumb/2/21/Flag_of_Colombia.svg/23px-Flag_of_Colombia.svg.png',\n",
       " '//upload.wikimedia.org/wikipedia/commons/thumb/6/6f/Flag_of_the_Democratic_Republic_of_the_Congo.svg/20px-Flag_of_the_Democratic_Republic_of_the_Congo.svg.png',\n",
       " '//upload.wikimedia.org/wikipedia/commons/thumb/1/1b/Flag_of_Croatia.svg/23px-Flag_of_Croatia.svg.png',\n",
       " '//upload.wikimedia.org/wikipedia/commons/thumb/c/cb/Flag_of_the_Czech_Republic.svg/23px-Flag_of_the_Czech_Republic.svg.png',\n",
       " '//upload.wikimedia.org/wikipedia/commons/thumb/9/9c/Flag_of_Denmark.svg/20px-Flag_of_Denmark.svg.png',\n",
       " '//upload.wikimedia.org/wikipedia/commons/thumb/9/9f/Flag_of_the_Dominican_Republic.svg/23px-Flag_of_the_Dominican_Republic.svg.png',\n",
       " '//upload.wikimedia.org/wikipedia/commons/thumb/f/fe/Flag_of_Egypt.svg/23px-Flag_of_Egypt.svg.png',\n",
       " '//upload.wikimedia.org/wikipedia/commons/thumb/b/ba/Flag_of_Fiji.svg/23px-Flag_of_Fiji.svg.png',\n",
       " '//upload.wikimedia.org/wikipedia/commons/thumb/7/77/Flag_of_The_Gambia.svg/23px-Flag_of_The_Gambia.svg.png',\n",
       " '//upload.wikimedia.org/wikipedia/commons/thumb/0/0f/Flag_of_Georgia.svg/23px-Flag_of_Georgia.svg.png',\n",
       " '//upload.wikimedia.org/wikipedia/commons/thumb/1/19/Flag_of_Ghana.svg/23px-Flag_of_Ghana.svg.png',\n",
       " '//upload.wikimedia.org/wikipedia/commons/thumb/5/5b/Flag_of_Hong_Kong.svg/23px-Flag_of_Hong_Kong.svg.png',\n",
       " '//upload.wikimedia.org/wikipedia/commons/thumb/c/c1/Flag_of_Hungary.svg/23px-Flag_of_Hungary.svg.png',\n",
       " '//upload.wikimedia.org/wikipedia/commons/thumb/c/ce/Flag_of_Iceland.svg/21px-Flag_of_Iceland.svg.png',\n",
       " '//upload.wikimedia.org/wikipedia/en/thumb/4/41/Flag_of_India.svg/23px-Flag_of_India.svg.png',\n",
       " '//upload.wikimedia.org/wikipedia/commons/thumb/9/9f/Flag_of_Indonesia.svg/23px-Flag_of_Indonesia.svg.png',\n",
       " '//upload.wikimedia.org/wikipedia/commons/thumb/c/ca/Flag_of_Iran.svg/23px-Flag_of_Iran.svg.png',\n",
       " '//upload.wikimedia.org/wikipedia/commons/thumb/d/d4/Flag_of_Israel.svg/21px-Flag_of_Israel.svg.png',\n",
       " '//upload.wikimedia.org/wikipedia/commons/thumb/0/0a/Flag_of_Jamaica.svg/23px-Flag_of_Jamaica.svg.png',\n",
       " '//upload.wikimedia.org/wikipedia/en/thumb/9/9e/Flag_of_Japan.svg/23px-Flag_of_Japan.svg.png',\n",
       " '//upload.wikimedia.org/wikipedia/commons/thumb/c/c0/Flag_of_Jordan.svg/23px-Flag_of_Jordan.svg.png',\n",
       " '//upload.wikimedia.org/wikipedia/commons/thumb/d/d3/Flag_of_Kazakhstan.svg/23px-Flag_of_Kazakhstan.svg.png',\n",
       " '//upload.wikimedia.org/wikipedia/commons/thumb/4/49/Flag_of_Kenya.svg/23px-Flag_of_Kenya.svg.png',\n",
       " '//upload.wikimedia.org/wikipedia/commons/thumb/a/aa/Flag_of_Kuwait.svg/23px-Flag_of_Kuwait.svg.png',\n",
       " '//upload.wikimedia.org/wikipedia/commons/thumb/c/c7/Flag_of_Kyrgyzstan.svg/23px-Flag_of_Kyrgyzstan.svg.png',\n",
       " '//upload.wikimedia.org/wikipedia/commons/thumb/f/f8/Flag_of_Macedonia.svg/23px-Flag_of_Macedonia.svg.png',\n",
       " '//upload.wikimedia.org/wikipedia/commons/thumb/d/d1/Flag_of_Malawi.svg/23px-Flag_of_Malawi.svg.png',\n",
       " '//upload.wikimedia.org/wikipedia/commons/thumb/6/66/Flag_of_Malaysia.svg/23px-Flag_of_Malaysia.svg.png',\n",
       " '//upload.wikimedia.org/wikipedia/commons/thumb/7/77/Flag_of_Mauritius.svg/23px-Flag_of_Mauritius.svg.png',\n",
       " '//upload.wikimedia.org/wikipedia/commons/thumb/f/fc/Flag_of_Mexico.svg/23px-Flag_of_Mexico.svg.png',\n",
       " '//upload.wikimedia.org/wikipedia/commons/thumb/2/27/Flag_of_Moldova.svg/23px-Flag_of_Moldova.svg.png',\n",
       " '//upload.wikimedia.org/wikipedia/commons/thumb/4/4c/Flag_of_Mongolia.svg/23px-Flag_of_Mongolia.svg.png',\n",
       " '//upload.wikimedia.org/wikipedia/commons/thumb/2/2c/Flag_of_Morocco.svg/23px-Flag_of_Morocco.svg.png',\n",
       " '//upload.wikimedia.org/wikipedia/commons/thumb/d/d0/Flag_of_Mozambique.svg/23px-Flag_of_Mozambique.svg.png',\n",
       " '//upload.wikimedia.org/wikipedia/commons/thumb/0/00/Flag_of_Namibia.svg/23px-Flag_of_Namibia.svg.png',\n",
       " '//upload.wikimedia.org/wikipedia/commons/thumb/3/3e/Flag_of_New_Zealand.svg/23px-Flag_of_New_Zealand.svg.png',\n",
       " '//upload.wikimedia.org/wikipedia/commons/thumb/7/79/Flag_of_Nigeria.svg/23px-Flag_of_Nigeria.svg.png',\n",
       " '//upload.wikimedia.org/wikipedia/commons/thumb/d/d9/Flag_of_Norway.svg/21px-Flag_of_Norway.svg.png',\n",
       " '//upload.wikimedia.org/wikipedia/commons/thumb/3/32/Flag_of_Pakistan.svg/23px-Flag_of_Pakistan.svg.png',\n",
       " '//upload.wikimedia.org/wikipedia/commons/thumb/2/27/Flag_of_Paraguay.svg/23px-Flag_of_Paraguay.svg.png',\n",
       " '//upload.wikimedia.org/wikipedia/commons/thumb/c/cf/Flag_of_Peru.svg/23px-Flag_of_Peru.svg.png',\n",
       " '//upload.wikimedia.org/wikipedia/commons/thumb/9/99/Flag_of_the_Philippines.svg/23px-Flag_of_the_Philippines.svg.png',\n",
       " '//upload.wikimedia.org/wikipedia/en/thumb/1/12/Flag_of_Poland.svg/23px-Flag_of_Poland.svg.png',\n",
       " '//upload.wikimedia.org/wikipedia/commons/thumb/6/65/Flag_of_Qatar.svg/23px-Flag_of_Qatar.svg.png',\n",
       " '//upload.wikimedia.org/wikipedia/commons/thumb/7/73/Flag_of_Romania.svg/23px-Flag_of_Romania.svg.png',\n",
       " '//upload.wikimedia.org/wikipedia/en/thumb/f/f3/Flag_of_Russia.svg/23px-Flag_of_Russia.svg.png',\n",
       " '//upload.wikimedia.org/wikipedia/commons/thumb/1/17/Flag_of_Rwanda.svg/23px-Flag_of_Rwanda.svg.png',\n",
       " '//upload.wikimedia.org/wikipedia/commons/thumb/3/31/Flag_of_Samoa.svg/23px-Flag_of_Samoa.svg.png',\n",
       " '//upload.wikimedia.org/wikipedia/commons/thumb/0/0d/Flag_of_Saudi_Arabia.svg/23px-Flag_of_Saudi_Arabia.svg.png',\n",
       " '//upload.wikimedia.org/wikipedia/commons/thumb/f/ff/Flag_of_Serbia.svg/23px-Flag_of_Serbia.svg.png',\n",
       " '//upload.wikimedia.org/wikipedia/commons/thumb/1/17/Flag_of_Sierra_Leone.svg/23px-Flag_of_Sierra_Leone.svg.png',\n",
       " '//upload.wikimedia.org/wikipedia/commons/thumb/a/af/Flag_of_South_Africa.svg/23px-Flag_of_South_Africa.svg.png',\n",
       " '//upload.wikimedia.org/wikipedia/commons/thumb/0/09/Flag_of_South_Korea.svg/23px-Flag_of_South_Korea.svg.png',\n",
       " '//upload.wikimedia.org/wikipedia/commons/thumb/1/11/Flag_of_Sri_Lanka.svg/23px-Flag_of_Sri_Lanka.svg.png',\n",
       " '//upload.wikimedia.org/wikipedia/en/thumb/4/4c/Flag_of_Sweden.svg/23px-Flag_of_Sweden.svg.png',\n",
       " '//upload.wikimedia.org/wikipedia/commons/thumb/f/f3/Flag_of_Switzerland.svg/16px-Flag_of_Switzerland.svg.png',\n",
       " '//upload.wikimedia.org/wikipedia/commons/thumb/7/72/Flag_of_the_Republic_of_China.svg/23px-Flag_of_the_Republic_of_China.svg.png',\n",
       " '//upload.wikimedia.org/wikipedia/commons/thumb/d/d0/Flag_of_Tajikistan.svg/23px-Flag_of_Tajikistan.svg.png',\n",
       " '//upload.wikimedia.org/wikipedia/commons/thumb/a/a9/Flag_of_Thailand.svg/23px-Flag_of_Thailand.svg.png',\n",
       " '//upload.wikimedia.org/wikipedia/commons/thumb/6/64/Flag_of_Trinidad_and_Tobago.svg/23px-Flag_of_Trinidad_and_Tobago.svg.png',\n",
       " '//upload.wikimedia.org/wikipedia/commons/thumb/c/ce/Flag_of_Tunisia.svg/23px-Flag_of_Tunisia.svg.png',\n",
       " '//upload.wikimedia.org/wikipedia/commons/thumb/b/b4/Flag_of_Turkey.svg/23px-Flag_of_Turkey.svg.png',\n",
       " '//upload.wikimedia.org/wikipedia/commons/thumb/4/4e/Flag_of_Uganda.svg/23px-Flag_of_Uganda.svg.png',\n",
       " '//upload.wikimedia.org/wikipedia/commons/thumb/4/49/Flag_of_Ukraine.svg/23px-Flag_of_Ukraine.svg.png',\n",
       " '//upload.wikimedia.org/wikipedia/commons/thumb/c/cb/Flag_of_the_United_Arab_Emirates.svg/23px-Flag_of_the_United_Arab_Emirates.svg.png',\n",
       " '//upload.wikimedia.org/wikipedia/en/thumb/a/ae/Flag_of_the_United_Kingdom.svg/23px-Flag_of_the_United_Kingdom.svg.png',\n",
       " '//upload.wikimedia.org/wikipedia/en/thumb/a/a4/Flag_of_the_United_States.svg/23px-Flag_of_the_United_States.svg.png',\n",
       " '//upload.wikimedia.org/wikipedia/commons/thumb/f/fe/Flag_of_Uruguay.svg/23px-Flag_of_Uruguay.svg.png',\n",
       " '//upload.wikimedia.org/wikipedia/commons/thumb/8/84/Flag_of_Uzbekistan.svg/23px-Flag_of_Uzbekistan.svg.png',\n",
       " '//upload.wikimedia.org/wikipedia/commons/thumb/2/21/Flag_of_Vietnam.svg/23px-Flag_of_Vietnam.svg.png',\n",
       " '//upload.wikimedia.org/wikipedia/commons/thumb/0/06/Flag_of_Zambia.svg/23px-Flag_of_Zambia.svg.png',\n",
       " '//en.wikipedia.org/wiki/Special:CentralAutoLogin/start?type=1x1',\n",
       " '/static/images/wikimedia-button.png',\n",
       " '/static/images/poweredby_mediawiki_88x31.png']"
      ]
     },
     "execution_count": 26,
     "metadata": {},
     "output_type": "execute_result"
    }
   ],
   "source": [
    "# Print the image source URIs\n",
    "\n",
    "[element.attrs['src'] for element in imgs\n",
    " if 'src' in element.attrs.keys()]"
   ]
  },
  {
   "cell_type": "code",
   "execution_count": 27,
   "metadata": {
    "collapsed": true
   },
   "outputs": [],
   "source": [
    "# Get the body content div\n",
    "body_content = soup.find('div', {'id': 'bodyContent'})"
   ]
  },
  {
   "cell_type": "code",
   "execution_count": 28,
   "metadata": {},
   "outputs": [
    {
     "data": {
      "text/plain": [
       "[<th>Country or<br/>\n",
       " currency union</th>, <th>Central bank<br/>\n",
       " interest rate (%)</th>, <th>Date of last<br/>\n",
       " change</th>]"
      ]
     },
     "execution_count": 28,
     "metadata": {},
     "output_type": "execute_result"
    }
   ],
   "source": [
    "# Get the table headers\n",
    "\n",
    "table_headers = body_content.find_all('th')[:3]\n",
    "table_headers"
   ]
  },
  {
   "cell_type": "code",
   "execution_count": 29,
   "metadata": {},
   "outputs": [
    {
     "data": {
      "text/plain": [
       "['Country or currency union',\n",
       " 'Central bank interest rate (%)',\n",
       " 'Date of last change']"
      ]
     },
     "execution_count": 29,
     "metadata": {},
     "output_type": "execute_result"
    }
   ],
   "source": [
    "# Get the text\n",
    "\n",
    "table_headers = [element.get_text().replace('\\n', ' ')\n",
    "                 for element in table_headers]\n",
    "table_headers"
   ]
  },
  {
   "cell_type": "code",
   "execution_count": 30,
   "metadata": {
    "collapsed": true
   },
   "outputs": [],
   "source": [
    "# Get the data for a sample row\n",
    "\n",
    "row_number = 2\n",
    "d1, d2, d3 = body_content.find_all('tr')[row_number]\\\n",
    "                .find_all('td')"
   ]
  },
  {
   "cell_type": "code",
   "execution_count": 31,
   "metadata": {},
   "outputs": [
    {
     "data": {
      "text/plain": [
       "<td align=\"left\"><span class=\"flagicon\"><img alt=\"\" class=\"thumbborder\" data-file-height=\"300\" data-file-width=\"450\" height=\"15\" src=\"//upload.wikimedia.org/wikipedia/commons/thumb/9/9d/Flag_of_Angola.svg/23px-Flag_of_Angola.svg.png\" srcset=\"//upload.wikimedia.org/wikipedia/commons/thumb/9/9d/Flag_of_Angola.svg/35px-Flag_of_Angola.svg.png 1.5x, //upload.wikimedia.org/wikipedia/commons/thumb/9/9d/Flag_of_Angola.svg/45px-Flag_of_Angola.svg.png 2x\" width=\"23\"/> </span><a href=\"/wiki/Angola\" title=\"Angola\">Angola</a></td>"
      ]
     },
     "execution_count": 31,
     "metadata": {},
     "output_type": "execute_result"
    }
   ],
   "source": [
    "d1"
   ]
  },
  {
   "cell_type": "code",
   "execution_count": 32,
   "metadata": {},
   "outputs": [
    {
     "data": {
      "text/plain": [
       "'\\xa0Angola'"
      ]
     },
     "execution_count": 32,
     "metadata": {},
     "output_type": "execute_result"
    }
   ],
   "source": [
    "d1.text"
   ]
  },
  {
   "cell_type": "code",
   "execution_count": 33,
   "metadata": {},
   "outputs": [
    {
     "data": {
      "text/plain": [
       "'Angola'"
      ]
     },
     "execution_count": 33,
     "metadata": {},
     "output_type": "execute_result"
    }
   ],
   "source": [
    "d1.find('a').text"
   ]
  },
  {
   "cell_type": "code",
   "execution_count": 34,
   "metadata": {},
   "outputs": [
    {
     "data": {
      "text/plain": [
       "<td>16.00</td>"
      ]
     },
     "execution_count": 34,
     "metadata": {},
     "output_type": "execute_result"
    }
   ],
   "source": [
    "d2"
   ]
  },
  {
   "cell_type": "code",
   "execution_count": 35,
   "metadata": {},
   "outputs": [
    {
     "data": {
      "text/plain": [
       "16.0"
      ]
     },
     "execution_count": 35,
     "metadata": {},
     "output_type": "execute_result"
    }
   ],
   "source": [
    "float(d2.text)"
   ]
  },
  {
   "cell_type": "code",
   "execution_count": 36,
   "metadata": {},
   "outputs": [
    {
     "data": {
      "text/plain": [
       "<td><span class=\"sortkey\" style=\"display:none;speak:none\">000000002016-06-30-0000</span><span style=\"white-space:nowrap\">30 June 2016</span><sup class=\"reference\" id=\"cite_ref-CentralBankNews_1-1\"><a href=\"#cite_note-CentralBankNews-1\">[1]</a></sup></td>"
      ]
     },
     "execution_count": 36,
     "metadata": {},
     "output_type": "execute_result"
    }
   ],
   "source": [
    "d3"
   ]
  },
  {
   "cell_type": "code",
   "execution_count": 37,
   "metadata": {},
   "outputs": [
    {
     "data": {
      "text/plain": [
       "'000000002016-06-30-000030 June 2016[1]'"
      ]
     },
     "execution_count": 37,
     "metadata": {},
     "output_type": "execute_result"
    }
   ],
   "source": [
    "d3.text"
   ]
  },
  {
   "cell_type": "code",
   "execution_count": 38,
   "metadata": {},
   "outputs": [
    {
     "data": {
      "text/plain": [
       "'30 June 2016'"
      ]
     },
     "execution_count": 38,
     "metadata": {},
     "output_type": "execute_result"
    }
   ],
   "source": [
    "d3.find_all('span')[1].text"
   ]
  },
  {
   "cell_type": "code",
   "execution_count": 39,
   "metadata": {},
   "outputs": [
    {
     "name": "stdout",
     "output_type": "stream",
     "text": [
      "Ignoring row 0 because len(data) != 3\n",
      "Ignoring row 10 because exception raised\n",
      "Ignoring row 26 because exception raised\n",
      "Ignoring row 89 because exception raised\n",
      "Ignoring row 94 because len(data) != 3\n",
      "Ignoring row 95 because len(data) != 3\n",
      "Ignoring row 96 because len(data) != 3\n",
      "Ignoring row 97 because len(data) != 3\n",
      "Ignoring row 98 because len(data) != 3\n",
      "Ignoring row 99 because len(data) != 3\n",
      "Ignoring row 100 because len(data) != 3\n",
      "Ignoring row 101 because len(data) != 3\n",
      "Ignoring row 102 because len(data) != 3\n",
      "Ignoring row 103 because len(data) != 3\n"
     ]
    }
   ],
   "source": [
    "# Perform the full scrape by iterating over the rows\n",
    "\n",
    "data = []\n",
    "for i, row in enumerate(body_content.find_all('tr')):\n",
    "    row_data = row.find_all('td')\n",
    "    if len(row_data) != 3:\n",
    "        print('Ignoring row {} because len(data) != 3'.format(i))\n",
    "        continue\n",
    "        \n",
    "    d1, d2, d3 = row_data\n",
    "    try:\n",
    "        d1 = d1.find('a').text\n",
    "        d2 = float(d2.text)\n",
    "        d3 = d3.find_all('span')[1].text\n",
    "    except:\n",
    "        print('Ignoring row {} because exception raised'.format(i))\n",
    "        continue\n",
    "        \n",
    "    data.append([d1, d2, d3])"
   ]
  },
  {
   "cell_type": "code",
   "execution_count": 40,
   "metadata": {},
   "outputs": [
    {
     "data": {
      "text/plain": [
       "<tr>\n",
       "<td align=\"left\"><span class=\"flagicon\"><img alt=\"\" class=\"thumbborder\" data-file-height=\"650\" data-file-width=\"1235\" height=\"12\" src=\"//upload.wikimedia.org/wikipedia/en/thumb/a/a4/Flag_of_the_United_States.svg/23px-Flag_of_the_United_States.svg.png\" srcset=\"//upload.wikimedia.org/wikipedia/en/thumb/a/a4/Flag_of_the_United_States.svg/35px-Flag_of_the_United_States.svg.png 1.5x, //upload.wikimedia.org/wikipedia/en/thumb/a/a4/Flag_of_the_United_States.svg/46px-Flag_of_the_United_States.svg.png 2x\" width=\"23\"/> </span><a href=\"/wiki/United_States\" title=\"United States\">United States</a></td>\n",
       "<td>1.50</td>\n",
       "<td><span class=\"sortkey\" style=\"display:none;speak:none\">000000002017-12-13-0000</span><span style=\"white-space:nowrap\">13 December 2017</span><sup class=\"reference\" id=\"cite_ref-CentralBankNews_1-85\"><a href=\"#cite_note-CentralBankNews-1\">[1]</a></sup><sup class=\"reference\" id=\"cite_ref-4\"><a href=\"#cite_note-4\">[4]</a></sup></td>\n",
       "</tr>"
      ]
     },
     "execution_count": 40,
     "metadata": {},
     "output_type": "execute_result"
    }
   ],
   "source": [
    "body_content.find_all('tr')[88]"
   ]
  },
  {
   "cell_type": "code",
   "execution_count": 41,
   "metadata": {},
   "outputs": [
    {
     "data": {
      "text/plain": [
       "[['Albania', 1.05, '4 May 2016'],\n",
       " ['Angola', 16.0, '30 June 2016'],\n",
       " ['Argentina', 26.25, '11 April 2017'],\n",
       " ['Armenia', 6.0, '14 February 2017'],\n",
       " ['Australia', 1.5, '2 August 2016'],\n",
       " ['Azerbaijan', 15.0, '9 September 2016'],\n",
       " ['Bahamas', 4.0, '22 December 2016'],\n",
       " ['Bahrain', 1.51, '14 June 2017'],\n",
       " ['Bangladesh', 6.75, '14 January 2016'],\n",
       " ['Belarus', 12.0, '28 June 2017']]"
      ]
     },
     "execution_count": 41,
     "metadata": {},
     "output_type": "execute_result"
    }
   ],
   "source": [
    "data[:10]"
   ]
  },
  {
   "cell_type": "code",
   "execution_count": 42,
   "metadata": {
    "collapsed": true
   },
   "outputs": [],
   "source": [
    "# Save data to a CSV file\n",
    "\n",
    "f_path = '../data/countries/interest-rates.csv'\n",
    "with open(f_path, 'w') as f:\n",
    "    f.write('{};{};{}\\n'.format(*table_headers))\n",
    "    for d in data:\n",
    "        f.write('{};{};{}\\n'.format(*d))"
   ]
  },
  {
   "cell_type": "markdown",
   "metadata": {},
   "source": [
    "---\n",
    "### Activity A: Web scraping with Python\n",
    "---"
   ]
  },
  {
   "cell_type": "code",
   "execution_count": 43,
   "metadata": {},
   "outputs": [
    {
     "data": {
      "text/html": [
       "\n",
       "        <iframe\n",
       "            width=\"800\"\n",
       "            height=\"300\"\n",
       "            src=\"http://www.worldometers.info/world-population/population-by-country/\"\n",
       "            frameborder=\"0\"\n",
       "            allowfullscreen\n",
       "        ></iframe>\n",
       "        "
      ],
      "text/plain": [
       "<IPython.lib.display.IFrame at 0x110a62048>"
      ]
     },
     "execution_count": 43,
     "metadata": {},
     "output_type": "execute_result"
    }
   ],
   "source": [
    "# Check out the page\n",
    "\n",
    "url = 'http://www.worldometers.info/world-population/population-by-country/'\n",
    "IFrame(url, height=300, width=800)"
   ]
  },
  {
   "cell_type": "code",
   "execution_count": 44,
   "metadata": {},
   "outputs": [
    {
     "data": {
      "text/plain": [
       "<Response [200]>"
      ]
     },
     "execution_count": 44,
     "metadata": {},
     "output_type": "execute_result"
    }
   ],
   "source": [
    "# Request the page\n",
    "\n",
    "page = requests.get(url)\n",
    "page"
   ]
  },
  {
   "cell_type": "code",
   "execution_count": 45,
   "metadata": {
    "collapsed": true
   },
   "outputs": [],
   "source": [
    "# Instantiate Beautiful Soup object\n",
    "\n",
    "soup = BeautifulSoup(page.content, 'html.parser')"
   ]
  },
  {
   "cell_type": "code",
   "execution_count": 46,
   "metadata": {},
   "outputs": [
    {
     "data": {
      "text/plain": [
       "[<h1>Countries in the world by population (2018)</h1>]"
      ]
     },
     "execution_count": 46,
     "metadata": {},
     "output_type": "execute_result"
    }
   ],
   "source": [
    "# Get the H1\n",
    "\n",
    "soup.find_all('h1')"
   ]
  },
  {
   "cell_type": "code",
   "execution_count": 47,
   "metadata": {},
   "outputs": [
    {
     "data": {
      "text/plain": [
       "[<th>#</th>,\n",
       " <th>Country (or dependency)</th>,\n",
       " <th>Population<br/> (2018)</th>,\n",
       " <th>Yearly<br/> Change</th>,\n",
       " <th>Net<br/> Change</th>,\n",
       " <th>Density<br/> (P/Km²)</th>,\n",
       " <th>Land Area<br/> (Km²)</th>,\n",
       " <th>Migrants<br/> (net)</th>,\n",
       " <th>Fert.<br/> Rate</th>,\n",
       " <th>Med.<br/> Age</th>,\n",
       " <th>Urban<br/> Pop %</th>,\n",
       " <th>World<br/> Share</th>]"
      ]
     },
     "execution_count": 47,
     "metadata": {},
     "output_type": "execute_result"
    }
   ],
   "source": [
    "# Get the table headers\n",
    "\n",
    "table_headers = soup.find_all('th')\n",
    "table_headers"
   ]
  },
  {
   "cell_type": "code",
   "execution_count": 48,
   "metadata": {
    "collapsed": true
   },
   "outputs": [],
   "source": [
    "# Parse the table header text\n",
    "\n",
    "table_headers = table_headers[1:4]\n",
    "table_headers = [t.text.replace('\\n', '') for t in table_headers]"
   ]
  },
  {
   "cell_type": "code",
   "execution_count": 49,
   "metadata": {
    "collapsed": true
   },
   "outputs": [],
   "source": [
    "# Get the data for a sample row\n",
    "\n",
    "row_number = 2\n",
    "row_data = soup.find_all('tr')[row_number]\\\n",
    "                .find_all('td')"
   ]
  },
  {
   "cell_type": "code",
   "execution_count": 50,
   "metadata": {},
   "outputs": [
    {
     "data": {
      "text/plain": [
       "12"
      ]
     },
     "execution_count": 50,
     "metadata": {},
     "output_type": "execute_result"
    }
   ],
   "source": [
    "# How many columns of data?\n",
    "len(row_data)"
   ]
  },
  {
   "cell_type": "code",
   "execution_count": 51,
   "metadata": {},
   "outputs": [
    {
     "data": {
      "text/plain": [
       "[<td>2</td>,\n",
       " <td style=\"font-weight: bold; font-size:15px; text-align:left\"><a href=\"/world-population/india-population/\">India</a></td>,\n",
       " <td style=\"font-weight: bold;\">1,354,051,854</td>,\n",
       " <td>1.11 %</td>]"
      ]
     },
     "execution_count": 51,
     "metadata": {},
     "output_type": "execute_result"
    }
   ],
   "source": [
    "# Print the first few\n",
    "row_data[:4]"
   ]
  },
  {
   "cell_type": "code",
   "execution_count": 52,
   "metadata": {
    "collapsed": true
   },
   "outputs": [],
   "source": [
    "# Get the three elements we want\n",
    "\n",
    "d1, d2, d3 = row_data[1:4]"
   ]
  },
  {
   "cell_type": "code",
   "execution_count": 53,
   "metadata": {},
   "outputs": [
    {
     "data": {
      "text/plain": [
       "'India'"
      ]
     },
     "execution_count": 53,
     "metadata": {},
     "output_type": "execute_result"
    }
   ],
   "source": [
    "d1.find('a').text"
   ]
  },
  {
   "cell_type": "code",
   "execution_count": 54,
   "metadata": {},
   "outputs": [
    {
     "data": {
      "text/plain": [
       "'1,354,051,854'"
      ]
     },
     "execution_count": 54,
     "metadata": {},
     "output_type": "execute_result"
    }
   ],
   "source": [
    "d2.text"
   ]
  },
  {
   "cell_type": "code",
   "execution_count": 55,
   "metadata": {},
   "outputs": [
    {
     "data": {
      "text/plain": [
       "'1.11 %'"
      ]
     },
     "execution_count": 55,
     "metadata": {},
     "output_type": "execute_result"
    }
   ],
   "source": [
    "d3.text"
   ]
  },
  {
   "cell_type": "code",
   "execution_count": 56,
   "metadata": {},
   "outputs": [
    {
     "name": "stdout",
     "output_type": "stream",
     "text": [
      "Error parsing row 0\n"
     ]
    }
   ],
   "source": [
    "# Scrape the entire table\n",
    "\n",
    "data = []\n",
    "for i, row in enumerate(soup.find_all('tr')):\n",
    "    try:\n",
    "        d1, d2, d3 = row.find_all('td')[1:4]\n",
    "        d1 = d1.find('a').text\n",
    "        d2 = d2.text\n",
    "        d3 = d3.text\n",
    "        data.append([d1, d2, d3])\n",
    "    except:\n",
    "        print('Error parsing row {}'.format(i))"
   ]
  },
  {
   "cell_type": "code",
   "execution_count": 57,
   "metadata": {},
   "outputs": [
    {
     "data": {
      "text/plain": [
       "[['China', '1,415,045,928', '0.39 %'],\n",
       " ['India', '1,354,051,854', '1.11 %'],\n",
       " ['U.S.', '326,766,748', '0.71 %'],\n",
       " ['Indonesia', '266,794,980', '1.06 %'],\n",
       " ['Brazil', '210,867,954', '0.75 %'],\n",
       " ['Pakistan', '200,813,818', '1.93 %'],\n",
       " ['Nigeria', '195,875,237', '2.61 %'],\n",
       " ['Bangladesh', '166,368,149', '1.03 %'],\n",
       " ['Russia', '143,964,709', '-0.02 %'],\n",
       " ['Mexico', '130,759,074', '1.24 %']]"
      ]
     },
     "execution_count": 57,
     "metadata": {},
     "output_type": "execute_result"
    }
   ],
   "source": [
    "data[:10]"
   ]
  },
  {
   "cell_type": "code",
   "execution_count": 58,
   "metadata": {
    "collapsed": true
   },
   "outputs": [],
   "source": [
    "# Save data to a CSV file\n",
    "\n",
    "f_path = '../data/countries/populations.csv'\n",
    "with open(f_path, 'w') as f:\n",
    "    f.write('{};{};{}\\n'.format(*table_headers))\n",
    "    for d in data:\n",
    "        f.write('{};{};{}\\n'.format(*d))"
   ]
  },
  {
   "cell_type": "markdown",
   "metadata": {},
   "source": [
    "---\n",
    "## Topic B: Interactive visualizations\n",
    "---\n",
    "### Subtopic A: Building a DataFrame to store and organize data\n",
    "\n",
    "---"
   ]
  },
  {
   "cell_type": "code",
   "execution_count": 59,
   "metadata": {
    "collapsed": true
   },
   "outputs": [],
   "source": [
    "# Load the data into Python lists\n",
    "\n",
    "with open('../data/countries/interest-rates.csv', 'r') as f:\n",
    "    int_rates_col_names = next(f).strip().split(';')\n",
    "    int_rates = [line.split(';') for line in f.read().splitlines()]\n",
    "    \n",
    "with open('../data/countries/populations.csv', 'r') as f:\n",
    "    populations_col_names = next(f).strip().split(';')\n",
    "    populations = [line.split(';') for line in f.read().splitlines()]"
   ]
  },
  {
   "cell_type": "code",
   "execution_count": 60,
   "metadata": {},
   "outputs": [
    {
     "name": "stdout",
     "output_type": "stream",
     "text": [
      "['Country or currency union', 'Central bank interest rate (%)', 'Date of last change']\n"
     ]
    },
    {
     "data": {
      "text/plain": [
       "[['Albania', '1.05', '4 May 2016'],\n",
       " ['Angola', '16.0', '30 June 2016'],\n",
       " ['Argentina', '26.25', '11 April 2017'],\n",
       " ['Armenia', '6.0', '14 February 2017'],\n",
       " ['Australia', '1.5', '2 August 2016']]"
      ]
     },
     "execution_count": 60,
     "metadata": {},
     "output_type": "execute_result"
    }
   ],
   "source": [
    "# Check what the interest rate data looks like\n",
    "\n",
    "print(int_rates_col_names)\n",
    "int_rates[:5]"
   ]
  },
  {
   "cell_type": "code",
   "execution_count": 61,
   "metadata": {},
   "outputs": [
    {
     "name": "stdout",
     "output_type": "stream",
     "text": [
      "['Country (or dependency)', 'Population (2018)', 'Yearly Change']\n"
     ]
    },
    {
     "data": {
      "text/plain": [
       "[['China', '1,415,045,928', '0.39 %'],\n",
       " ['India', '1,354,051,854', '1.11 %'],\n",
       " ['U.S.', '326,766,748', '0.71 %'],\n",
       " ['Indonesia', '266,794,980', '1.06 %'],\n",
       " ['Brazil', '210,867,954', '0.75 %']]"
      ]
     },
     "execution_count": 61,
     "metadata": {},
     "output_type": "execute_result"
    }
   ],
   "source": [
    "# Check what the population data looks like\n",
    "\n",
    "print(populations_col_names)\n",
    "populations[:5]"
   ]
  },
  {
   "cell_type": "code",
   "execution_count": 62,
   "metadata": {
    "collapsed": true
   },
   "outputs": [],
   "source": [
    "# Load the data\n",
    "\n",
    "df_int_rates = pd.DataFrame(int_rates, columns=int_rates_col_names)\n",
    "df_populations = pd.DataFrame(populations, columns=populations_col_names)"
   ]
  },
  {
   "cell_type": "code",
   "execution_count": 63,
   "metadata": {
    "collapsed": true
   },
   "outputs": [],
   "source": [
    "# Change max row limit\n",
    "pd.options.display.max_rows = 10"
   ]
  },
  {
   "cell_type": "code",
   "execution_count": 64,
   "metadata": {},
   "outputs": [
    {
     "data": {
      "text/html": [
       "<div>\n",
       "<style>\n",
       "    .dataframe thead tr:only-child th {\n",
       "        text-align: right;\n",
       "    }\n",
       "\n",
       "    .dataframe thead th {\n",
       "        text-align: left;\n",
       "    }\n",
       "\n",
       "    .dataframe tbody tr th {\n",
       "        vertical-align: top;\n",
       "    }\n",
       "</style>\n",
       "<table border=\"1\" class=\"dataframe\">\n",
       "  <thead>\n",
       "    <tr style=\"text-align: right;\">\n",
       "      <th></th>\n",
       "      <th>Country or currency union</th>\n",
       "      <th>Central bank interest rate (%)</th>\n",
       "      <th>Date of last change</th>\n",
       "    </tr>\n",
       "  </thead>\n",
       "  <tbody>\n",
       "    <tr>\n",
       "      <th>0</th>\n",
       "      <td>Albania</td>\n",
       "      <td>1.05</td>\n",
       "      <td>4 May 2016</td>\n",
       "    </tr>\n",
       "    <tr>\n",
       "      <th>1</th>\n",
       "      <td>Angola</td>\n",
       "      <td>16.0</td>\n",
       "      <td>30 June 2016</td>\n",
       "    </tr>\n",
       "    <tr>\n",
       "      <th>2</th>\n",
       "      <td>Argentina</td>\n",
       "      <td>26.25</td>\n",
       "      <td>11 April 2017</td>\n",
       "    </tr>\n",
       "    <tr>\n",
       "      <th>3</th>\n",
       "      <td>Armenia</td>\n",
       "      <td>6.0</td>\n",
       "      <td>14 February 2017</td>\n",
       "    </tr>\n",
       "    <tr>\n",
       "      <th>4</th>\n",
       "      <td>Australia</td>\n",
       "      <td>1.5</td>\n",
       "      <td>2 August 2016</td>\n",
       "    </tr>\n",
       "    <tr>\n",
       "      <th>...</th>\n",
       "      <td>...</td>\n",
       "      <td>...</td>\n",
       "      <td>...</td>\n",
       "    </tr>\n",
       "    <tr>\n",
       "      <th>85</th>\n",
       "      <td>United States</td>\n",
       "      <td>1.5</td>\n",
       "      <td>13 December 2017</td>\n",
       "    </tr>\n",
       "    <tr>\n",
       "      <th>86</th>\n",
       "      <td>Uzbekistan</td>\n",
       "      <td>9.0</td>\n",
       "      <td>1 January 2015</td>\n",
       "    </tr>\n",
       "    <tr>\n",
       "      <th>87</th>\n",
       "      <td>Vietnam</td>\n",
       "      <td>6.25</td>\n",
       "      <td>7 July 2017</td>\n",
       "    </tr>\n",
       "    <tr>\n",
       "      <th>88</th>\n",
       "      <td>West African States</td>\n",
       "      <td>3.5</td>\n",
       "      <td>16 September 2013</td>\n",
       "    </tr>\n",
       "    <tr>\n",
       "      <th>89</th>\n",
       "      <td>Zambia</td>\n",
       "      <td>12.5</td>\n",
       "      <td>17 May 2017</td>\n",
       "    </tr>\n",
       "  </tbody>\n",
       "</table>\n",
       "<p>90 rows × 3 columns</p>\n",
       "</div>"
      ],
      "text/plain": [
       "   Country or currency union Central bank interest rate (%)  \\\n",
       "0                    Albania                           1.05   \n",
       "1                     Angola                           16.0   \n",
       "2                  Argentina                          26.25   \n",
       "3                    Armenia                            6.0   \n",
       "4                  Australia                            1.5   \n",
       "..                       ...                            ...   \n",
       "85             United States                            1.5   \n",
       "86                Uzbekistan                            9.0   \n",
       "87                   Vietnam                           6.25   \n",
       "88       West African States                            3.5   \n",
       "89                    Zambia                           12.5   \n",
       "\n",
       "   Date of last change  \n",
       "0           4 May 2016  \n",
       "1         30 June 2016  \n",
       "2        11 April 2017  \n",
       "3     14 February 2017  \n",
       "4        2 August 2016  \n",
       "..                 ...  \n",
       "85    13 December 2017  \n",
       "86      1 January 2015  \n",
       "87         7 July 2017  \n",
       "88   16 September 2013  \n",
       "89         17 May 2017  \n",
       "\n",
       "[90 rows x 3 columns]"
      ]
     },
     "execution_count": 64,
     "metadata": {},
     "output_type": "execute_result"
    }
   ],
   "source": [
    "# The first dataframe\n",
    "\n",
    "df_int_rates"
   ]
  },
  {
   "cell_type": "code",
   "execution_count": 65,
   "metadata": {},
   "outputs": [
    {
     "data": {
      "text/plain": [
       "Country or currency union         object\n",
       "Central bank interest rate (%)    object\n",
       "Date of last change               object\n",
       "dtype: object"
      ]
     },
     "execution_count": 65,
     "metadata": {},
     "output_type": "execute_result"
    }
   ],
   "source": [
    "df_int_rates.dtypes"
   ]
  },
  {
   "cell_type": "code",
   "execution_count": 66,
   "metadata": {
    "collapsed": true
   },
   "outputs": [],
   "source": [
    "# Alter datatypes\n",
    "\n",
    "df_int_rates['Central bank interest rate (%)'] =\\\n",
    "        df_int_rates['Central bank interest rate (%)']\\\n",
    "            .astype(float, copy=False)\n",
    "    \n",
    "df_int_rates['Date of last change'] = \\\n",
    "        pd.to_datetime(df_int_rates['Date of last change'])"
   ]
  },
  {
   "cell_type": "code",
   "execution_count": 67,
   "metadata": {},
   "outputs": [
    {
     "data": {
      "text/plain": [
       "Country or currency union                 object\n",
       "Central bank interest rate (%)           float64\n",
       "Date of last change               datetime64[ns]\n",
       "dtype: object"
      ]
     },
     "execution_count": 67,
     "metadata": {},
     "output_type": "execute_result"
    }
   ],
   "source": [
    "df_int_rates.dtypes"
   ]
  },
  {
   "cell_type": "code",
   "execution_count": 68,
   "metadata": {},
   "outputs": [
    {
     "data": {
      "text/html": [
       "<div>\n",
       "<style>\n",
       "    .dataframe thead tr:only-child th {\n",
       "        text-align: right;\n",
       "    }\n",
       "\n",
       "    .dataframe thead th {\n",
       "        text-align: left;\n",
       "    }\n",
       "\n",
       "    .dataframe tbody tr th {\n",
       "        vertical-align: top;\n",
       "    }\n",
       "</style>\n",
       "<table border=\"1\" class=\"dataframe\">\n",
       "  <thead>\n",
       "    <tr style=\"text-align: right;\">\n",
       "      <th></th>\n",
       "      <th>Country (or dependency)</th>\n",
       "      <th>Population (2018)</th>\n",
       "      <th>Yearly Change</th>\n",
       "    </tr>\n",
       "  </thead>\n",
       "  <tbody>\n",
       "    <tr>\n",
       "      <th>0</th>\n",
       "      <td>China</td>\n",
       "      <td>1,415,045,928</td>\n",
       "      <td>0.39 %</td>\n",
       "    </tr>\n",
       "    <tr>\n",
       "      <th>1</th>\n",
       "      <td>India</td>\n",
       "      <td>1,354,051,854</td>\n",
       "      <td>1.11 %</td>\n",
       "    </tr>\n",
       "    <tr>\n",
       "      <th>2</th>\n",
       "      <td>U.S.</td>\n",
       "      <td>326,766,748</td>\n",
       "      <td>0.71 %</td>\n",
       "    </tr>\n",
       "    <tr>\n",
       "      <th>3</th>\n",
       "      <td>Indonesia</td>\n",
       "      <td>266,794,980</td>\n",
       "      <td>1.06 %</td>\n",
       "    </tr>\n",
       "    <tr>\n",
       "      <th>4</th>\n",
       "      <td>Brazil</td>\n",
       "      <td>210,867,954</td>\n",
       "      <td>0.75 %</td>\n",
       "    </tr>\n",
       "    <tr>\n",
       "      <th>...</th>\n",
       "      <td>...</td>\n",
       "      <td>...</td>\n",
       "      <td>...</td>\n",
       "    </tr>\n",
       "    <tr>\n",
       "      <th>228</th>\n",
       "      <td>Saint Helena</td>\n",
       "      <td>4,074</td>\n",
       "      <td>0.62 %</td>\n",
       "    </tr>\n",
       "    <tr>\n",
       "      <th>229</th>\n",
       "      <td>Falkland Islands</td>\n",
       "      <td>2,922</td>\n",
       "      <td>0.41 %</td>\n",
       "    </tr>\n",
       "    <tr>\n",
       "      <th>230</th>\n",
       "      <td>Niue</td>\n",
       "      <td>1,624</td>\n",
       "      <td>0.37 %</td>\n",
       "    </tr>\n",
       "    <tr>\n",
       "      <th>231</th>\n",
       "      <td>Tokelau</td>\n",
       "      <td>1,319</td>\n",
       "      <td>1.46 %</td>\n",
       "    </tr>\n",
       "    <tr>\n",
       "      <th>232</th>\n",
       "      <td>Holy See</td>\n",
       "      <td>801</td>\n",
       "      <td>1.14 %</td>\n",
       "    </tr>\n",
       "  </tbody>\n",
       "</table>\n",
       "<p>233 rows × 3 columns</p>\n",
       "</div>"
      ],
      "text/plain": [
       "    Country (or dependency) Population (2018) Yearly Change\n",
       "0                     China     1,415,045,928        0.39 %\n",
       "1                     India     1,354,051,854        1.11 %\n",
       "2                      U.S.       326,766,748        0.71 %\n",
       "3                 Indonesia       266,794,980        1.06 %\n",
       "4                    Brazil       210,867,954        0.75 %\n",
       "..                      ...               ...           ...\n",
       "228            Saint Helena             4,074        0.62 %\n",
       "229        Falkland Islands             2,922        0.41 %\n",
       "230                    Niue             1,624        0.37 %\n",
       "231                 Tokelau             1,319        1.46 %\n",
       "232                Holy See               801        1.14 %\n",
       "\n",
       "[233 rows x 3 columns]"
      ]
     },
     "execution_count": 68,
     "metadata": {},
     "output_type": "execute_result"
    }
   ],
   "source": [
    "# The second dataframe\n",
    "\n",
    "df_populations"
   ]
  },
  {
   "cell_type": "code",
   "execution_count": 69,
   "metadata": {},
   "outputs": [
    {
     "data": {
      "text/plain": [
       "Country (or dependency)    object\n",
       "Population (2018)          object\n",
       "Yearly Change              object\n",
       "dtype: object"
      ]
     },
     "execution_count": 69,
     "metadata": {},
     "output_type": "execute_result"
    }
   ],
   "source": [
    "df_populations.dtypes"
   ]
  },
  {
   "cell_type": "code",
   "execution_count": 70,
   "metadata": {
    "collapsed": true
   },
   "outputs": [],
   "source": [
    "# Alter the datatypes\n",
    "\n",
    "df_populations['Population (2018)'] = df_populations['Population (2018)']\\\n",
    "                                        .str.replace(',', '')\\\n",
    "                                        .astype(float, copy=False)\n",
    "\n",
    "df_populations['Yearly Change'] = df_populations['Yearly Change']\\\n",
    "                                    .str.rstrip('%')\\\n",
    "                                    .astype(float, copy=False)"
   ]
  },
  {
   "cell_type": "code",
   "execution_count": 71,
   "metadata": {},
   "outputs": [
    {
     "data": {
      "text/plain": [
       "Country (or dependency)     object\n",
       "Population (2018)          float64\n",
       "Yearly Change              float64\n",
       "dtype: object"
      ]
     },
     "execution_count": 71,
     "metadata": {},
     "output_type": "execute_result"
    }
   ],
   "source": [
    "df_populations.dtypes"
   ]
  },
  {
   "cell_type": "code",
   "execution_count": 72,
   "metadata": {
    "scrolled": false
   },
   "outputs": [
    {
     "data": {
      "text/html": [
       "<div>\n",
       "<style>\n",
       "    .dataframe thead tr:only-child th {\n",
       "        text-align: right;\n",
       "    }\n",
       "\n",
       "    .dataframe thead th {\n",
       "        text-align: left;\n",
       "    }\n",
       "\n",
       "    .dataframe tbody tr th {\n",
       "        vertical-align: top;\n",
       "    }\n",
       "</style>\n",
       "<table border=\"1\" class=\"dataframe\">\n",
       "  <thead>\n",
       "    <tr style=\"text-align: right;\">\n",
       "      <th></th>\n",
       "      <th>Country (or dependency)</th>\n",
       "      <th>Population (2018)</th>\n",
       "      <th>Yearly Change</th>\n",
       "      <th>Country or currency union</th>\n",
       "      <th>Central bank interest rate (%)</th>\n",
       "      <th>Date of last change</th>\n",
       "    </tr>\n",
       "  </thead>\n",
       "  <tbody>\n",
       "    <tr>\n",
       "      <th>0</th>\n",
       "      <td>China</td>\n",
       "      <td>1.415046e+09</td>\n",
       "      <td>0.39</td>\n",
       "      <td>China</td>\n",
       "      <td>1.75</td>\n",
       "      <td>2015-10-23</td>\n",
       "    </tr>\n",
       "    <tr>\n",
       "      <th>1</th>\n",
       "      <td>India</td>\n",
       "      <td>1.354052e+09</td>\n",
       "      <td>1.11</td>\n",
       "      <td>India</td>\n",
       "      <td>6.00</td>\n",
       "      <td>2017-08-02</td>\n",
       "    </tr>\n",
       "    <tr>\n",
       "      <th>2</th>\n",
       "      <td>U.S.</td>\n",
       "      <td>3.267667e+08</td>\n",
       "      <td>0.71</td>\n",
       "      <td>NaN</td>\n",
       "      <td>NaN</td>\n",
       "      <td>NaT</td>\n",
       "    </tr>\n",
       "    <tr>\n",
       "      <th>3</th>\n",
       "      <td>Indonesia</td>\n",
       "      <td>2.667950e+08</td>\n",
       "      <td>1.06</td>\n",
       "      <td>Indonesia</td>\n",
       "      <td>4.75</td>\n",
       "      <td>2016-10-20</td>\n",
       "    </tr>\n",
       "    <tr>\n",
       "      <th>4</th>\n",
       "      <td>Brazil</td>\n",
       "      <td>2.108680e+08</td>\n",
       "      <td>0.75</td>\n",
       "      <td>Brazil</td>\n",
       "      <td>7.25</td>\n",
       "      <td>2017-07-26</td>\n",
       "    </tr>\n",
       "    <tr>\n",
       "      <th>...</th>\n",
       "      <td>...</td>\n",
       "      <td>...</td>\n",
       "      <td>...</td>\n",
       "      <td>...</td>\n",
       "      <td>...</td>\n",
       "      <td>...</td>\n",
       "    </tr>\n",
       "    <tr>\n",
       "      <th>237</th>\n",
       "      <td>NaN</td>\n",
       "      <td>NaN</td>\n",
       "      <td>NaN</td>\n",
       "      <td>UAE</td>\n",
       "      <td>2.00</td>\n",
       "      <td>2017-06-14</td>\n",
       "    </tr>\n",
       "    <tr>\n",
       "      <th>238</th>\n",
       "      <td>NaN</td>\n",
       "      <td>NaN</td>\n",
       "      <td>NaN</td>\n",
       "      <td>United Kingdom</td>\n",
       "      <td>0.50</td>\n",
       "      <td>2017-11-02</td>\n",
       "    </tr>\n",
       "    <tr>\n",
       "      <th>239</th>\n",
       "      <td>NaN</td>\n",
       "      <td>NaN</td>\n",
       "      <td>NaN</td>\n",
       "      <td>United States</td>\n",
       "      <td>1.50</td>\n",
       "      <td>2017-12-13</td>\n",
       "    </tr>\n",
       "    <tr>\n",
       "      <th>240</th>\n",
       "      <td>NaN</td>\n",
       "      <td>NaN</td>\n",
       "      <td>NaN</td>\n",
       "      <td>Vietnam</td>\n",
       "      <td>6.25</td>\n",
       "      <td>2017-07-07</td>\n",
       "    </tr>\n",
       "    <tr>\n",
       "      <th>241</th>\n",
       "      <td>NaN</td>\n",
       "      <td>NaN</td>\n",
       "      <td>NaN</td>\n",
       "      <td>West African States</td>\n",
       "      <td>3.50</td>\n",
       "      <td>2013-09-16</td>\n",
       "    </tr>\n",
       "  </tbody>\n",
       "</table>\n",
       "<p>242 rows × 6 columns</p>\n",
       "</div>"
      ],
      "text/plain": [
       "    Country (or dependency)  Population (2018)  Yearly Change  \\\n",
       "0                     China       1.415046e+09           0.39   \n",
       "1                     India       1.354052e+09           1.11   \n",
       "2                      U.S.       3.267667e+08           0.71   \n",
       "3                 Indonesia       2.667950e+08           1.06   \n",
       "4                    Brazil       2.108680e+08           0.75   \n",
       "..                      ...                ...            ...   \n",
       "237                     NaN                NaN            NaN   \n",
       "238                     NaN                NaN            NaN   \n",
       "239                     NaN                NaN            NaN   \n",
       "240                     NaN                NaN            NaN   \n",
       "241                     NaN                NaN            NaN   \n",
       "\n",
       "    Country or currency union  Central bank interest rate (%)  \\\n",
       "0                       China                            1.75   \n",
       "1                       India                            6.00   \n",
       "2                         NaN                             NaN   \n",
       "3                   Indonesia                            4.75   \n",
       "4                      Brazil                            7.25   \n",
       "..                        ...                             ...   \n",
       "237                       UAE                            2.00   \n",
       "238            United Kingdom                            0.50   \n",
       "239             United States                            1.50   \n",
       "240                   Vietnam                            6.25   \n",
       "241       West African States                            3.50   \n",
       "\n",
       "    Date of last change  \n",
       "0            2015-10-23  \n",
       "1            2017-08-02  \n",
       "2                   NaT  \n",
       "3            2016-10-20  \n",
       "4            2017-07-26  \n",
       "..                  ...  \n",
       "237          2017-06-14  \n",
       "238          2017-11-02  \n",
       "239          2017-12-13  \n",
       "240          2017-07-07  \n",
       "241          2013-09-16  \n",
       "\n",
       "[242 rows x 6 columns]"
      ]
     },
     "execution_count": 72,
     "metadata": {},
     "output_type": "execute_result"
    }
   ],
   "source": [
    "# Merge the two DataFrames on the country names\n",
    "\n",
    "df_merge = pd.merge(df_populations,\n",
    "                    df_int_rates,\n",
    "                    left_on='Country (or dependency)',\n",
    "                    right_on='Country or currency union',\n",
    "                    how='outer')\n",
    "df_merge"
   ]
  },
  {
   "cell_type": "code",
   "execution_count": 73,
   "metadata": {},
   "outputs": [
    {
     "data": {
      "text/html": [
       "<div>\n",
       "<style>\n",
       "    .dataframe thead tr:only-child th {\n",
       "        text-align: right;\n",
       "    }\n",
       "\n",
       "    .dataframe thead th {\n",
       "        text-align: left;\n",
       "    }\n",
       "\n",
       "    .dataframe tbody tr th {\n",
       "        vertical-align: top;\n",
       "    }\n",
       "</style>\n",
       "<table border=\"1\" class=\"dataframe\">\n",
       "  <thead>\n",
       "    <tr style=\"text-align: right;\">\n",
       "      <th></th>\n",
       "      <th>Country (or dependency)</th>\n",
       "      <th>Population (2018)</th>\n",
       "      <th>Yearly Change</th>\n",
       "      <th>Country or currency union</th>\n",
       "      <th>Central bank interest rate (%)</th>\n",
       "      <th>Date of last change</th>\n",
       "    </tr>\n",
       "  </thead>\n",
       "  <tbody>\n",
       "    <tr>\n",
       "      <th>0</th>\n",
       "      <td>China</td>\n",
       "      <td>1.415046e+09</td>\n",
       "      <td>0.39</td>\n",
       "      <td>China</td>\n",
       "      <td>1.75</td>\n",
       "      <td>2015-10-23</td>\n",
       "    </tr>\n",
       "    <tr>\n",
       "      <th>1</th>\n",
       "      <td>India</td>\n",
       "      <td>1.354052e+09</td>\n",
       "      <td>1.11</td>\n",
       "      <td>India</td>\n",
       "      <td>6.00</td>\n",
       "      <td>2017-08-02</td>\n",
       "    </tr>\n",
       "    <tr>\n",
       "      <th>2</th>\n",
       "      <td>U.S.</td>\n",
       "      <td>3.267667e+08</td>\n",
       "      <td>0.71</td>\n",
       "      <td>NaN</td>\n",
       "      <td>NaN</td>\n",
       "      <td>NaT</td>\n",
       "    </tr>\n",
       "    <tr>\n",
       "      <th>3</th>\n",
       "      <td>Indonesia</td>\n",
       "      <td>2.667950e+08</td>\n",
       "      <td>1.06</td>\n",
       "      <td>Indonesia</td>\n",
       "      <td>4.75</td>\n",
       "      <td>2016-10-20</td>\n",
       "    </tr>\n",
       "    <tr>\n",
       "      <th>4</th>\n",
       "      <td>Brazil</td>\n",
       "      <td>2.108680e+08</td>\n",
       "      <td>0.75</td>\n",
       "      <td>Brazil</td>\n",
       "      <td>7.25</td>\n",
       "      <td>2017-07-26</td>\n",
       "    </tr>\n",
       "    <tr>\n",
       "      <th>5</th>\n",
       "      <td>Pakistan</td>\n",
       "      <td>2.008138e+08</td>\n",
       "      <td>1.93</td>\n",
       "      <td>Pakistan</td>\n",
       "      <td>5.75</td>\n",
       "      <td>2016-05-21</td>\n",
       "    </tr>\n",
       "    <tr>\n",
       "      <th>6</th>\n",
       "      <td>Nigeria</td>\n",
       "      <td>1.958752e+08</td>\n",
       "      <td>2.61</td>\n",
       "      <td>Nigeria</td>\n",
       "      <td>14.00</td>\n",
       "      <td>2016-07-26</td>\n",
       "    </tr>\n",
       "    <tr>\n",
       "      <th>7</th>\n",
       "      <td>Bangladesh</td>\n",
       "      <td>1.663681e+08</td>\n",
       "      <td>1.03</td>\n",
       "      <td>Bangladesh</td>\n",
       "      <td>6.75</td>\n",
       "      <td>2016-01-14</td>\n",
       "    </tr>\n",
       "    <tr>\n",
       "      <th>8</th>\n",
       "      <td>Russia</td>\n",
       "      <td>1.439647e+08</td>\n",
       "      <td>-0.02</td>\n",
       "      <td>Russia</td>\n",
       "      <td>7.25</td>\n",
       "      <td>2018-03-23</td>\n",
       "    </tr>\n",
       "    <tr>\n",
       "      <th>9</th>\n",
       "      <td>Mexico</td>\n",
       "      <td>1.307591e+08</td>\n",
       "      <td>1.24</td>\n",
       "      <td>Mexico</td>\n",
       "      <td>7.00</td>\n",
       "      <td>2017-06-22</td>\n",
       "    </tr>\n",
       "  </tbody>\n",
       "</table>\n",
       "</div>"
      ],
      "text/plain": [
       "  Country (or dependency)  Population (2018)  Yearly Change  \\\n",
       "0                   China       1.415046e+09           0.39   \n",
       "1                   India       1.354052e+09           1.11   \n",
       "2                    U.S.       3.267667e+08           0.71   \n",
       "3               Indonesia       2.667950e+08           1.06   \n",
       "4                  Brazil       2.108680e+08           0.75   \n",
       "5                Pakistan       2.008138e+08           1.93   \n",
       "6                 Nigeria       1.958752e+08           2.61   \n",
       "7              Bangladesh       1.663681e+08           1.03   \n",
       "8                  Russia       1.439647e+08          -0.02   \n",
       "9                  Mexico       1.307591e+08           1.24   \n",
       "\n",
       "  Country or currency union  Central bank interest rate (%)  \\\n",
       "0                     China                            1.75   \n",
       "1                     India                            6.00   \n",
       "2                       NaN                             NaN   \n",
       "3                 Indonesia                            4.75   \n",
       "4                    Brazil                            7.25   \n",
       "5                  Pakistan                            5.75   \n",
       "6                   Nigeria                           14.00   \n",
       "7                Bangladesh                            6.75   \n",
       "8                    Russia                            7.25   \n",
       "9                    Mexico                            7.00   \n",
       "\n",
       "  Date of last change  \n",
       "0          2015-10-23  \n",
       "1          2017-08-02  \n",
       "2                 NaT  \n",
       "3          2016-10-20  \n",
       "4          2017-07-26  \n",
       "5          2016-05-21  \n",
       "6          2016-07-26  \n",
       "7          2016-01-14  \n",
       "8          2018-03-23  \n",
       "9          2017-06-22  "
      ]
     },
     "execution_count": 73,
     "metadata": {},
     "output_type": "execute_result"
    }
   ],
   "source": [
    "df_merge.sort_values('Population (2018)', ascending=False)\\\n",
    "    .head(10)"
   ]
  },
  {
   "cell_type": "code",
   "execution_count": 74,
   "metadata": {
    "collapsed": true
   },
   "outputs": [],
   "source": [
    "# Fix the U.S. label\n",
    "\n",
    "col = 'Country (or dependency)'\n",
    "df_populations.loc[df_populations[col] == 'U.S.', col] = 'United States'"
   ]
  },
  {
   "cell_type": "code",
   "execution_count": 75,
   "metadata": {},
   "outputs": [
    {
     "data": {
      "text/html": [
       "<div>\n",
       "<style>\n",
       "    .dataframe thead tr:only-child th {\n",
       "        text-align: right;\n",
       "    }\n",
       "\n",
       "    .dataframe thead th {\n",
       "        text-align: left;\n",
       "    }\n",
       "\n",
       "    .dataframe tbody tr th {\n",
       "        vertical-align: top;\n",
       "    }\n",
       "</style>\n",
       "<table border=\"1\" class=\"dataframe\">\n",
       "  <thead>\n",
       "    <tr style=\"text-align: right;\">\n",
       "      <th></th>\n",
       "      <th>Country (or dependency)</th>\n",
       "      <th>Population (2018)</th>\n",
       "      <th>Yearly Change</th>\n",
       "      <th>Country or currency union</th>\n",
       "      <th>Central bank interest rate (%)</th>\n",
       "      <th>Date of last change</th>\n",
       "    </tr>\n",
       "  </thead>\n",
       "  <tbody>\n",
       "    <tr>\n",
       "      <th>0</th>\n",
       "      <td>China</td>\n",
       "      <td>1.415046e+09</td>\n",
       "      <td>0.39</td>\n",
       "      <td>China</td>\n",
       "      <td>1.75</td>\n",
       "      <td>2015-10-23</td>\n",
       "    </tr>\n",
       "    <tr>\n",
       "      <th>1</th>\n",
       "      <td>India</td>\n",
       "      <td>1.354052e+09</td>\n",
       "      <td>1.11</td>\n",
       "      <td>India</td>\n",
       "      <td>6.00</td>\n",
       "      <td>2017-08-02</td>\n",
       "    </tr>\n",
       "    <tr>\n",
       "      <th>2</th>\n",
       "      <td>United States</td>\n",
       "      <td>3.267667e+08</td>\n",
       "      <td>0.71</td>\n",
       "      <td>United States</td>\n",
       "      <td>1.50</td>\n",
       "      <td>2017-12-13</td>\n",
       "    </tr>\n",
       "    <tr>\n",
       "      <th>3</th>\n",
       "      <td>Indonesia</td>\n",
       "      <td>2.667950e+08</td>\n",
       "      <td>1.06</td>\n",
       "      <td>Indonesia</td>\n",
       "      <td>4.75</td>\n",
       "      <td>2016-10-20</td>\n",
       "    </tr>\n",
       "    <tr>\n",
       "      <th>4</th>\n",
       "      <td>Brazil</td>\n",
       "      <td>2.108680e+08</td>\n",
       "      <td>0.75</td>\n",
       "      <td>Brazil</td>\n",
       "      <td>7.25</td>\n",
       "      <td>2017-07-26</td>\n",
       "    </tr>\n",
       "    <tr>\n",
       "      <th>...</th>\n",
       "      <td>...</td>\n",
       "      <td>...</td>\n",
       "      <td>...</td>\n",
       "      <td>...</td>\n",
       "      <td>...</td>\n",
       "      <td>...</td>\n",
       "    </tr>\n",
       "    <tr>\n",
       "      <th>77</th>\n",
       "      <td>Mauritius</td>\n",
       "      <td>1.268315e+06</td>\n",
       "      <td>0.25</td>\n",
       "      <td>Mauritius</td>\n",
       "      <td>4.00</td>\n",
       "      <td>2016-07-20</td>\n",
       "    </tr>\n",
       "    <tr>\n",
       "      <th>78</th>\n",
       "      <td>Fiji</td>\n",
       "      <td>9.122410e+05</td>\n",
       "      <td>0.74</td>\n",
       "      <td>Fiji</td>\n",
       "      <td>0.50</td>\n",
       "      <td>2011-11-02</td>\n",
       "    </tr>\n",
       "    <tr>\n",
       "      <th>79</th>\n",
       "      <td>Bahamas</td>\n",
       "      <td>3.992850e+05</td>\n",
       "      <td>0.99</td>\n",
       "      <td>Bahamas</td>\n",
       "      <td>4.00</td>\n",
       "      <td>2016-12-22</td>\n",
       "    </tr>\n",
       "    <tr>\n",
       "      <th>80</th>\n",
       "      <td>Iceland</td>\n",
       "      <td>3.377800e+05</td>\n",
       "      <td>0.82</td>\n",
       "      <td>Iceland</td>\n",
       "      <td>4.50</td>\n",
       "      <td>2017-06-14</td>\n",
       "    </tr>\n",
       "    <tr>\n",
       "      <th>81</th>\n",
       "      <td>Samoa</td>\n",
       "      <td>1.976950e+05</td>\n",
       "      <td>0.64</td>\n",
       "      <td>Samoa</td>\n",
       "      <td>0.14</td>\n",
       "      <td>2016-07-01</td>\n",
       "    </tr>\n",
       "  </tbody>\n",
       "</table>\n",
       "<p>82 rows × 6 columns</p>\n",
       "</div>"
      ],
      "text/plain": [
       "   Country (or dependency)  Population (2018)  Yearly Change  \\\n",
       "0                    China       1.415046e+09           0.39   \n",
       "1                    India       1.354052e+09           1.11   \n",
       "2            United States       3.267667e+08           0.71   \n",
       "3                Indonesia       2.667950e+08           1.06   \n",
       "4                   Brazil       2.108680e+08           0.75   \n",
       "..                     ...                ...            ...   \n",
       "77               Mauritius       1.268315e+06           0.25   \n",
       "78                    Fiji       9.122410e+05           0.74   \n",
       "79                 Bahamas       3.992850e+05           0.99   \n",
       "80                 Iceland       3.377800e+05           0.82   \n",
       "81                   Samoa       1.976950e+05           0.64   \n",
       "\n",
       "   Country or currency union  Central bank interest rate (%)  \\\n",
       "0                      China                            1.75   \n",
       "1                      India                            6.00   \n",
       "2              United States                            1.50   \n",
       "3                  Indonesia                            4.75   \n",
       "4                     Brazil                            7.25   \n",
       "..                       ...                             ...   \n",
       "77                 Mauritius                            4.00   \n",
       "78                      Fiji                            0.50   \n",
       "79                   Bahamas                            4.00   \n",
       "80                   Iceland                            4.50   \n",
       "81                     Samoa                            0.14   \n",
       "\n",
       "   Date of last change  \n",
       "0           2015-10-23  \n",
       "1           2017-08-02  \n",
       "2           2017-12-13  \n",
       "3           2016-10-20  \n",
       "4           2017-07-26  \n",
       "..                 ...  \n",
       "77          2016-07-20  \n",
       "78          2011-11-02  \n",
       "79          2016-12-22  \n",
       "80          2017-06-14  \n",
       "81          2016-07-01  \n",
       "\n",
       "[82 rows x 6 columns]"
      ]
     },
     "execution_count": 75,
     "metadata": {},
     "output_type": "execute_result"
    }
   ],
   "source": [
    "# Re merge on country names\n",
    "\n",
    "df_merge = pd.merge(df_populations,\n",
    "                    df_int_rates,\n",
    "                    left_on='Country (or dependency)',\n",
    "                    right_on='Country or currency union',\n",
    "                    how='inner')\n",
    "df_merge"
   ]
  },
  {
   "cell_type": "code",
   "execution_count": 76,
   "metadata": {
    "collapsed": true
   },
   "outputs": [],
   "source": [
    "del df_merge['Country or currency union']"
   ]
  },
  {
   "cell_type": "code",
   "execution_count": 77,
   "metadata": {
    "collapsed": true
   },
   "outputs": [],
   "source": [
    "# Rename columns\n",
    "\n",
    "name_map = {'Country (or dependency)': 'Country',\n",
    "            'Population (2018)': 'Population',\n",
    "            'Central bank interest rate (%)': 'Interest rate'}\n",
    "\n",
    "df_merge = df_merge.rename(columns=name_map)"
   ]
  },
  {
   "cell_type": "code",
   "execution_count": 78,
   "metadata": {},
   "outputs": [
    {
     "data": {
      "text/html": [
       "<div>\n",
       "<style>\n",
       "    .dataframe thead tr:only-child th {\n",
       "        text-align: right;\n",
       "    }\n",
       "\n",
       "    .dataframe thead th {\n",
       "        text-align: left;\n",
       "    }\n",
       "\n",
       "    .dataframe tbody tr th {\n",
       "        vertical-align: top;\n",
       "    }\n",
       "</style>\n",
       "<table border=\"1\" class=\"dataframe\">\n",
       "  <thead>\n",
       "    <tr style=\"text-align: right;\">\n",
       "      <th></th>\n",
       "      <th>Country</th>\n",
       "      <th>Population</th>\n",
       "      <th>Yearly Change</th>\n",
       "      <th>Interest rate</th>\n",
       "      <th>Date of last change</th>\n",
       "    </tr>\n",
       "  </thead>\n",
       "  <tbody>\n",
       "    <tr>\n",
       "      <th>0</th>\n",
       "      <td>China</td>\n",
       "      <td>1.415046e+09</td>\n",
       "      <td>0.39</td>\n",
       "      <td>1.75</td>\n",
       "      <td>2015-10-23</td>\n",
       "    </tr>\n",
       "    <tr>\n",
       "      <th>1</th>\n",
       "      <td>India</td>\n",
       "      <td>1.354052e+09</td>\n",
       "      <td>1.11</td>\n",
       "      <td>6.00</td>\n",
       "      <td>2017-08-02</td>\n",
       "    </tr>\n",
       "    <tr>\n",
       "      <th>2</th>\n",
       "      <td>United States</td>\n",
       "      <td>3.267667e+08</td>\n",
       "      <td>0.71</td>\n",
       "      <td>1.50</td>\n",
       "      <td>2017-12-13</td>\n",
       "    </tr>\n",
       "    <tr>\n",
       "      <th>3</th>\n",
       "      <td>Indonesia</td>\n",
       "      <td>2.667950e+08</td>\n",
       "      <td>1.06</td>\n",
       "      <td>4.75</td>\n",
       "      <td>2016-10-20</td>\n",
       "    </tr>\n",
       "    <tr>\n",
       "      <th>4</th>\n",
       "      <td>Brazil</td>\n",
       "      <td>2.108680e+08</td>\n",
       "      <td>0.75</td>\n",
       "      <td>7.25</td>\n",
       "      <td>2017-07-26</td>\n",
       "    </tr>\n",
       "    <tr>\n",
       "      <th>...</th>\n",
       "      <td>...</td>\n",
       "      <td>...</td>\n",
       "      <td>...</td>\n",
       "      <td>...</td>\n",
       "      <td>...</td>\n",
       "    </tr>\n",
       "    <tr>\n",
       "      <th>77</th>\n",
       "      <td>Mauritius</td>\n",
       "      <td>1.268315e+06</td>\n",
       "      <td>0.25</td>\n",
       "      <td>4.00</td>\n",
       "      <td>2016-07-20</td>\n",
       "    </tr>\n",
       "    <tr>\n",
       "      <th>78</th>\n",
       "      <td>Fiji</td>\n",
       "      <td>9.122410e+05</td>\n",
       "      <td>0.74</td>\n",
       "      <td>0.50</td>\n",
       "      <td>2011-11-02</td>\n",
       "    </tr>\n",
       "    <tr>\n",
       "      <th>79</th>\n",
       "      <td>Bahamas</td>\n",
       "      <td>3.992850e+05</td>\n",
       "      <td>0.99</td>\n",
       "      <td>4.00</td>\n",
       "      <td>2016-12-22</td>\n",
       "    </tr>\n",
       "    <tr>\n",
       "      <th>80</th>\n",
       "      <td>Iceland</td>\n",
       "      <td>3.377800e+05</td>\n",
       "      <td>0.82</td>\n",
       "      <td>4.50</td>\n",
       "      <td>2017-06-14</td>\n",
       "    </tr>\n",
       "    <tr>\n",
       "      <th>81</th>\n",
       "      <td>Samoa</td>\n",
       "      <td>1.976950e+05</td>\n",
       "      <td>0.64</td>\n",
       "      <td>0.14</td>\n",
       "      <td>2016-07-01</td>\n",
       "    </tr>\n",
       "  </tbody>\n",
       "</table>\n",
       "<p>82 rows × 5 columns</p>\n",
       "</div>"
      ],
      "text/plain": [
       "          Country    Population  Yearly Change  Interest rate  \\\n",
       "0           China  1.415046e+09           0.39           1.75   \n",
       "1           India  1.354052e+09           1.11           6.00   \n",
       "2   United States  3.267667e+08           0.71           1.50   \n",
       "3       Indonesia  2.667950e+08           1.06           4.75   \n",
       "4          Brazil  2.108680e+08           0.75           7.25   \n",
       "..            ...           ...            ...            ...   \n",
       "77      Mauritius  1.268315e+06           0.25           4.00   \n",
       "78           Fiji  9.122410e+05           0.74           0.50   \n",
       "79        Bahamas  3.992850e+05           0.99           4.00   \n",
       "80        Iceland  3.377800e+05           0.82           4.50   \n",
       "81          Samoa  1.976950e+05           0.64           0.14   \n",
       "\n",
       "   Date of last change  \n",
       "0           2015-10-23  \n",
       "1           2017-08-02  \n",
       "2           2017-12-13  \n",
       "3           2016-10-20  \n",
       "4           2017-07-26  \n",
       "..                 ...  \n",
       "77          2016-07-20  \n",
       "78          2011-11-02  \n",
       "79          2016-12-22  \n",
       "80          2017-06-14  \n",
       "81          2016-07-01  \n",
       "\n",
       "[82 rows x 5 columns]"
      ]
     },
     "execution_count": 78,
     "metadata": {},
     "output_type": "execute_result"
    }
   ],
   "source": [
    "df_merge"
   ]
  },
  {
   "cell_type": "code",
   "execution_count": 79,
   "metadata": {
    "collapsed": true
   },
   "outputs": [],
   "source": [
    "# Write to CSV\n",
    "\n",
    "df_merge.to_csv('../data/countries/merged.csv', index=False)"
   ]
  },
  {
   "cell_type": "markdown",
   "metadata": {},
   "source": [
    "---\n",
    "### Subtopic B: Introduction to Bokeh\n",
    "---"
   ]
  },
  {
   "cell_type": "code",
   "execution_count": 80,
   "metadata": {},
   "outputs": [
    {
     "data": {
      "text/html": [
       "\n",
       "    <div class=\"bk-root\">\n",
       "        <a href=\"https://bokeh.pydata.org\" target=\"_blank\" class=\"bk-logo bk-logo-small bk-logo-notebook\"></a>\n",
       "        <span id=\"caf6d002-905a-4d0a-827b-31871771f231\">Loading BokehJS ...</span>\n",
       "    </div>"
      ]
     },
     "metadata": {},
     "output_type": "display_data"
    },
    {
     "data": {
      "application/javascript": [
       "\n",
       "(function(root) {\n",
       "  function now() {\n",
       "    return new Date();\n",
       "  }\n",
       "\n",
       "  var force = true;\n",
       "\n",
       "  if (typeof (root._bokeh_onload_callbacks) === \"undefined\" || force === true) {\n",
       "    root._bokeh_onload_callbacks = [];\n",
       "    root._bokeh_is_loading = undefined;\n",
       "  }\n",
       "\n",
       "  var JS_MIME_TYPE = 'application/javascript';\n",
       "  var HTML_MIME_TYPE = 'text/html';\n",
       "  var EXEC_MIME_TYPE = 'application/vnd.bokehjs_exec.v0+json';\n",
       "  var CLASS_NAME = 'output_bokeh rendered_html';\n",
       "\n",
       "  /**\n",
       "   * Render data to the DOM node\n",
       "   */\n",
       "  function render(props, node) {\n",
       "    var script = document.createElement(\"script\");\n",
       "    node.appendChild(script);\n",
       "  }\n",
       "\n",
       "  /**\n",
       "   * Handle when an output is cleared or removed\n",
       "   */\n",
       "  function handleClearOutput(event, handle) {\n",
       "    var cell = handle.cell;\n",
       "\n",
       "    var id = cell.output_area._bokeh_element_id;\n",
       "    var server_id = cell.output_area._bokeh_server_id;\n",
       "    // Clean up Bokeh references\n",
       "    if (id !== undefined) {\n",
       "      Bokeh.index[id].model.document.clear();\n",
       "      delete Bokeh.index[id];\n",
       "    }\n",
       "\n",
       "    if (server_id !== undefined) {\n",
       "      // Clean up Bokeh references\n",
       "      var cmd = \"from bokeh.io.state import curstate; print(curstate().uuid_to_server['\" + server_id + \"'].get_sessions()[0].document.roots[0]._id)\";\n",
       "      cell.notebook.kernel.execute(cmd, {\n",
       "        iopub: {\n",
       "          output: function(msg) {\n",
       "            var element_id = msg.content.text.trim();\n",
       "            Bokeh.index[element_id].model.document.clear();\n",
       "            delete Bokeh.index[element_id];\n",
       "          }\n",
       "        }\n",
       "      });\n",
       "      // Destroy server and session\n",
       "      var cmd = \"import bokeh.io.notebook as ion; ion.destroy_server('\" + server_id + \"')\";\n",
       "      cell.notebook.kernel.execute(cmd);\n",
       "    }\n",
       "  }\n",
       "\n",
       "  /**\n",
       "   * Handle when a new output is added\n",
       "   */\n",
       "  function handleAddOutput(event, handle) {\n",
       "    var output_area = handle.output_area;\n",
       "    var output = handle.output;\n",
       "\n",
       "    // limit handleAddOutput to display_data with EXEC_MIME_TYPE content only\n",
       "    if ((output.output_type != \"display_data\") || (!output.data.hasOwnProperty(EXEC_MIME_TYPE))) {\n",
       "      return\n",
       "    }\n",
       "\n",
       "    var toinsert = output_area.element.find(`.${CLASS_NAME.split(' ')[0]}`);\n",
       "\n",
       "    if (output.metadata[EXEC_MIME_TYPE][\"id\"] !== undefined) {\n",
       "      toinsert[0].firstChild.textContent = output.data[JS_MIME_TYPE];\n",
       "      // store reference to embed id on output_area\n",
       "      output_area._bokeh_element_id = output.metadata[EXEC_MIME_TYPE][\"id\"];\n",
       "    }\n",
       "    if (output.metadata[EXEC_MIME_TYPE][\"server_id\"] !== undefined) {\n",
       "      var bk_div = document.createElement(\"div\");\n",
       "      bk_div.innerHTML = output.data[HTML_MIME_TYPE];\n",
       "      var script_attrs = bk_div.children[0].attributes;\n",
       "      for (var i = 0; i < script_attrs.length; i++) {\n",
       "        toinsert[0].firstChild.setAttribute(script_attrs[i].name, script_attrs[i].value);\n",
       "      }\n",
       "      // store reference to server id on output_area\n",
       "      output_area._bokeh_server_id = output.metadata[EXEC_MIME_TYPE][\"server_id\"];\n",
       "    }\n",
       "  }\n",
       "\n",
       "  function register_renderer(events, OutputArea) {\n",
       "\n",
       "    function append_mime(data, metadata, element) {\n",
       "      // create a DOM node to render to\n",
       "      var toinsert = this.create_output_subarea(\n",
       "        metadata,\n",
       "        CLASS_NAME,\n",
       "        EXEC_MIME_TYPE\n",
       "      );\n",
       "      this.keyboard_manager.register_events(toinsert);\n",
       "      // Render to node\n",
       "      var props = {data: data, metadata: metadata[EXEC_MIME_TYPE]};\n",
       "      render(props, toinsert[0]);\n",
       "      element.append(toinsert);\n",
       "      return toinsert\n",
       "    }\n",
       "\n",
       "    /* Handle when an output is cleared or removed */\n",
       "    events.on('clear_output.CodeCell', handleClearOutput);\n",
       "    events.on('delete.Cell', handleClearOutput);\n",
       "\n",
       "    /* Handle when a new output is added */\n",
       "    events.on('output_added.OutputArea', handleAddOutput);\n",
       "\n",
       "    /**\n",
       "     * Register the mime type and append_mime function with output_area\n",
       "     */\n",
       "    OutputArea.prototype.register_mime_type(EXEC_MIME_TYPE, append_mime, {\n",
       "      /* Is output safe? */\n",
       "      safe: true,\n",
       "      /* Index of renderer in `output_area.display_order` */\n",
       "      index: 0\n",
       "    });\n",
       "  }\n",
       "\n",
       "  // register the mime type if in Jupyter Notebook environment and previously unregistered\n",
       "  if (root.Jupyter !== undefined) {\n",
       "    var events = require('base/js/events');\n",
       "    var OutputArea = require('notebook/js/outputarea').OutputArea;\n",
       "\n",
       "    if (OutputArea.prototype.mime_types().indexOf(EXEC_MIME_TYPE) == -1) {\n",
       "      register_renderer(events, OutputArea);\n",
       "    }\n",
       "  }\n",
       "\n",
       "  \n",
       "  if (typeof (root._bokeh_timeout) === \"undefined\" || force === true) {\n",
       "    root._bokeh_timeout = Date.now() + 5000;\n",
       "    root._bokeh_failed_load = false;\n",
       "  }\n",
       "\n",
       "  var NB_LOAD_WARNING = {'data': {'text/html':\n",
       "     \"<div style='background-color: #fdd'>\\n\"+\n",
       "     \"<p>\\n\"+\n",
       "     \"BokehJS does not appear to have successfully loaded. If loading BokehJS from CDN, this \\n\"+\n",
       "     \"may be due to a slow or bad network connection. Possible fixes:\\n\"+\n",
       "     \"</p>\\n\"+\n",
       "     \"<ul>\\n\"+\n",
       "     \"<li>re-rerun `output_notebook()` to attempt to load from CDN again, or</li>\\n\"+\n",
       "     \"<li>use INLINE resources instead, as so:</li>\\n\"+\n",
       "     \"</ul>\\n\"+\n",
       "     \"<code>\\n\"+\n",
       "     \"from bokeh.resources import INLINE\\n\"+\n",
       "     \"output_notebook(resources=INLINE)\\n\"+\n",
       "     \"</code>\\n\"+\n",
       "     \"</div>\"}};\n",
       "\n",
       "  function display_loaded() {\n",
       "    var el = document.getElementById(\"caf6d002-905a-4d0a-827b-31871771f231\");\n",
       "    if (el != null) {\n",
       "      el.textContent = \"BokehJS is loading...\";\n",
       "    }\n",
       "    if (root.Bokeh !== undefined) {\n",
       "      if (el != null) {\n",
       "        el.textContent = \"BokehJS \" + root.Bokeh.version + \" successfully loaded.\";\n",
       "      }\n",
       "    } else if (Date.now() < root._bokeh_timeout) {\n",
       "      setTimeout(display_loaded, 100)\n",
       "    }\n",
       "  }\n",
       "\n",
       "\n",
       "  function run_callbacks() {\n",
       "    try {\n",
       "      root._bokeh_onload_callbacks.forEach(function(callback) { callback() });\n",
       "    }\n",
       "    finally {\n",
       "      delete root._bokeh_onload_callbacks\n",
       "    }\n",
       "    console.info(\"Bokeh: all callbacks have finished\");\n",
       "  }\n",
       "\n",
       "  function load_libs(js_urls, callback) {\n",
       "    root._bokeh_onload_callbacks.push(callback);\n",
       "    if (root._bokeh_is_loading > 0) {\n",
       "      console.log(\"Bokeh: BokehJS is being loaded, scheduling callback at\", now());\n",
       "      return null;\n",
       "    }\n",
       "    if (js_urls == null || js_urls.length === 0) {\n",
       "      run_callbacks();\n",
       "      return null;\n",
       "    }\n",
       "    console.log(\"Bokeh: BokehJS not loaded, scheduling load and callback at\", now());\n",
       "    root._bokeh_is_loading = js_urls.length;\n",
       "    for (var i = 0; i < js_urls.length; i++) {\n",
       "      var url = js_urls[i];\n",
       "      var s = document.createElement('script');\n",
       "      s.src = url;\n",
       "      s.async = false;\n",
       "      s.onreadystatechange = s.onload = function() {\n",
       "        root._bokeh_is_loading--;\n",
       "        if (root._bokeh_is_loading === 0) {\n",
       "          console.log(\"Bokeh: all BokehJS libraries loaded\");\n",
       "          run_callbacks()\n",
       "        }\n",
       "      };\n",
       "      s.onerror = function() {\n",
       "        console.warn(\"failed to load library \" + url);\n",
       "      };\n",
       "      console.log(\"Bokeh: injecting script tag for BokehJS library: \", url);\n",
       "      document.getElementsByTagName(\"head\")[0].appendChild(s);\n",
       "    }\n",
       "  };var element = document.getElementById(\"caf6d002-905a-4d0a-827b-31871771f231\");\n",
       "  if (element == null) {\n",
       "    console.log(\"Bokeh: ERROR: autoload.js configured with elementid 'caf6d002-905a-4d0a-827b-31871771f231' but no matching script tag was found. \")\n",
       "    return false;\n",
       "  }\n",
       "\n",
       "  var js_urls = [\"https://cdn.pydata.org/bokeh/release/bokeh-0.12.10.min.js\", \"https://cdn.pydata.org/bokeh/release/bokeh-widgets-0.12.10.min.js\", \"https://cdn.pydata.org/bokeh/release/bokeh-tables-0.12.10.min.js\", \"https://cdn.pydata.org/bokeh/release/bokeh-gl-0.12.10.min.js\"];\n",
       "\n",
       "  var inline_js = [\n",
       "    function(Bokeh) {\n",
       "      Bokeh.set_log_level(\"info\");\n",
       "    },\n",
       "    \n",
       "    function(Bokeh) {\n",
       "      \n",
       "    },\n",
       "    function(Bokeh) {\n",
       "      console.log(\"Bokeh: injecting CSS: https://cdn.pydata.org/bokeh/release/bokeh-0.12.10.min.css\");\n",
       "      Bokeh.embed.inject_css(\"https://cdn.pydata.org/bokeh/release/bokeh-0.12.10.min.css\");\n",
       "      console.log(\"Bokeh: injecting CSS: https://cdn.pydata.org/bokeh/release/bokeh-widgets-0.12.10.min.css\");\n",
       "      Bokeh.embed.inject_css(\"https://cdn.pydata.org/bokeh/release/bokeh-widgets-0.12.10.min.css\");\n",
       "      console.log(\"Bokeh: injecting CSS: https://cdn.pydata.org/bokeh/release/bokeh-tables-0.12.10.min.css\");\n",
       "      Bokeh.embed.inject_css(\"https://cdn.pydata.org/bokeh/release/bokeh-tables-0.12.10.min.css\");\n",
       "    }\n",
       "  ];\n",
       "\n",
       "  function run_inline_js() {\n",
       "    \n",
       "    if ((root.Bokeh !== undefined) || (force === true)) {\n",
       "      for (var i = 0; i < inline_js.length; i++) {\n",
       "        inline_js[i].call(root, root.Bokeh);\n",
       "      }if (force === true) {\n",
       "        display_loaded();\n",
       "      }} else if (Date.now() < root._bokeh_timeout) {\n",
       "      setTimeout(run_inline_js, 100);\n",
       "    } else if (!root._bokeh_failed_load) {\n",
       "      console.log(\"Bokeh: BokehJS failed to load within specified timeout.\");\n",
       "      root._bokeh_failed_load = true;\n",
       "    } else if (force !== true) {\n",
       "      var cell = $(document.getElementById(\"caf6d002-905a-4d0a-827b-31871771f231\")).parents('.cell').data().cell;\n",
       "      cell.output_area.append_execute_result(NB_LOAD_WARNING)\n",
       "    }\n",
       "\n",
       "  }\n",
       "\n",
       "  if (root._bokeh_is_loading === 0) {\n",
       "    console.log(\"Bokeh: BokehJS loaded, going straight to plotting\");\n",
       "    run_inline_js();\n",
       "  } else {\n",
       "    load_libs(js_urls, function() {\n",
       "      console.log(\"Bokeh: BokehJS plotting callback run at\", now());\n",
       "      run_inline_js();\n",
       "    });\n",
       "  }\n",
       "}(window));"
      ],
      "application/vnd.bokehjs_load.v0+json": "\n(function(root) {\n  function now() {\n    return new Date();\n  }\n\n  var force = true;\n\n  if (typeof (root._bokeh_onload_callbacks) === \"undefined\" || force === true) {\n    root._bokeh_onload_callbacks = [];\n    root._bokeh_is_loading = undefined;\n  }\n\n  \n\n  \n  if (typeof (root._bokeh_timeout) === \"undefined\" || force === true) {\n    root._bokeh_timeout = Date.now() + 5000;\n    root._bokeh_failed_load = false;\n  }\n\n  var NB_LOAD_WARNING = {'data': {'text/html':\n     \"<div style='background-color: #fdd'>\\n\"+\n     \"<p>\\n\"+\n     \"BokehJS does not appear to have successfully loaded. If loading BokehJS from CDN, this \\n\"+\n     \"may be due to a slow or bad network connection. Possible fixes:\\n\"+\n     \"</p>\\n\"+\n     \"<ul>\\n\"+\n     \"<li>re-rerun `output_notebook()` to attempt to load from CDN again, or</li>\\n\"+\n     \"<li>use INLINE resources instead, as so:</li>\\n\"+\n     \"</ul>\\n\"+\n     \"<code>\\n\"+\n     \"from bokeh.resources import INLINE\\n\"+\n     \"output_notebook(resources=INLINE)\\n\"+\n     \"</code>\\n\"+\n     \"</div>\"}};\n\n  function display_loaded() {\n    var el = document.getElementById(\"caf6d002-905a-4d0a-827b-31871771f231\");\n    if (el != null) {\n      el.textContent = \"BokehJS is loading...\";\n    }\n    if (root.Bokeh !== undefined) {\n      if (el != null) {\n        el.textContent = \"BokehJS \" + root.Bokeh.version + \" successfully loaded.\";\n      }\n    } else if (Date.now() < root._bokeh_timeout) {\n      setTimeout(display_loaded, 100)\n    }\n  }\n\n\n  function run_callbacks() {\n    try {\n      root._bokeh_onload_callbacks.forEach(function(callback) { callback() });\n    }\n    finally {\n      delete root._bokeh_onload_callbacks\n    }\n    console.info(\"Bokeh: all callbacks have finished\");\n  }\n\n  function load_libs(js_urls, callback) {\n    root._bokeh_onload_callbacks.push(callback);\n    if (root._bokeh_is_loading > 0) {\n      console.log(\"Bokeh: BokehJS is being loaded, scheduling callback at\", now());\n      return null;\n    }\n    if (js_urls == null || js_urls.length === 0) {\n      run_callbacks();\n      return null;\n    }\n    console.log(\"Bokeh: BokehJS not loaded, scheduling load and callback at\", now());\n    root._bokeh_is_loading = js_urls.length;\n    for (var i = 0; i < js_urls.length; i++) {\n      var url = js_urls[i];\n      var s = document.createElement('script');\n      s.src = url;\n      s.async = false;\n      s.onreadystatechange = s.onload = function() {\n        root._bokeh_is_loading--;\n        if (root._bokeh_is_loading === 0) {\n          console.log(\"Bokeh: all BokehJS libraries loaded\");\n          run_callbacks()\n        }\n      };\n      s.onerror = function() {\n        console.warn(\"failed to load library \" + url);\n      };\n      console.log(\"Bokeh: injecting script tag for BokehJS library: \", url);\n      document.getElementsByTagName(\"head\")[0].appendChild(s);\n    }\n  };var element = document.getElementById(\"caf6d002-905a-4d0a-827b-31871771f231\");\n  if (element == null) {\n    console.log(\"Bokeh: ERROR: autoload.js configured with elementid 'caf6d002-905a-4d0a-827b-31871771f231' but no matching script tag was found. \")\n    return false;\n  }\n\n  var js_urls = [\"https://cdn.pydata.org/bokeh/release/bokeh-0.12.10.min.js\", \"https://cdn.pydata.org/bokeh/release/bokeh-widgets-0.12.10.min.js\", \"https://cdn.pydata.org/bokeh/release/bokeh-tables-0.12.10.min.js\", \"https://cdn.pydata.org/bokeh/release/bokeh-gl-0.12.10.min.js\"];\n\n  var inline_js = [\n    function(Bokeh) {\n      Bokeh.set_log_level(\"info\");\n    },\n    \n    function(Bokeh) {\n      \n    },\n    function(Bokeh) {\n      console.log(\"Bokeh: injecting CSS: https://cdn.pydata.org/bokeh/release/bokeh-0.12.10.min.css\");\n      Bokeh.embed.inject_css(\"https://cdn.pydata.org/bokeh/release/bokeh-0.12.10.min.css\");\n      console.log(\"Bokeh: injecting CSS: https://cdn.pydata.org/bokeh/release/bokeh-widgets-0.12.10.min.css\");\n      Bokeh.embed.inject_css(\"https://cdn.pydata.org/bokeh/release/bokeh-widgets-0.12.10.min.css\");\n      console.log(\"Bokeh: injecting CSS: https://cdn.pydata.org/bokeh/release/bokeh-tables-0.12.10.min.css\");\n      Bokeh.embed.inject_css(\"https://cdn.pydata.org/bokeh/release/bokeh-tables-0.12.10.min.css\");\n    }\n  ];\n\n  function run_inline_js() {\n    \n    if ((root.Bokeh !== undefined) || (force === true)) {\n      for (var i = 0; i < inline_js.length; i++) {\n        inline_js[i].call(root, root.Bokeh);\n      }if (force === true) {\n        display_loaded();\n      }} else if (Date.now() < root._bokeh_timeout) {\n      setTimeout(run_inline_js, 100);\n    } else if (!root._bokeh_failed_load) {\n      console.log(\"Bokeh: BokehJS failed to load within specified timeout.\");\n      root._bokeh_failed_load = true;\n    } else if (force !== true) {\n      var cell = $(document.getElementById(\"caf6d002-905a-4d0a-827b-31871771f231\")).parents('.cell').data().cell;\n      cell.output_area.append_execute_result(NB_LOAD_WARNING)\n    }\n\n  }\n\n  if (root._bokeh_is_loading === 0) {\n    console.log(\"Bokeh: BokehJS loaded, going straight to plotting\");\n    run_inline_js();\n  } else {\n    load_libs(js_urls, function() {\n      console.log(\"Bokeh: BokehJS plotting callback run at\", now());\n      run_inline_js();\n    });\n  }\n}(window));"
     },
     "metadata": {},
     "output_type": "display_data"
    }
   ],
   "source": [
    "# Load Bokeh for the notebook\n",
    "\n",
    "from bokeh.plotting import figure, show, output_notebook\n",
    "output_notebook()"
   ]
  },
  {
   "cell_type": "code",
   "execution_count": 81,
   "metadata": {},
   "outputs": [
    {
     "data": {
      "text/html": [
       "\n",
       "<div class=\"bk-root\">\n",
       "    <div class=\"bk-plotdiv\" id=\"b4713253-9c5d-4c8d-88fc-c30d4472cb23\"></div>\n",
       "</div>"
      ]
     },
     "metadata": {},
     "output_type": "display_data"
    },
    {
     "data": {
      "application/javascript": [
       "(function(root) {\n",
       "  function embed_document(root) {\n",
       "    var docs_json = {\"a6d3534e-c208-47b7-9976-30072170b76b\":{\"roots\":{\"references\":[{\"attributes\":{\"overlay\":{\"id\":\"7d0d0d54-ccde-4e9b-b6a9-8ef11253735e\",\"type\":\"BoxAnnotation\"}},\"id\":\"787085ba-2f79-46da-bac8-3437d0d94eba\",\"type\":\"BoxZoomTool\"},{\"attributes\":{},\"id\":\"b962c8ca-d47c-4b56-8b87-d170d3f70c6b\",\"type\":\"BasicTickFormatter\"},{\"attributes\":{},\"id\":\"437a61c3-a9ed-4784-b9e4-5a98ff0d2e63\",\"type\":\"LinearScale\"},{\"attributes\":{\"plot\":{\"id\":\"3fbe0dd6-e447-4ad0-9738-6544c6932202\",\"subtype\":\"Figure\",\"type\":\"Plot\"},\"ticker\":{\"id\":\"a16e5b1c-3373-44b4-9841-40458a964570\",\"type\":\"BasicTicker\"}},\"id\":\"7b55296d-364c-4c95-af38-d7a5ee059c79\",\"type\":\"Grid\"},{\"attributes\":{\"data_source\":{\"id\":\"b712cbaf-593a-4011-b79f-9e6788652a9f\",\"type\":\"ColumnDataSource\"},\"glyph\":{\"id\":\"4c8aceaf-753c-492d-935e-808088f06020\",\"type\":\"Line\"},\"hover_glyph\":null,\"muted_glyph\":null,\"nonselection_glyph\":{\"id\":\"a432212a-0a43-4dfe-92db-ca65525cef65\",\"type\":\"Line\"},\"selection_glyph\":null,\"view\":{\"id\":\"3d71497f-fb33-4ab7-8245-5c0aaff3ed9f\",\"type\":\"CDSView\"}},\"id\":\"dc4bbfb6-82ec-4be1-8459-7036fdfc6ee5\",\"type\":\"GlyphRenderer\"},{\"attributes\":{\"label\":{\"value\":\"Random trend\"},\"renderers\":[{\"id\":\"dc4bbfb6-82ec-4be1-8459-7036fdfc6ee5\",\"type\":\"GlyphRenderer\"}]},\"id\":\"994be71c-9c7f-4641-bb2b-56d38b1dc625\",\"type\":\"LegendItem\"},{\"attributes\":{\"below\":[{\"id\":\"58e4f458-26aa-4626-abcf-e8be4e29150d\",\"type\":\"LinearAxis\"}],\"left\":[{\"id\":\"524b4146-05fe-4a7c-896e-c7aa59de3b9d\",\"type\":\"LinearAxis\"}],\"renderers\":[{\"id\":\"58e4f458-26aa-4626-abcf-e8be4e29150d\",\"type\":\"LinearAxis\"},{\"id\":\"7b55296d-364c-4c95-af38-d7a5ee059c79\",\"type\":\"Grid\"},{\"id\":\"524b4146-05fe-4a7c-896e-c7aa59de3b9d\",\"type\":\"LinearAxis\"},{\"id\":\"820e92c4-e388-4b46-a26b-ccb3df099c0c\",\"type\":\"Grid\"},{\"id\":\"7d0d0d54-ccde-4e9b-b6a9-8ef11253735e\",\"type\":\"BoxAnnotation\"},{\"id\":\"eedf09ad-6898-4d72-a183-db36b7a09596\",\"type\":\"Legend\"},{\"id\":\"dc4bbfb6-82ec-4be1-8459-7036fdfc6ee5\",\"type\":\"GlyphRenderer\"}],\"title\":{\"id\":\"e2283611-566c-4bd1-a560-6168c2324a9f\",\"type\":\"Title\"},\"toolbar\":{\"id\":\"461303cd-ad00-4574-99fb-d84fd6f2f209\",\"type\":\"Toolbar\"},\"x_range\":{\"id\":\"643d5618-e717-4ea4-bc17-174acef00b50\",\"type\":\"DataRange1d\"},\"x_scale\":{\"id\":\"0210efac-2998-4a6e-9451-15737a4003b9\",\"type\":\"LinearScale\"},\"y_range\":{\"id\":\"99a20cee-a6b8-46bf-a5aa-f737e5b49871\",\"type\":\"DataRange1d\"},\"y_scale\":{\"id\":\"437a61c3-a9ed-4784-b9e4-5a98ff0d2e63\",\"type\":\"LinearScale\"}},\"id\":\"3fbe0dd6-e447-4ad0-9738-6544c6932202\",\"subtype\":\"Figure\",\"type\":\"Plot\"},{\"attributes\":{\"bottom_units\":\"screen\",\"fill_alpha\":{\"value\":0.5},\"fill_color\":{\"value\":\"lightgrey\"},\"left_units\":\"screen\",\"level\":\"overlay\",\"line_alpha\":{\"value\":1.0},\"line_color\":{\"value\":\"black\"},\"line_dash\":[4,4],\"line_width\":{\"value\":2},\"plot\":null,\"render_mode\":\"css\",\"right_units\":\"screen\",\"top_units\":\"screen\"},\"id\":\"7d0d0d54-ccde-4e9b-b6a9-8ef11253735e\",\"type\":\"BoxAnnotation\"},{\"attributes\":{},\"id\":\"9b58e135-c3c5-4cf6-a5cc-b0fe7c9f0ab5\",\"type\":\"BasicTickFormatter\"},{\"attributes\":{\"callback\":null,\"column_names\":[\"y\",\"x\"],\"data\":{\"x\":[0,1,2,3,4,5,6,7,8,9,10,11,12,13,14,15,16,17,18,19,20,21,22,23,24,25,26,27,28,29,30,31,32,33,34,35,36,37,38,39,40,41,42,43,44,45,46,47,48,49,50,51,52,53,54,55,56,57,58,59,60,61,62,63,64,65,66,67,68,69,70,71,72,73,74,75,76,77,78,79,80,81,82,83,84,85,86,87,88,89,90,91,92,93,94,95,96,97,98,99,100,101,102,103,104,105,106,107,108,109,110,111,112,113,114,115,116,117,118,119,120,121,122,123,124,125,126,127,128,129,130,131,132,133,134,135,136,137,138,139,140,141,142,143,144,145,146,147,148,149,150,151,152,153,154,155,156,157,158,159,160,161,162,163,164,165,166,167,168,169,170,171,172,173,174,175,176,177,178,179,180,181,182,183,184,185,186,187,188,189,190,191,192,193,194,195,196,197,198,199],\"y\":{\"__ndarray__\":\"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\",\"dtype\":\"float64\",\"shape\":[200]}}},\"id\":\"b712cbaf-593a-4011-b79f-9e6788652a9f\",\"type\":\"ColumnDataSource\"},{\"attributes\":{\"dimension\":1,\"plot\":{\"id\":\"3fbe0dd6-e447-4ad0-9738-6544c6932202\",\"subtype\":\"Figure\",\"type\":\"Plot\"},\"ticker\":{\"id\":\"b22f1096-8890-4853-8f6e-d9fc4684f4b7\",\"type\":\"BasicTicker\"}},\"id\":\"820e92c4-e388-4b46-a26b-ccb3df099c0c\",\"type\":\"Grid\"},{\"attributes\":{},\"id\":\"17bbf61d-e2c9-4e85-bb46-c8469b618c1d\",\"type\":\"HelpTool\"},{\"attributes\":{},\"id\":\"7c259c35-3725-4252-8a62-2ab03ca8fd64\",\"type\":\"SaveTool\"},{\"attributes\":{\"source\":{\"id\":\"b712cbaf-593a-4011-b79f-9e6788652a9f\",\"type\":\"ColumnDataSource\"}},\"id\":\"3d71497f-fb33-4ab7-8245-5c0aaff3ed9f\",\"type\":\"CDSView\"},{\"attributes\":{},\"id\":\"0210efac-2998-4a6e-9451-15737a4003b9\",\"type\":\"LinearScale\"},{\"attributes\":{},\"id\":\"27cb13f5-e696-4cfa-8eb0-d4214a88b527\",\"type\":\"WheelZoomTool\"},{\"attributes\":{\"active_drag\":\"auto\",\"active_inspect\":\"auto\",\"active_scroll\":\"auto\",\"active_tap\":\"auto\",\"tools\":[{\"id\":\"31cbb3ae-bac9-48b6-b6f0-4682018aa1e3\",\"type\":\"PanTool\"},{\"id\":\"27cb13f5-e696-4cfa-8eb0-d4214a88b527\",\"type\":\"WheelZoomTool\"},{\"id\":\"787085ba-2f79-46da-bac8-3437d0d94eba\",\"type\":\"BoxZoomTool\"},{\"id\":\"7c259c35-3725-4252-8a62-2ab03ca8fd64\",\"type\":\"SaveTool\"},{\"id\":\"106d4825-6f14-4e39-b218-23c45b005fbe\",\"type\":\"ResetTool\"},{\"id\":\"17bbf61d-e2c9-4e85-bb46-c8469b618c1d\",\"type\":\"HelpTool\"}]},\"id\":\"461303cd-ad00-4574-99fb-d84fd6f2f209\",\"type\":\"Toolbar\"},{\"attributes\":{\"line_color\":{\"value\":\"#1f77b4\"},\"x\":{\"field\":\"x\"},\"y\":{\"field\":\"y\"}},\"id\":\"4c8aceaf-753c-492d-935e-808088f06020\",\"type\":\"Line\"},{\"attributes\":{\"callback\":null},\"id\":\"99a20cee-a6b8-46bf-a5aa-f737e5b49871\",\"type\":\"DataRange1d\"},{\"attributes\":{},\"id\":\"106d4825-6f14-4e39-b218-23c45b005fbe\",\"type\":\"ResetTool\"},{\"attributes\":{\"axis_label\":\"y\",\"formatter\":{\"id\":\"b962c8ca-d47c-4b56-8b87-d170d3f70c6b\",\"type\":\"BasicTickFormatter\"},\"plot\":{\"id\":\"3fbe0dd6-e447-4ad0-9738-6544c6932202\",\"subtype\":\"Figure\",\"type\":\"Plot\"},\"ticker\":{\"id\":\"b22f1096-8890-4853-8f6e-d9fc4684f4b7\",\"type\":\"BasicTicker\"}},\"id\":\"524b4146-05fe-4a7c-896e-c7aa59de3b9d\",\"type\":\"LinearAxis\"},{\"attributes\":{\"axis_label\":\"x\",\"formatter\":{\"id\":\"9b58e135-c3c5-4cf6-a5cc-b0fe7c9f0ab5\",\"type\":\"BasicTickFormatter\"},\"plot\":{\"id\":\"3fbe0dd6-e447-4ad0-9738-6544c6932202\",\"subtype\":\"Figure\",\"type\":\"Plot\"},\"ticker\":{\"id\":\"a16e5b1c-3373-44b4-9841-40458a964570\",\"type\":\"BasicTicker\"}},\"id\":\"58e4f458-26aa-4626-abcf-e8be4e29150d\",\"type\":\"LinearAxis\"},{\"attributes\":{\"items\":[{\"id\":\"994be71c-9c7f-4641-bb2b-56d38b1dc625\",\"type\":\"LegendItem\"}],\"plot\":{\"id\":\"3fbe0dd6-e447-4ad0-9738-6544c6932202\",\"subtype\":\"Figure\",\"type\":\"Plot\"}},\"id\":\"eedf09ad-6898-4d72-a183-db36b7a09596\",\"type\":\"Legend\"},{\"attributes\":{},\"id\":\"a16e5b1c-3373-44b4-9841-40458a964570\",\"type\":\"BasicTicker\"},{\"attributes\":{},\"id\":\"31cbb3ae-bac9-48b6-b6f0-4682018aa1e3\",\"type\":\"PanTool\"},{\"attributes\":{\"plot\":null,\"text\":\"Example plot\"},\"id\":\"e2283611-566c-4bd1-a560-6168c2324a9f\",\"type\":\"Title\"},{\"attributes\":{},\"id\":\"b22f1096-8890-4853-8f6e-d9fc4684f4b7\",\"type\":\"BasicTicker\"},{\"attributes\":{\"line_alpha\":{\"value\":0.1},\"line_color\":{\"value\":\"#1f77b4\"},\"x\":{\"field\":\"x\"},\"y\":{\"field\":\"y\"}},\"id\":\"a432212a-0a43-4dfe-92db-ca65525cef65\",\"type\":\"Line\"},{\"attributes\":{\"callback\":null},\"id\":\"643d5618-e717-4ea4-bc17-174acef00b50\",\"type\":\"DataRange1d\"}],\"root_ids\":[\"3fbe0dd6-e447-4ad0-9738-6544c6932202\"]},\"title\":\"Bokeh Application\",\"version\":\"0.12.10\"}};\n",
       "    var render_items = [{\"docid\":\"a6d3534e-c208-47b7-9976-30072170b76b\",\"elementid\":\"b4713253-9c5d-4c8d-88fc-c30d4472cb23\",\"modelid\":\"3fbe0dd6-e447-4ad0-9738-6544c6932202\"}];\n",
       "\n",
       "    root.Bokeh.embed.embed_items(docs_json, render_items);\n",
       "  }\n",
       "\n",
       "  if (root.Bokeh !== undefined) {\n",
       "    embed_document(root);\n",
       "  } else {\n",
       "    var attempts = 0;\n",
       "    var timer = setInterval(function(root) {\n",
       "      if (root.Bokeh !== undefined) {\n",
       "        embed_document(root);\n",
       "        clearInterval(timer);\n",
       "      }\n",
       "      attempts++;\n",
       "      if (attempts > 100) {\n",
       "        console.log(\"Bokeh: ERROR: Unable to embed document because BokehJS library is missing\")\n",
       "        clearInterval(timer);\n",
       "      }\n",
       "    }, 10, root)\n",
       "  }\n",
       "})(window);"
      ],
      "application/vnd.bokehjs_exec.v0+json": ""
     },
     "metadata": {
      "application/vnd.bokehjs_exec.v0+json": {
       "id": "3fbe0dd6-e447-4ad0-9738-6544c6932202"
      }
     },
     "output_type": "display_data"
    }
   ],
   "source": [
    "# An example plot\n",
    "\n",
    "np.random.seed(30)\n",
    "data = pd.Series(np.random.randn(200),\n",
    "                 index=list(range(200)))\\\n",
    "        .cumsum()\n",
    "x = data.index\n",
    "y = data.values\n",
    "\n",
    "p = figure(title='Example plot', x_axis_label='x', y_axis_label='y')\n",
    "p.line(x, y, legend='Random trend')\n",
    "show(p)"
   ]
  },
  {
   "cell_type": "code",
   "execution_count": 82,
   "metadata": {},
   "outputs": [
    {
     "data": {
      "text/html": [
       "\n",
       "<div class=\"bk-root\">\n",
       "    <div class=\"bk-plotdiv\" id=\"e58dccd6-d1dc-4e58-b88b-3374434b6637\"></div>\n",
       "</div>"
      ]
     },
     "metadata": {},
     "output_type": "display_data"
    },
    {
     "data": {
      "application/javascript": [
       "(function(root) {\n",
       "  function embed_document(root) {\n",
       "    var docs_json = {\"5d51a1ad-43f4-4844-9c38-9039c37493ae\":{\"roots\":{\"references\":[{\"attributes\":{\"fill_alpha\":{\"value\":0.5},\"fill_color\":{\"value\":\"#1f77b4\"},\"line_alpha\":{\"value\":0.5},\"line_color\":{\"value\":\"#1f77b4\"},\"radius\":{\"field\":\"radius\",\"units\":\"data\"},\"x\":{\"field\":\"x\"},\"y\":{\"field\":\"y\"}},\"id\":\"e3351cd7-f91e-4563-93b2-11e8aa95bd10\",\"type\":\"Circle\"},{\"attributes\":{},\"id\":\"4a278209-5884-47d1-9cd6-358431272807\",\"type\":\"ResetTool\"},{\"attributes\":{\"bottom_units\":\"screen\",\"fill_alpha\":{\"value\":0.5},\"fill_color\":{\"value\":\"lightgrey\"},\"left_units\":\"screen\",\"level\":\"overlay\",\"line_alpha\":{\"value\":1.0},\"line_color\":{\"value\":\"black\"},\"line_dash\":[4,4],\"line_width\":{\"value\":2},\"plot\":null,\"render_mode\":\"css\",\"right_units\":\"screen\",\"top_units\":\"screen\"},\"id\":\"59204ec6-ae68-48d3-9502-95685c82b162\",\"type\":\"BoxAnnotation\"},{\"attributes\":{\"below\":[{\"id\":\"b9bcd472-70d7-4b98-9560-8c21c53a427e\",\"type\":\"LinearAxis\"}],\"left\":[{\"id\":\"835ac8dd-dc88-4264-9d5c-6d36fc27d4d9\",\"type\":\"LinearAxis\"}],\"renderers\":[{\"id\":\"b9bcd472-70d7-4b98-9560-8c21c53a427e\",\"type\":\"LinearAxis\"},{\"id\":\"3befbf5f-4524-444c-8ae5-710ecc35f3da\",\"type\":\"Grid\"},{\"id\":\"835ac8dd-dc88-4264-9d5c-6d36fc27d4d9\",\"type\":\"LinearAxis\"},{\"id\":\"d20af8b9-d758-4636-8781-098e3169fd85\",\"type\":\"Grid\"},{\"id\":\"59204ec6-ae68-48d3-9502-95685c82b162\",\"type\":\"BoxAnnotation\"},{\"id\":\"2b91405b-5855-477f-9521-edd98f390762\",\"type\":\"Legend\"},{\"id\":\"fb4bc96f-0473-4a55-b579-1a7c423afb0f\",\"type\":\"GlyphRenderer\"}],\"title\":{\"id\":\"8196495c-bb80-4426-b479-321859e017c0\",\"type\":\"Title\"},\"toolbar\":{\"id\":\"984dfe7a-055e-49c5-b301-0d27aada3661\",\"type\":\"Toolbar\"},\"x_range\":{\"id\":\"025e15e0-7299-4f47-94cb-e3ac4974c287\",\"type\":\"DataRange1d\"},\"x_scale\":{\"id\":\"50477b12-45ea-46a0-9437-ea1a407f708d\",\"type\":\"LinearScale\"},\"y_range\":{\"id\":\"97b7c8b0-ff80-4d41-ac02-921ccddde02c\",\"type\":\"DataRange1d\"},\"y_scale\":{\"id\":\"2ea6906c-5cfb-420b-86d8-15fe59af7476\",\"type\":\"LinearScale\"}},\"id\":\"5a675de2-c5d6-46a4-94f2-9cc115a13dcf\",\"subtype\":\"Figure\",\"type\":\"Plot\"},{\"attributes\":{\"axis_label\":\"x\",\"formatter\":{\"id\":\"3ea9a9cf-57b0-4b9e-887d-ad8617525231\",\"type\":\"BasicTickFormatter\"},\"plot\":{\"id\":\"5a675de2-c5d6-46a4-94f2-9cc115a13dcf\",\"subtype\":\"Figure\",\"type\":\"Plot\"},\"ticker\":{\"id\":\"e4ac4b76-9bcd-41f6-ad8a-8eb9a54ba2bc\",\"type\":\"BasicTicker\"}},\"id\":\"b9bcd472-70d7-4b98-9560-8c21c53a427e\",\"type\":\"LinearAxis\"},{\"attributes\":{\"plot\":null,\"text\":\"Example plot\"},\"id\":\"8196495c-bb80-4426-b479-321859e017c0\",\"type\":\"Title\"},{\"attributes\":{\"dimension\":1,\"plot\":{\"id\":\"5a675de2-c5d6-46a4-94f2-9cc115a13dcf\",\"subtype\":\"Figure\",\"type\":\"Plot\"},\"ticker\":{\"id\":\"38663753-27b1-4da4-ab90-a10eb222d9a4\",\"type\":\"BasicTicker\"}},\"id\":\"d20af8b9-d758-4636-8781-098e3169fd85\",\"type\":\"Grid\"},{\"attributes\":{\"callback\":null,\"column_names\":[\"x\",\"y\",\"radius\"],\"data\":{\"radius\":{\"__ndarray__\":\"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\",\"dtype\":\"float64\",\"shape\":[200]},\"x\":[0,1,2,3,4,5,6,7,8,9,10,11,12,13,14,15,16,17,18,19,20,21,22,23,24,25,26,27,28,29,30,31,32,33,34,35,36,37,38,39,40,41,42,43,44,45,46,47,48,49,50,51,52,53,54,55,56,57,58,59,60,61,62,63,64,65,66,67,68,69,70,71,72,73,74,75,76,77,78,79,80,81,82,83,84,85,86,87,88,89,90,91,92,93,94,95,96,97,98,99,100,101,102,103,104,105,106,107,108,109,110,111,112,113,114,115,116,117,118,119,120,121,122,123,124,125,126,127,128,129,130,131,132,133,134,135,136,137,138,139,140,141,142,143,144,145,146,147,148,149,150,151,152,153,154,155,156,157,158,159,160,161,162,163,164,165,166,167,168,169,170,171,172,173,174,175,176,177,178,179,180,181,182,183,184,185,186,187,188,189,190,191,192,193,194,195,196,197,198,199],\"y\":{\"__ndarray__\":\"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\",\"dtype\":\"float64\",\"shape\":[200]}}},\"id\":\"823aaf66-130f-49cb-b31c-1ea3d04b5ab5\",\"type\":\"ColumnDataSource\"},{\"attributes\":{\"callback\":null},\"id\":\"97b7c8b0-ff80-4d41-ac02-921ccddde02c\",\"type\":\"DataRange1d\"},{\"attributes\":{\"axis_label\":\"y\",\"formatter\":{\"id\":\"54f53da5-3840-417e-93ea-7cfb1852e47a\",\"type\":\"BasicTickFormatter\"},\"plot\":{\"id\":\"5a675de2-c5d6-46a4-94f2-9cc115a13dcf\",\"subtype\":\"Figure\",\"type\":\"Plot\"},\"ticker\":{\"id\":\"38663753-27b1-4da4-ab90-a10eb222d9a4\",\"type\":\"BasicTicker\"}},\"id\":\"835ac8dd-dc88-4264-9d5c-6d36fc27d4d9\",\"type\":\"LinearAxis\"},{\"attributes\":{\"fill_alpha\":{\"value\":0.1},\"fill_color\":{\"value\":\"#1f77b4\"},\"line_alpha\":{\"value\":0.1},\"line_color\":{\"value\":\"#1f77b4\"},\"radius\":{\"field\":\"radius\",\"units\":\"data\"},\"x\":{\"field\":\"x\"},\"y\":{\"field\":\"y\"}},\"id\":\"66f2bc44-5941-4423-a563-f534730b37c5\",\"type\":\"Circle\"},{\"attributes\":{\"items\":[{\"id\":\"a9fce692-8cbf-41fd-a0b0-f948d42e2dfa\",\"type\":\"LegendItem\"}],\"plot\":{\"id\":\"5a675de2-c5d6-46a4-94f2-9cc115a13dcf\",\"subtype\":\"Figure\",\"type\":\"Plot\"}},\"id\":\"2b91405b-5855-477f-9521-edd98f390762\",\"type\":\"Legend\"},{\"attributes\":{},\"id\":\"f4d2173b-cf57-490c-a301-0d2bbccae430\",\"type\":\"SaveTool\"},{\"attributes\":{},\"id\":\"3ea9a9cf-57b0-4b9e-887d-ad8617525231\",\"type\":\"BasicTickFormatter\"},{\"attributes\":{\"source\":{\"id\":\"823aaf66-130f-49cb-b31c-1ea3d04b5ab5\",\"type\":\"ColumnDataSource\"}},\"id\":\"e9cf12d6-e4eb-4f3f-96e0-2e001508e945\",\"type\":\"CDSView\"},{\"attributes\":{\"active_drag\":\"auto\",\"active_inspect\":\"auto\",\"active_scroll\":\"auto\",\"active_tap\":\"auto\",\"tools\":[{\"id\":\"a8e1e7fd-fd25-4aa4-b062-d9c02ccf9a57\",\"type\":\"PanTool\"},{\"id\":\"d9de5cbf-877f-4ba2-ac25-d50e85230c28\",\"type\":\"WheelZoomTool\"},{\"id\":\"2a28accc-62cd-4afe-be65-6025aa5bbba7\",\"type\":\"BoxZoomTool\"},{\"id\":\"f4d2173b-cf57-490c-a301-0d2bbccae430\",\"type\":\"SaveTool\"},{\"id\":\"4a278209-5884-47d1-9cd6-358431272807\",\"type\":\"ResetTool\"},{\"id\":\"a8442fa1-74a6-46cd-bbc4-09ca70b09850\",\"type\":\"HelpTool\"}]},\"id\":\"984dfe7a-055e-49c5-b301-0d27aada3661\",\"type\":\"Toolbar\"},{\"attributes\":{\"plot\":{\"id\":\"5a675de2-c5d6-46a4-94f2-9cc115a13dcf\",\"subtype\":\"Figure\",\"type\":\"Plot\"},\"ticker\":{\"id\":\"e4ac4b76-9bcd-41f6-ad8a-8eb9a54ba2bc\",\"type\":\"BasicTicker\"}},\"id\":\"3befbf5f-4524-444c-8ae5-710ecc35f3da\",\"type\":\"Grid\"},{\"attributes\":{\"callback\":null},\"id\":\"025e15e0-7299-4f47-94cb-e3ac4974c287\",\"type\":\"DataRange1d\"},{\"attributes\":{},\"id\":\"54f53da5-3840-417e-93ea-7cfb1852e47a\",\"type\":\"BasicTickFormatter\"},{\"attributes\":{},\"id\":\"2ea6906c-5cfb-420b-86d8-15fe59af7476\",\"type\":\"LinearScale\"},{\"attributes\":{},\"id\":\"38663753-27b1-4da4-ab90-a10eb222d9a4\",\"type\":\"BasicTicker\"},{\"attributes\":{\"label\":{\"value\":\"Random dots\"},\"renderers\":[{\"id\":\"fb4bc96f-0473-4a55-b579-1a7c423afb0f\",\"type\":\"GlyphRenderer\"}]},\"id\":\"a9fce692-8cbf-41fd-a0b0-f948d42e2dfa\",\"type\":\"LegendItem\"},{\"attributes\":{\"data_source\":{\"id\":\"823aaf66-130f-49cb-b31c-1ea3d04b5ab5\",\"type\":\"ColumnDataSource\"},\"glyph\":{\"id\":\"e3351cd7-f91e-4563-93b2-11e8aa95bd10\",\"type\":\"Circle\"},\"hover_glyph\":null,\"muted_glyph\":null,\"nonselection_glyph\":{\"id\":\"66f2bc44-5941-4423-a563-f534730b37c5\",\"type\":\"Circle\"},\"selection_glyph\":null,\"view\":{\"id\":\"e9cf12d6-e4eb-4f3f-96e0-2e001508e945\",\"type\":\"CDSView\"}},\"id\":\"fb4bc96f-0473-4a55-b579-1a7c423afb0f\",\"type\":\"GlyphRenderer\"},{\"attributes\":{},\"id\":\"50477b12-45ea-46a0-9437-ea1a407f708d\",\"type\":\"LinearScale\"},{\"attributes\":{},\"id\":\"a8442fa1-74a6-46cd-bbc4-09ca70b09850\",\"type\":\"HelpTool\"},{\"attributes\":{},\"id\":\"a8e1e7fd-fd25-4aa4-b062-d9c02ccf9a57\",\"type\":\"PanTool\"},{\"attributes\":{\"overlay\":{\"id\":\"59204ec6-ae68-48d3-9502-95685c82b162\",\"type\":\"BoxAnnotation\"}},\"id\":\"2a28accc-62cd-4afe-be65-6025aa5bbba7\",\"type\":\"BoxZoomTool\"},{\"attributes\":{},\"id\":\"e4ac4b76-9bcd-41f6-ad8a-8eb9a54ba2bc\",\"type\":\"BasicTicker\"},{\"attributes\":{},\"id\":\"d9de5cbf-877f-4ba2-ac25-d50e85230c28\",\"type\":\"WheelZoomTool\"}],\"root_ids\":[\"5a675de2-c5d6-46a4-94f2-9cc115a13dcf\"]},\"title\":\"Bokeh Application\",\"version\":\"0.12.10\"}};\n",
       "    var render_items = [{\"docid\":\"5d51a1ad-43f4-4844-9c38-9039c37493ae\",\"elementid\":\"e58dccd6-d1dc-4e58-b88b-3374434b6637\",\"modelid\":\"5a675de2-c5d6-46a4-94f2-9cc115a13dcf\"}];\n",
       "\n",
       "    root.Bokeh.embed.embed_items(docs_json, render_items);\n",
       "  }\n",
       "\n",
       "  if (root.Bokeh !== undefined) {\n",
       "    embed_document(root);\n",
       "  } else {\n",
       "    var attempts = 0;\n",
       "    var timer = setInterval(function(root) {\n",
       "      if (root.Bokeh !== undefined) {\n",
       "        embed_document(root);\n",
       "        clearInterval(timer);\n",
       "      }\n",
       "      attempts++;\n",
       "      if (attempts > 100) {\n",
       "        console.log(\"Bokeh: ERROR: Unable to embed document because BokehJS library is missing\")\n",
       "        clearInterval(timer);\n",
       "      }\n",
       "    }, 10, root)\n",
       "  }\n",
       "})(window);"
      ],
      "application/vnd.bokehjs_exec.v0+json": ""
     },
     "metadata": {
      "application/vnd.bokehjs_exec.v0+json": {
       "id": "5a675de2-c5d6-46a4-94f2-9cc115a13dcf"
      }
     },
     "output_type": "display_data"
    }
   ],
   "source": [
    "size = np.random.rand(200) * 5\n",
    "\n",
    "p = figure(title='Example plot', x_axis_label='x', y_axis_label='y')\n",
    "p.circle(x, y, radius=size, alpha=0.5, legend='Random dots')\n",
    "show(p)"
   ]
  },
  {
   "cell_type": "code",
   "execution_count": 83,
   "metadata": {},
   "outputs": [
    {
     "data": {
      "text/html": [
       "\n",
       "<div class=\"bk-root\">\n",
       "    <div class=\"bk-plotdiv\" id=\"5d5649e8-94b4-4073-910a-014126f1bc27\"></div>\n",
       "</div>"
      ]
     },
     "metadata": {},
     "output_type": "display_data"
    },
    {
     "data": {
      "application/javascript": [
       "(function(root) {\n",
       "  function embed_document(root) {\n",
       "    var docs_json = {\"e9bfae44-41c5-420f-a192-8f22b1f64375\":{\"roots\":{\"references\":[{\"attributes\":{},\"id\":\"fad9e42f-6919-4a6c-a67f-6462ba7d3d91\",\"type\":\"LinearScale\"},{\"attributes\":{},\"id\":\"d700565a-5c1d-4b77-a1fc-ab183b10907b\",\"type\":\"BasicTickFormatter\"},{\"attributes\":{\"callback\":null,\"tooltips\":[[\"Label\",\"@meta\"],[\"Size\",\"@r\"]]},\"id\":\"13237762-4ba9-45db-929b-8fc2124399f5\",\"type\":\"HoverTool\"},{\"attributes\":{},\"id\":\"2f6062cb-9f95-429e-a4e1-1c695df9a401\",\"type\":\"BasicTicker\"},{\"attributes\":{\"items\":[{\"id\":\"0eddb530-05c2-4d3f-9782-1e33ee8dd457\",\"type\":\"LegendItem\"}],\"plot\":{\"id\":\"7ec42b56-fe42-44d6-b1fe-1c5a59fd7353\",\"subtype\":\"Figure\",\"type\":\"Plot\"}},\"id\":\"c1d1ba3c-ad67-4dc0-8f7d-b7d300d8cec5\",\"type\":\"Legend\"},{\"attributes\":{\"data_source\":{\"id\":\"483ccf57-c81b-452f-8293-10bd754d3684\",\"type\":\"ColumnDataSource\"},\"glyph\":{\"id\":\"5b10d8e1-e698-41ee-8c8c-2cec5fc76d89\",\"type\":\"Circle\"},\"hover_glyph\":null,\"muted_glyph\":null,\"nonselection_glyph\":{\"id\":\"859b893f-fdbf-429a-99de-955d7d3793f1\",\"type\":\"Circle\"},\"selection_glyph\":null,\"view\":{\"id\":\"6e627525-efc0-45a1-a98c-ca27246b00b8\",\"type\":\"CDSView\"}},\"id\":\"ce5916cc-79ae-4dad-b30d-accdf6e9bc0e\",\"type\":\"GlyphRenderer\"},{\"attributes\":{\"fill_alpha\":{\"value\":0.5},\"fill_color\":{\"value\":\"#1f77b4\"},\"line_alpha\":{\"value\":0.5},\"line_color\":{\"value\":\"#1f77b4\"},\"radius\":{\"field\":\"r\",\"units\":\"data\"},\"x\":{\"field\":\"x\"},\"y\":{\"field\":\"y\"}},\"id\":\"5b10d8e1-e698-41ee-8c8c-2cec5fc76d89\",\"type\":\"Circle\"},{\"attributes\":{},\"id\":\"47812d49-0322-4ac2-ba0f-4c7629e74dd6\",\"type\":\"LinearScale\"},{\"attributes\":{\"label\":{\"value\":\"Random dots\"},\"renderers\":[{\"id\":\"ce5916cc-79ae-4dad-b30d-accdf6e9bc0e\",\"type\":\"GlyphRenderer\"}]},\"id\":\"0eddb530-05c2-4d3f-9782-1e33ee8dd457\",\"type\":\"LegendItem\"},{\"attributes\":{\"callback\":null},\"id\":\"9fb0921e-4b3b-4cb9-853b-fd197175cc58\",\"type\":\"DataRange1d\"},{\"attributes\":{\"dimension\":1,\"plot\":{\"id\":\"7ec42b56-fe42-44d6-b1fe-1c5a59fd7353\",\"subtype\":\"Figure\",\"type\":\"Plot\"},\"ticker\":{\"id\":\"2f6062cb-9f95-429e-a4e1-1c695df9a401\",\"type\":\"BasicTicker\"}},\"id\":\"bb356834-dbb4-4da2-ab1f-b92d0c99f79e\",\"type\":\"Grid\"},{\"attributes\":{\"plot\":null,\"text\":\"Example plot\"},\"id\":\"5b65479a-f46c-469d-908b-bd8b5727d3a4\",\"type\":\"Title\"},{\"attributes\":{\"below\":[{\"id\":\"4bb87790-30f6-4401-9848-89bcca3e80c3\",\"type\":\"LinearAxis\"}],\"left\":[{\"id\":\"580c50ef-a0e5-4c00-8334-b78d7b756aa4\",\"type\":\"LinearAxis\"}],\"renderers\":[{\"id\":\"4bb87790-30f6-4401-9848-89bcca3e80c3\",\"type\":\"LinearAxis\"},{\"id\":\"59d198e0-e498-49c9-9d2d-284be497e7df\",\"type\":\"Grid\"},{\"id\":\"580c50ef-a0e5-4c00-8334-b78d7b756aa4\",\"type\":\"LinearAxis\"},{\"id\":\"bb356834-dbb4-4da2-ab1f-b92d0c99f79e\",\"type\":\"Grid\"},{\"id\":\"c1d1ba3c-ad67-4dc0-8f7d-b7d300d8cec5\",\"type\":\"Legend\"},{\"id\":\"ce5916cc-79ae-4dad-b30d-accdf6e9bc0e\",\"type\":\"GlyphRenderer\"}],\"title\":{\"id\":\"5b65479a-f46c-469d-908b-bd8b5727d3a4\",\"type\":\"Title\"},\"toolbar\":{\"id\":\"86e5c872-b6a3-4092-ad81-d98bf2acee2f\",\"type\":\"Toolbar\"},\"x_range\":{\"id\":\"8ac3b5f3-4af7-49a5-b0e4-2ae636c11273\",\"type\":\"DataRange1d\"},\"x_scale\":{\"id\":\"47812d49-0322-4ac2-ba0f-4c7629e74dd6\",\"type\":\"LinearScale\"},\"y_range\":{\"id\":\"9fb0921e-4b3b-4cb9-853b-fd197175cc58\",\"type\":\"DataRange1d\"},\"y_scale\":{\"id\":\"fad9e42f-6919-4a6c-a67f-6462ba7d3d91\",\"type\":\"LinearScale\"}},\"id\":\"7ec42b56-fe42-44d6-b1fe-1c5a59fd7353\",\"subtype\":\"Figure\",\"type\":\"Plot\"},{\"attributes\":{\"axis_label\":\"y\",\"formatter\":{\"id\":\"d700565a-5c1d-4b77-a1fc-ab183b10907b\",\"type\":\"BasicTickFormatter\"},\"plot\":{\"id\":\"7ec42b56-fe42-44d6-b1fe-1c5a59fd7353\",\"subtype\":\"Figure\",\"type\":\"Plot\"},\"ticker\":{\"id\":\"2f6062cb-9f95-429e-a4e1-1c695df9a401\",\"type\":\"BasicTicker\"}},\"id\":\"580c50ef-a0e5-4c00-8334-b78d7b756aa4\",\"type\":\"LinearAxis\"},{\"attributes\":{\"axis_label\":\"x\",\"formatter\":{\"id\":\"4acecfe0-f9da-4b34-b376-554c609f659b\",\"type\":\"BasicTickFormatter\"},\"plot\":{\"id\":\"7ec42b56-fe42-44d6-b1fe-1c5a59fd7353\",\"subtype\":\"Figure\",\"type\":\"Plot\"},\"ticker\":{\"id\":\"7d1b1b69-7a78-4379-beb9-264b95aa3914\",\"type\":\"BasicTicker\"}},\"id\":\"4bb87790-30f6-4401-9848-89bcca3e80c3\",\"type\":\"LinearAxis\"},{\"attributes\":{},\"id\":\"7d1b1b69-7a78-4379-beb9-264b95aa3914\",\"type\":\"BasicTicker\"},{\"attributes\":{\"callback\":null,\"column_names\":[\"y\",\"x\",\"meta\",\"r\"],\"data\":{\"meta\":[\"A\",\"B\",\"C\",\"C\",\"C\",\"A\",\"A\",\"B\",\"B\",\"B\",\"C\",\"A\",\"C\",\"C\",\"A\",\"B\",\"C\",\"C\",\"C\",\"A\",\"C\",\"C\",\"C\",\"C\",\"C\",\"A\",\"B\",\"A\",\"C\",\"A\",\"C\",\"B\",\"C\",\"A\",\"C\",\"B\",\"B\",\"A\",\"A\",\"B\",\"B\",\"A\",\"C\",\"B\",\"C\",\"A\",\"A\",\"B\",\"B\",\"B\",\"C\",\"A\",\"B\",\"B\",\"A\",\"B\",\"A\",\"B\",\"A\",\"C\",\"A\",\"A\",\"A\",\"B\",\"C\",\"B\",\"C\",\"B\",\"A\",\"C\",\"A\",\"A\",\"A\",\"B\",\"B\",\"A\",\"A\",\"B\",\"A\",\"A\",\"A\",\"C\",\"A\",\"B\",\"B\",\"A\",\"A\",\"B\",\"C\",\"A\",\"A\",\"B\",\"C\",\"C\",\"A\",\"A\",\"A\",\"B\",\"C\",\"A\",\"A\",\"C\",\"C\",\"A\",\"B\",\"B\",\"C\",\"A\",\"C\",\"A\",\"A\",\"C\",\"B\",\"B\",\"A\",\"B\",\"B\",\"C\",\"B\",\"A\",\"B\",\"A\",\"A\",\"A\",\"B\",\"B\",\"C\",\"C\",\"A\",\"B\",\"C\",\"C\",\"A\",\"A\",\"C\",\"A\",\"A\",\"C\",\"A\",\"C\",\"A\",\"B\",\"A\",\"C\",\"A\",\"C\",\"A\",\"B\",\"B\",\"B\",\"C\",\"B\",\"A\",\"C\",\"A\",\"A\",\"C\",\"B\",\"B\",\"A\",\"B\",\"C\",\"B\",\"A\",\"A\",\"B\",\"B\",\"B\",\"A\",\"C\",\"B\",\"C\",\"C\",\"C\",\"B\",\"B\",\"A\",\"B\",\"B\",\"C\",\"C\",\"C\",\"C\",\"C\",\"B\",\"A\",\"B\",\"B\",\"A\",\"C\",\"C\",\"B\",\"B\",\"C\",\"C\",\"B\",\"A\",\"C\",\"B\",\"C\"],\"r\":{\"__ndarray__\":\"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\",\"dtype\":\"float64\",\"shape\":[200]},\"x\":[0,1,2,3,4,5,6,7,8,9,10,11,12,13,14,15,16,17,18,19,20,21,22,23,24,25,26,27,28,29,30,31,32,33,34,35,36,37,38,39,40,41,42,43,44,45,46,47,48,49,50,51,52,53,54,55,56,57,58,59,60,61,62,63,64,65,66,67,68,69,70,71,72,73,74,75,76,77,78,79,80,81,82,83,84,85,86,87,88,89,90,91,92,93,94,95,96,97,98,99,100,101,102,103,104,105,106,107,108,109,110,111,112,113,114,115,116,117,118,119,120,121,122,123,124,125,126,127,128,129,130,131,132,133,134,135,136,137,138,139,140,141,142,143,144,145,146,147,148,149,150,151,152,153,154,155,156,157,158,159,160,161,162,163,164,165,166,167,168,169,170,171,172,173,174,175,176,177,178,179,180,181,182,183,184,185,186,187,188,189,190,191,192,193,194,195,196,197,198,199],\"y\":{\"__ndarray__\":\"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\",\"dtype\":\"float64\",\"shape\":[200]}}},\"id\":\"483ccf57-c81b-452f-8293-10bd754d3684\",\"type\":\"ColumnDataSource\"},{\"attributes\":{\"callback\":null},\"id\":\"8ac3b5f3-4af7-49a5-b0e4-2ae636c11273\",\"type\":\"DataRange1d\"},{\"attributes\":{},\"id\":\"4acecfe0-f9da-4b34-b376-554c609f659b\",\"type\":\"BasicTickFormatter\"},{\"attributes\":{\"fill_alpha\":{\"value\":0.1},\"fill_color\":{\"value\":\"#1f77b4\"},\"line_alpha\":{\"value\":0.1},\"line_color\":{\"value\":\"#1f77b4\"},\"radius\":{\"field\":\"r\",\"units\":\"data\"},\"x\":{\"field\":\"x\"},\"y\":{\"field\":\"y\"}},\"id\":\"859b893f-fdbf-429a-99de-955d7d3793f1\",\"type\":\"Circle\"},{\"attributes\":{\"active_drag\":\"auto\",\"active_inspect\":\"auto\",\"active_scroll\":\"auto\",\"active_tap\":\"auto\",\"tools\":[{\"id\":\"13237762-4ba9-45db-929b-8fc2124399f5\",\"type\":\"HoverTool\"}]},\"id\":\"86e5c872-b6a3-4092-ad81-d98bf2acee2f\",\"type\":\"Toolbar\"},{\"attributes\":{\"source\":{\"id\":\"483ccf57-c81b-452f-8293-10bd754d3684\",\"type\":\"ColumnDataSource\"}},\"id\":\"6e627525-efc0-45a1-a98c-ca27246b00b8\",\"type\":\"CDSView\"},{\"attributes\":{\"plot\":{\"id\":\"7ec42b56-fe42-44d6-b1fe-1c5a59fd7353\",\"subtype\":\"Figure\",\"type\":\"Plot\"},\"ticker\":{\"id\":\"7d1b1b69-7a78-4379-beb9-264b95aa3914\",\"type\":\"BasicTicker\"}},\"id\":\"59d198e0-e498-49c9-9d2d-284be497e7df\",\"type\":\"Grid\"}],\"root_ids\":[\"7ec42b56-fe42-44d6-b1fe-1c5a59fd7353\"]},\"title\":\"Bokeh Application\",\"version\":\"0.12.10\"}};\n",
       "    var render_items = [{\"docid\":\"e9bfae44-41c5-420f-a192-8f22b1f64375\",\"elementid\":\"5d5649e8-94b4-4073-910a-014126f1bc27\",\"modelid\":\"7ec42b56-fe42-44d6-b1fe-1c5a59fd7353\"}];\n",
       "\n",
       "    root.Bokeh.embed.embed_items(docs_json, render_items);\n",
       "  }\n",
       "\n",
       "  if (root.Bokeh !== undefined) {\n",
       "    embed_document(root);\n",
       "  } else {\n",
       "    var attempts = 0;\n",
       "    var timer = setInterval(function(root) {\n",
       "      if (root.Bokeh !== undefined) {\n",
       "        embed_document(root);\n",
       "        clearInterval(timer);\n",
       "      }\n",
       "      attempts++;\n",
       "      if (attempts > 100) {\n",
       "        console.log(\"Bokeh: ERROR: Unable to embed document because BokehJS library is missing\")\n",
       "        clearInterval(timer);\n",
       "      }\n",
       "    }, 10, root)\n",
       "  }\n",
       "})(window);"
      ],
      "application/vnd.bokehjs_exec.v0+json": ""
     },
     "metadata": {
      "application/vnd.bokehjs_exec.v0+json": {
       "id": "7ec42b56-fe42-44d6-b1fe-1c5a59fd7353"
      }
     },
     "output_type": "display_data"
    }
   ],
   "source": [
    "# Add a tooltip\n",
    "\n",
    "from bokeh.plotting import ColumnDataSource\n",
    "from bokeh.models import HoverTool\n",
    "\n",
    "source = ColumnDataSource(data=dict(\n",
    "    x=x,\n",
    "    y=y,\n",
    "    r=size,\n",
    "    meta=np.random.choice(list('ABC'), size=len(x)),\n",
    "))\n",
    "\n",
    "hover = HoverTool(tooltips=[\n",
    "    ('Label', '@meta'),\n",
    "    ('Size', '@r')\n",
    "])\n",
    "tools = [hover]\n",
    "\n",
    "p = figure(title='Example plot', tools=tools,\n",
    "           x_axis_label='x', y_axis_label='y')\n",
    "\n",
    "p.circle('x', 'y', radius='r', alpha=0.5, source=source,\n",
    "         legend='Random dots')\n",
    "show(p)"
   ]
  },
  {
   "cell_type": "code",
   "execution_count": 84,
   "metadata": {},
   "outputs": [
    {
     "data": {
      "text/html": [
       "\n",
       "<div class=\"bk-root\">\n",
       "    <div class=\"bk-plotdiv\" id=\"c7b8f223-5f77-43b6-954d-9469ce19f862\"></div>\n",
       "</div>"
      ]
     },
     "metadata": {},
     "output_type": "display_data"
    },
    {
     "data": {
      "application/javascript": [
       "(function(root) {\n",
       "  function embed_document(root) {\n",
       "    var docs_json = {\"da07be5c-0887-48b4-989c-2d4f583f6bba\":{\"roots\":{\"references\":[{\"attributes\":{},\"id\":\"6990fab3-a037-4060-85f9-dfbc08de1189\",\"type\":\"BasicTickFormatter\"},{\"attributes\":{\"plot\":null,\"text\":\"Example plot\"},\"id\":\"b629c9fd-77e9-40eb-b1fb-2a12c56b0463\",\"type\":\"Title\"},{\"attributes\":{\"callback\":null},\"id\":\"22d1e864-8ab5-49b9-8f3f-3983dfce4a9f\",\"type\":\"DataRange1d\"},{\"attributes\":{\"data_source\":{\"id\":\"b05475a5-fd73-4dd5-aae8-babe705f757f\",\"type\":\"ColumnDataSource\"},\"glyph\":{\"id\":\"60ab327b-60d5-495b-a9c3-2ef0f4cc7707\",\"type\":\"Circle\"},\"hover_glyph\":null,\"muted_glyph\":null,\"nonselection_glyph\":{\"id\":\"64d0ef18-8bd9-4df9-9dec-e92e05c942e7\",\"type\":\"Circle\"},\"selection_glyph\":null,\"view\":{\"id\":\"3a31fdb3-3c96-43ca-891f-510fd90ff6b0\",\"type\":\"CDSView\"}},\"id\":\"9311b74f-3bd8-4993-b7f9-08b332c8e92b\",\"type\":\"GlyphRenderer\"},{\"attributes\":{\"dimension\":1,\"plot\":{\"id\":\"37be90a4-0d84-4c5a-a802-68a54a7a92cf\",\"subtype\":\"Figure\",\"type\":\"Plot\"},\"ticker\":{\"id\":\"bd10465f-68df-4aff-8c98-67e8df55d4f1\",\"type\":\"BasicTicker\"}},\"id\":\"9df143db-a275-45d2-ac1a-64176039dd32\",\"type\":\"Grid\"},{\"attributes\":{\"bottom_units\":\"screen\",\"fill_alpha\":{\"value\":0.5},\"fill_color\":{\"value\":\"lightgrey\"},\"left_units\":\"screen\",\"level\":\"overlay\",\"line_alpha\":{\"value\":1.0},\"line_color\":{\"value\":\"black\"},\"line_dash\":[4,4],\"line_width\":{\"value\":2},\"plot\":null,\"render_mode\":\"css\",\"right_units\":\"screen\",\"top_units\":\"screen\"},\"id\":\"feb3016e-6d8a-4130-a58a-f7df91eea4b9\",\"type\":\"BoxAnnotation\"},{\"attributes\":{},\"id\":\"8f405a4a-c617-42c1-bfd8-2dd9feaee151\",\"type\":\"BasicTickFormatter\"},{\"attributes\":{},\"id\":\"487a56bc-e95b-475b-b851-f2e5f13297c6\",\"type\":\"BasicTicker\"},{\"attributes\":{\"fill_alpha\":{\"value\":0.1},\"fill_color\":{\"value\":\"#1f77b4\"},\"line_alpha\":{\"value\":0.1},\"line_color\":{\"value\":\"#1f77b4\"},\"radius\":{\"field\":\"r\",\"units\":\"data\"},\"x\":{\"field\":\"x\"},\"y\":{\"field\":\"y\"}},\"id\":\"64d0ef18-8bd9-4df9-9dec-e92e05c942e7\",\"type\":\"Circle\"},{\"attributes\":{\"active_drag\":\"auto\",\"active_inspect\":\"auto\",\"active_scroll\":\"auto\",\"active_tap\":\"auto\",\"tools\":[{\"id\":\"bb9f437d-378b-41c1-9d0c-ea1bdfb5e912\",\"type\":\"HoverTool\"},{\"id\":\"9077dc8c-b7d0-4de2-917d-2820d674f447\",\"type\":\"PanTool\"},{\"id\":\"0dad109b-d2bd-4896-812a-b40a78785b69\",\"type\":\"BoxZoomTool\"},{\"id\":\"83a00d59-4c41-4005-8dca-549c61b75f19\",\"type\":\"WheelZoomTool\"},{\"id\":\"7776daa2-8728-469d-b680-9468646231f3\",\"type\":\"ResetTool\"}]},\"id\":\"96a6ef72-714f-44d1-aa1f-3ad602ac0676\",\"type\":\"Toolbar\"},{\"attributes\":{\"overlay\":{\"id\":\"feb3016e-6d8a-4130-a58a-f7df91eea4b9\",\"type\":\"BoxAnnotation\"}},\"id\":\"0dad109b-d2bd-4896-812a-b40a78785b69\",\"type\":\"BoxZoomTool\"},{\"attributes\":{},\"id\":\"bd10465f-68df-4aff-8c98-67e8df55d4f1\",\"type\":\"BasicTicker\"},{\"attributes\":{\"source\":{\"id\":\"b05475a5-fd73-4dd5-aae8-babe705f757f\",\"type\":\"ColumnDataSource\"}},\"id\":\"3a31fdb3-3c96-43ca-891f-510fd90ff6b0\",\"type\":\"CDSView\"},{\"attributes\":{\"axis_label\":\"x\",\"formatter\":{\"id\":\"8f405a4a-c617-42c1-bfd8-2dd9feaee151\",\"type\":\"BasicTickFormatter\"},\"plot\":{\"id\":\"37be90a4-0d84-4c5a-a802-68a54a7a92cf\",\"subtype\":\"Figure\",\"type\":\"Plot\"},\"ticker\":{\"id\":\"487a56bc-e95b-475b-b851-f2e5f13297c6\",\"type\":\"BasicTicker\"}},\"id\":\"b2f048ce-0798-4790-b9ca-bf4166b325e8\",\"type\":\"LinearAxis\"},{\"attributes\":{\"callback\":null,\"column_names\":[\"y\",\"x\",\"meta\",\"r\"],\"data\":{\"meta\":[\"A\",\"B\",\"C\",\"B\",\"B\",\"A\",\"A\",\"B\",\"A\",\"C\",\"C\",\"B\",\"C\",\"B\",\"C\",\"A\",\"A\",\"B\",\"A\",\"A\",\"B\",\"A\",\"C\",\"B\",\"B\",\"C\",\"B\",\"C\",\"A\",\"A\",\"B\",\"C\",\"A\",\"C\",\"B\",\"A\",\"A\",\"A\",\"C\",\"B\",\"C\",\"C\",\"A\",\"B\",\"B\",\"C\",\"B\",\"B\",\"B\",\"B\",\"A\",\"B\",\"A\",\"B\",\"C\",\"B\",\"A\",\"B\",\"C\",\"C\",\"C\",\"A\",\"C\",\"B\",\"A\",\"B\",\"B\",\"A\",\"A\",\"B\",\"C\",\"C\",\"C\",\"A\",\"A\",\"C\",\"A\",\"B\",\"B\",\"C\",\"B\",\"C\",\"B\",\"C\",\"C\",\"B\",\"C\",\"A\",\"B\",\"C\",\"A\",\"C\",\"C\",\"A\",\"A\",\"C\",\"A\",\"B\",\"C\",\"A\",\"B\",\"A\",\"C\",\"B\",\"C\",\"C\",\"B\",\"A\",\"C\",\"B\",\"A\",\"C\",\"A\",\"B\",\"A\",\"B\",\"A\",\"C\",\"B\",\"C\",\"C\",\"C\",\"B\",\"A\",\"A\",\"C\",\"B\",\"B\",\"A\",\"B\",\"B\",\"C\",\"B\",\"C\",\"A\",\"A\",\"C\",\"B\",\"B\",\"C\",\"A\",\"A\",\"C\",\"B\",\"B\",\"B\",\"A\",\"B\",\"A\",\"C\",\"C\",\"C\",\"A\",\"C\",\"C\",\"C\",\"A\",\"B\",\"A\",\"A\",\"C\",\"B\",\"C\",\"A\",\"A\",\"C\",\"B\",\"C\",\"A\",\"A\",\"B\",\"A\",\"A\",\"C\",\"C\",\"B\",\"C\",\"A\",\"A\",\"B\",\"A\",\"C\",\"B\",\"A\",\"B\",\"B\",\"C\",\"C\",\"A\",\"A\",\"C\",\"A\",\"B\",\"A\",\"C\",\"B\",\"A\",\"A\",\"A\",\"C\"],\"r\":{\"__ndarray__\":\"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\",\"dtype\":\"float64\",\"shape\":[200]},\"x\":[0,1,2,3,4,5,6,7,8,9,10,11,12,13,14,15,16,17,18,19,20,21,22,23,24,25,26,27,28,29,30,31,32,33,34,35,36,37,38,39,40,41,42,43,44,45,46,47,48,49,50,51,52,53,54,55,56,57,58,59,60,61,62,63,64,65,66,67,68,69,70,71,72,73,74,75,76,77,78,79,80,81,82,83,84,85,86,87,88,89,90,91,92,93,94,95,96,97,98,99,100,101,102,103,104,105,106,107,108,109,110,111,112,113,114,115,116,117,118,119,120,121,122,123,124,125,126,127,128,129,130,131,132,133,134,135,136,137,138,139,140,141,142,143,144,145,146,147,148,149,150,151,152,153,154,155,156,157,158,159,160,161,162,163,164,165,166,167,168,169,170,171,172,173,174,175,176,177,178,179,180,181,182,183,184,185,186,187,188,189,190,191,192,193,194,195,196,197,198,199],\"y\":{\"__ndarray__\":\"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\",\"dtype\":\"float64\",\"shape\":[200]}}},\"id\":\"b05475a5-fd73-4dd5-aae8-babe705f757f\",\"type\":\"ColumnDataSource\"},{\"attributes\":{\"fill_alpha\":{\"value\":0.5},\"fill_color\":{\"value\":\"#1f77b4\"},\"line_alpha\":{\"value\":0.5},\"line_color\":{\"value\":\"#1f77b4\"},\"radius\":{\"field\":\"r\",\"units\":\"data\"},\"x\":{\"field\":\"x\"},\"y\":{\"field\":\"y\"}},\"id\":\"60ab327b-60d5-495b-a9c3-2ef0f4cc7707\",\"type\":\"Circle\"},{\"attributes\":{},\"id\":\"62f6fadc-5266-47a0-8a25-b9696080ec2f\",\"type\":\"LinearScale\"},{\"attributes\":{\"axis_label\":\"y\",\"formatter\":{\"id\":\"6990fab3-a037-4060-85f9-dfbc08de1189\",\"type\":\"BasicTickFormatter\"},\"plot\":{\"id\":\"37be90a4-0d84-4c5a-a802-68a54a7a92cf\",\"subtype\":\"Figure\",\"type\":\"Plot\"},\"ticker\":{\"id\":\"bd10465f-68df-4aff-8c98-67e8df55d4f1\",\"type\":\"BasicTicker\"}},\"id\":\"3269f0d2-3587-44cb-a4b4-42e75750a4fd\",\"type\":\"LinearAxis\"},{\"attributes\":{},\"id\":\"7776daa2-8728-469d-b680-9468646231f3\",\"type\":\"ResetTool\"},{\"attributes\":{\"callback\":null,\"tooltips\":[[\"Label\",\"@meta\"],[\"Size\",\"@r\"]]},\"id\":\"bb9f437d-378b-41c1-9d0c-ea1bdfb5e912\",\"type\":\"HoverTool\"},{\"attributes\":{\"plot\":{\"id\":\"37be90a4-0d84-4c5a-a802-68a54a7a92cf\",\"subtype\":\"Figure\",\"type\":\"Plot\"},\"ticker\":{\"id\":\"487a56bc-e95b-475b-b851-f2e5f13297c6\",\"type\":\"BasicTicker\"}},\"id\":\"281e3b2e-c030-4813-b6da-0789464ff7fa\",\"type\":\"Grid\"},{\"attributes\":{\"callback\":null},\"id\":\"932684b3-dfa7-44c0-b8eb-6b0ad4668033\",\"type\":\"DataRange1d\"},{\"attributes\":{},\"id\":\"9077dc8c-b7d0-4de2-917d-2820d674f447\",\"type\":\"PanTool\"},{\"attributes\":{},\"id\":\"83a00d59-4c41-4005-8dca-549c61b75f19\",\"type\":\"WheelZoomTool\"},{\"attributes\":{\"items\":[{\"id\":\"3d47694a-8ac7-40f6-bdfb-f858d2e777a5\",\"type\":\"LegendItem\"}],\"plot\":{\"id\":\"37be90a4-0d84-4c5a-a802-68a54a7a92cf\",\"subtype\":\"Figure\",\"type\":\"Plot\"}},\"id\":\"4f6420ae-d2c8-406c-ab35-cad89126e831\",\"type\":\"Legend\"},{\"attributes\":{},\"id\":\"cbf55d3a-d70d-450f-a970-5a637b51a304\",\"type\":\"LinearScale\"},{\"attributes\":{\"label\":{\"value\":\"Random dots\"},\"renderers\":[{\"id\":\"9311b74f-3bd8-4993-b7f9-08b332c8e92b\",\"type\":\"GlyphRenderer\"}]},\"id\":\"3d47694a-8ac7-40f6-bdfb-f858d2e777a5\",\"type\":\"LegendItem\"},{\"attributes\":{\"below\":[{\"id\":\"b2f048ce-0798-4790-b9ca-bf4166b325e8\",\"type\":\"LinearAxis\"}],\"left\":[{\"id\":\"3269f0d2-3587-44cb-a4b4-42e75750a4fd\",\"type\":\"LinearAxis\"}],\"renderers\":[{\"id\":\"b2f048ce-0798-4790-b9ca-bf4166b325e8\",\"type\":\"LinearAxis\"},{\"id\":\"281e3b2e-c030-4813-b6da-0789464ff7fa\",\"type\":\"Grid\"},{\"id\":\"3269f0d2-3587-44cb-a4b4-42e75750a4fd\",\"type\":\"LinearAxis\"},{\"id\":\"9df143db-a275-45d2-ac1a-64176039dd32\",\"type\":\"Grid\"},{\"id\":\"feb3016e-6d8a-4130-a58a-f7df91eea4b9\",\"type\":\"BoxAnnotation\"},{\"id\":\"4f6420ae-d2c8-406c-ab35-cad89126e831\",\"type\":\"Legend\"},{\"id\":\"9311b74f-3bd8-4993-b7f9-08b332c8e92b\",\"type\":\"GlyphRenderer\"}],\"title\":{\"id\":\"b629c9fd-77e9-40eb-b1fb-2a12c56b0463\",\"type\":\"Title\"},\"toolbar\":{\"id\":\"96a6ef72-714f-44d1-aa1f-3ad602ac0676\",\"type\":\"Toolbar\"},\"x_range\":{\"id\":\"22d1e864-8ab5-49b9-8f3f-3983dfce4a9f\",\"type\":\"DataRange1d\"},\"x_scale\":{\"id\":\"62f6fadc-5266-47a0-8a25-b9696080ec2f\",\"type\":\"LinearScale\"},\"y_range\":{\"id\":\"932684b3-dfa7-44c0-b8eb-6b0ad4668033\",\"type\":\"DataRange1d\"},\"y_scale\":{\"id\":\"cbf55d3a-d70d-450f-a970-5a637b51a304\",\"type\":\"LinearScale\"}},\"id\":\"37be90a4-0d84-4c5a-a802-68a54a7a92cf\",\"subtype\":\"Figure\",\"type\":\"Plot\"}],\"root_ids\":[\"37be90a4-0d84-4c5a-a802-68a54a7a92cf\"]},\"title\":\"Bokeh Application\",\"version\":\"0.12.10\"}};\n",
       "    var render_items = [{\"docid\":\"da07be5c-0887-48b4-989c-2d4f583f6bba\",\"elementid\":\"c7b8f223-5f77-43b6-954d-9469ce19f862\",\"modelid\":\"37be90a4-0d84-4c5a-a802-68a54a7a92cf\"}];\n",
       "\n",
       "    root.Bokeh.embed.embed_items(docs_json, render_items);\n",
       "  }\n",
       "\n",
       "  if (root.Bokeh !== undefined) {\n",
       "    embed_document(root);\n",
       "  } else {\n",
       "    var attempts = 0;\n",
       "    var timer = setInterval(function(root) {\n",
       "      if (root.Bokeh !== undefined) {\n",
       "        embed_document(root);\n",
       "        clearInterval(timer);\n",
       "      }\n",
       "      attempts++;\n",
       "      if (attempts > 100) {\n",
       "        console.log(\"Bokeh: ERROR: Unable to embed document because BokehJS library is missing\")\n",
       "        clearInterval(timer);\n",
       "      }\n",
       "    }, 10, root)\n",
       "  }\n",
       "})(window);"
      ],
      "application/vnd.bokehjs_exec.v0+json": ""
     },
     "metadata": {
      "application/vnd.bokehjs_exec.v0+json": {
       "id": "37be90a4-0d84-4c5a-a802-68a54a7a92cf"
      }
     },
     "output_type": "display_data"
    }
   ],
   "source": [
    "# Add back the other tools as well\n",
    "\n",
    "from bokeh.models import PanTool, BoxZoomTool, WheelZoomTool, ResetTool\n",
    "\n",
    "source = ColumnDataSource(data=dict(\n",
    "    x=x,\n",
    "    y=y,\n",
    "    r=size,\n",
    "    meta=np.random.choice(list('ABC'), size=len(x)),\n",
    "))\n",
    "\n",
    "hover = HoverTool(tooltips=[\n",
    "    ('Label', '@meta'),\n",
    "    ('Size', '@r')\n",
    "])\n",
    "tools = [hover, PanTool(), BoxZoomTool(), WheelZoomTool(), ResetTool()]\n",
    "\n",
    "p = figure(title='Example plot', tools=tools,\n",
    "           x_axis_label='x', y_axis_label='y')\n",
    "\n",
    "p.circle('x', 'y', radius='r', alpha=0.5, source=source,\n",
    "         legend='Random dots')\n",
    "show(p)"
   ]
  },
  {
   "cell_type": "markdown",
   "metadata": {},
   "source": [
    "---\n",
    "### Activity B: Exploring data with interactive visualizations\n",
    "---"
   ]
  },
  {
   "cell_type": "code",
   "execution_count": 85,
   "metadata": {
    "collapsed": true
   },
   "outputs": [],
   "source": [
    "# Load in the data\n",
    "df = pd.read_csv('../data/countries/merged.csv')\n",
    "df['Date of last change'] = pd.to_datetime(df['Date of last change'])"
   ]
  },
  {
   "cell_type": "code",
   "execution_count": 86,
   "metadata": {},
   "outputs": [
    {
     "data": {
      "text/html": [
       "<div>\n",
       "<style>\n",
       "    .dataframe thead tr:only-child th {\n",
       "        text-align: right;\n",
       "    }\n",
       "\n",
       "    .dataframe thead th {\n",
       "        text-align: left;\n",
       "    }\n",
       "\n",
       "    .dataframe tbody tr th {\n",
       "        vertical-align: top;\n",
       "    }\n",
       "</style>\n",
       "<table border=\"1\" class=\"dataframe\">\n",
       "  <thead>\n",
       "    <tr style=\"text-align: right;\">\n",
       "      <th></th>\n",
       "      <th>Country</th>\n",
       "      <th>Population</th>\n",
       "      <th>Yearly Change</th>\n",
       "      <th>Interest rate</th>\n",
       "      <th>Date of last change</th>\n",
       "    </tr>\n",
       "  </thead>\n",
       "  <tbody>\n",
       "    <tr>\n",
       "      <th>0</th>\n",
       "      <td>China</td>\n",
       "      <td>1.415046e+09</td>\n",
       "      <td>0.39</td>\n",
       "      <td>1.75</td>\n",
       "      <td>2015-10-23</td>\n",
       "    </tr>\n",
       "    <tr>\n",
       "      <th>1</th>\n",
       "      <td>India</td>\n",
       "      <td>1.354052e+09</td>\n",
       "      <td>1.11</td>\n",
       "      <td>6.00</td>\n",
       "      <td>2017-08-02</td>\n",
       "    </tr>\n",
       "    <tr>\n",
       "      <th>2</th>\n",
       "      <td>United States</td>\n",
       "      <td>3.267667e+08</td>\n",
       "      <td>0.71</td>\n",
       "      <td>1.50</td>\n",
       "      <td>2017-12-13</td>\n",
       "    </tr>\n",
       "    <tr>\n",
       "      <th>3</th>\n",
       "      <td>Indonesia</td>\n",
       "      <td>2.667950e+08</td>\n",
       "      <td>1.06</td>\n",
       "      <td>4.75</td>\n",
       "      <td>2016-10-20</td>\n",
       "    </tr>\n",
       "    <tr>\n",
       "      <th>4</th>\n",
       "      <td>Brazil</td>\n",
       "      <td>2.108680e+08</td>\n",
       "      <td>0.75</td>\n",
       "      <td>7.25</td>\n",
       "      <td>2017-07-26</td>\n",
       "    </tr>\n",
       "    <tr>\n",
       "      <th>...</th>\n",
       "      <td>...</td>\n",
       "      <td>...</td>\n",
       "      <td>...</td>\n",
       "      <td>...</td>\n",
       "      <td>...</td>\n",
       "    </tr>\n",
       "    <tr>\n",
       "      <th>77</th>\n",
       "      <td>Mauritius</td>\n",
       "      <td>1.268315e+06</td>\n",
       "      <td>0.25</td>\n",
       "      <td>4.00</td>\n",
       "      <td>2016-07-20</td>\n",
       "    </tr>\n",
       "    <tr>\n",
       "      <th>78</th>\n",
       "      <td>Fiji</td>\n",
       "      <td>9.122410e+05</td>\n",
       "      <td>0.74</td>\n",
       "      <td>0.50</td>\n",
       "      <td>2011-11-02</td>\n",
       "    </tr>\n",
       "    <tr>\n",
       "      <th>79</th>\n",
       "      <td>Bahamas</td>\n",
       "      <td>3.992850e+05</td>\n",
       "      <td>0.99</td>\n",
       "      <td>4.00</td>\n",
       "      <td>2016-12-22</td>\n",
       "    </tr>\n",
       "    <tr>\n",
       "      <th>80</th>\n",
       "      <td>Iceland</td>\n",
       "      <td>3.377800e+05</td>\n",
       "      <td>0.82</td>\n",
       "      <td>4.50</td>\n",
       "      <td>2017-06-14</td>\n",
       "    </tr>\n",
       "    <tr>\n",
       "      <th>81</th>\n",
       "      <td>Samoa</td>\n",
       "      <td>1.976950e+05</td>\n",
       "      <td>0.64</td>\n",
       "      <td>0.14</td>\n",
       "      <td>2016-07-01</td>\n",
       "    </tr>\n",
       "  </tbody>\n",
       "</table>\n",
       "<p>82 rows × 5 columns</p>\n",
       "</div>"
      ],
      "text/plain": [
       "          Country    Population  Yearly Change  Interest rate  \\\n",
       "0           China  1.415046e+09           0.39           1.75   \n",
       "1           India  1.354052e+09           1.11           6.00   \n",
       "2   United States  3.267667e+08           0.71           1.50   \n",
       "3       Indonesia  2.667950e+08           1.06           4.75   \n",
       "4          Brazil  2.108680e+08           0.75           7.25   \n",
       "..            ...           ...            ...            ...   \n",
       "77      Mauritius  1.268315e+06           0.25           4.00   \n",
       "78           Fiji  9.122410e+05           0.74           0.50   \n",
       "79        Bahamas  3.992850e+05           0.99           4.00   \n",
       "80        Iceland  3.377800e+05           0.82           4.50   \n",
       "81          Samoa  1.976950e+05           0.64           0.14   \n",
       "\n",
       "   Date of last change  \n",
       "0           2015-10-23  \n",
       "1           2017-08-02  \n",
       "2           2017-12-13  \n",
       "3           2016-10-20  \n",
       "4           2017-07-26  \n",
       "..                 ...  \n",
       "77          2016-07-20  \n",
       "78          2011-11-02  \n",
       "79          2016-12-22  \n",
       "80          2017-06-14  \n",
       "81          2016-07-01  \n",
       "\n",
       "[82 rows x 5 columns]"
      ]
     },
     "execution_count": 86,
     "metadata": {},
     "output_type": "execute_result"
    }
   ],
   "source": [
    "df"
   ]
  },
  {
   "cell_type": "code",
   "execution_count": 87,
   "metadata": {},
   "outputs": [
    {
     "data": {
      "text/html": [
       "\n",
       "<div class=\"bk-root\">\n",
       "    <div class=\"bk-plotdiv\" id=\"62bd5d21-384e-4fec-9eac-d54e2be13d2c\"></div>\n",
       "</div>"
      ]
     },
     "metadata": {},
     "output_type": "display_data"
    },
    {
     "data": {
      "application/javascript": [
       "(function(root) {\n",
       "  function embed_document(root) {\n",
       "    var docs_json = {\"dbd126dd-228e-46e5-bc3e-bc90e3c730b2\":{\"roots\":{\"references\":[{\"attributes\":{\"fill_alpha\":{\"value\":0.5},\"fill_color\":{\"value\":\"#1f77b4\"},\"line_alpha\":{\"value\":0.5},\"line_color\":{\"value\":\"#1f77b4\"},\"size\":{\"units\":\"screen\",\"value\":10},\"x\":{\"field\":\"x\"},\"y\":{\"field\":\"y\"}},\"id\":\"f02af5a9-e878-4109-8827-07490bae463e\",\"type\":\"Circle\"},{\"attributes\":{\"data_source\":{\"id\":\"8ae9d8b5-2b6a-472c-87dd-8355c7e610d7\",\"type\":\"ColumnDataSource\"},\"glyph\":{\"id\":\"f02af5a9-e878-4109-8827-07490bae463e\",\"type\":\"Circle\"},\"hover_glyph\":null,\"muted_glyph\":null,\"nonselection_glyph\":{\"id\":\"73b49619-aee8-4444-bb52-23d57e96810e\",\"type\":\"Circle\"},\"selection_glyph\":null,\"view\":{\"id\":\"3475ce21-f571-41c8-bda2-1224e4d2c0d3\",\"type\":\"CDSView\"}},\"id\":\"48ba10de-5056-4b0c-be51-801c941aca88\",\"type\":\"GlyphRenderer\"},{\"attributes\":{\"axis_label\":\"Population\",\"formatter\":{\"id\":\"521618da-b232-4081-a878-afd38eed0f56\",\"type\":\"BasicTickFormatter\"},\"plot\":{\"id\":\"dc129c99-abfd-4cc5-b293-ceb96bfd2993\",\"subtype\":\"Figure\",\"type\":\"Plot\"},\"ticker\":{\"id\":\"ea4cb22e-4616-4d1d-86c6-f649f3c11b7d\",\"type\":\"BasicTicker\"}},\"id\":\"1b6000dc-9bc3-425b-8e1a-65950015ff15\",\"type\":\"LinearAxis\"},{\"attributes\":{},\"id\":\"cc66a997-000f-4bc7-9611-3496f9b0d4d9\",\"type\":\"BasicTicker\"},{\"attributes\":{},\"id\":\"521618da-b232-4081-a878-afd38eed0f56\",\"type\":\"BasicTickFormatter\"},{\"attributes\":{},\"id\":\"631db9b8-5b17-4b49-aa6e-146aaf6ed4fa\",\"type\":\"LinearScale\"},{\"attributes\":{\"fill_alpha\":{\"value\":0.1},\"fill_color\":{\"value\":\"#1f77b4\"},\"line_alpha\":{\"value\":0.1},\"line_color\":{\"value\":\"#1f77b4\"},\"size\":{\"units\":\"screen\",\"value\":10},\"x\":{\"field\":\"x\"},\"y\":{\"field\":\"y\"}},\"id\":\"73b49619-aee8-4444-bb52-23d57e96810e\",\"type\":\"Circle\"},{\"attributes\":{\"callback\":null},\"id\":\"19763ce0-57e8-4e5c-a548-1093e59ff749\",\"type\":\"DataRange1d\"},{\"attributes\":{},\"id\":\"b7928396-b068-47ee-9916-fe5315efa671\",\"type\":\"ResetTool\"},{\"attributes\":{},\"id\":\"7f132446-a6f7-458c-aa35-14462c93c7dd\",\"type\":\"BasicTickFormatter\"},{\"attributes\":{\"plot\":null,\"text\":\"\"},\"id\":\"d89e3977-d8e5-48ae-9ffe-d7778116d060\",\"type\":\"Title\"},{\"attributes\":{\"source\":{\"id\":\"8ae9d8b5-2b6a-472c-87dd-8355c7e610d7\",\"type\":\"ColumnDataSource\"}},\"id\":\"3475ce21-f571-41c8-bda2-1224e4d2c0d3\",\"type\":\"CDSView\"},{\"attributes\":{},\"id\":\"f56edbd2-090a-46df-9152-bba70a7fb294\",\"type\":\"WheelZoomTool\"},{\"attributes\":{\"callback\":null,\"tooltips\":[[\"Country\",\"@desc\"],[\"Interest Rate (%)\",\"@x\"],[\"Population\",\"@y\"]]},\"id\":\"0a3ddbcc-1a6d-492b-b278-e1984b2e9d2c\",\"type\":\"HoverTool\"},{\"attributes\":{\"axis_label\":\"Interest Rate (%)\",\"formatter\":{\"id\":\"7f132446-a6f7-458c-aa35-14462c93c7dd\",\"type\":\"BasicTickFormatter\"},\"plot\":{\"id\":\"dc129c99-abfd-4cc5-b293-ceb96bfd2993\",\"subtype\":\"Figure\",\"type\":\"Plot\"},\"ticker\":{\"id\":\"cc66a997-000f-4bc7-9611-3496f9b0d4d9\",\"type\":\"BasicTicker\"}},\"id\":\"9461dd2b-9a0c-447a-a111-0e5ef1b5fcd5\",\"type\":\"LinearAxis\"},{\"attributes\":{\"plot\":{\"id\":\"dc129c99-abfd-4cc5-b293-ceb96bfd2993\",\"subtype\":\"Figure\",\"type\":\"Plot\"},\"ticker\":{\"id\":\"cc66a997-000f-4bc7-9611-3496f9b0d4d9\",\"type\":\"BasicTicker\"}},\"id\":\"b36a4142-0b08-421c-b2ac-295c1ac59034\",\"type\":\"Grid\"},{\"attributes\":{},\"id\":\"ea4cb22e-4616-4d1d-86c6-f649f3c11b7d\",\"type\":\"BasicTicker\"},{\"attributes\":{\"callback\":null,\"column_names\":[\"desc\",\"y\",\"x\",\"radii\"],\"data\":{\"desc\":[\"China\",\"India\",\"United States\",\"Indonesia\",\"Brazil\",\"Pakistan\",\"Nigeria\",\"Bangladesh\",\"Russia\",\"Mexico\",\"Japan\",\"Philippines\",\"Egypt\",\"DR Congo\",\"Iran\",\"Turkey\",\"Thailand\",\"South Africa\",\"South Korea\",\"Kenya\",\"Colombia\",\"Argentina\",\"Uganda\",\"Ukraine\",\"Poland\",\"Canada\",\"Morocco\",\"Saudi Arabia\",\"Peru\",\"Uzbekistan\",\"Malaysia\",\"Angola\",\"Mozambique\",\"Ghana\",\"Australia\",\"Taiwan\",\"Sri Lanka\",\"Romania\",\"Malawi\",\"Kazakhstan\",\"Chile\",\"Zambia\",\"Rwanda\",\"Tunisia\",\"Dominican Republic\",\"Czech Republic\",\"Sweden\",\"Azerbaijan\",\"Jordan\",\"Hungary\",\"Belarus\",\"Tajikistan\",\"Serbia\",\"Switzerland\",\"Israel\",\"Sierra Leone\",\"Hong Kong\",\"Bulgaria\",\"Paraguay\",\"Kyrgyzstan\",\"Denmark\",\"Norway\",\"New Zealand\",\"Kuwait\",\"Croatia\",\"Moldova\",\"Georgia\",\"Mongolia\",\"Albania\",\"Armenia\",\"Jamaica\",\"Qatar\",\"Namibia\",\"Botswana\",\"Gambia\",\"Bahrain\",\"Trinidad and Tobago\",\"Mauritius\",\"Fiji\",\"Bahamas\",\"Iceland\",\"Samoa\"],\"radii\":{\"__ndarray__\":\"9ihcj8L12D/D9Shcj8LxP7gehetRuOY/9ihcj8L18D8AAAAAAADoP+F6FK5H4f4/4XoUrkfhBEB7FK5H4XrwP3sUrkfhepS/16NwPQrX8z9xPQrXo3DNv1K4HoXrUfg/7FG4HoXr/T89CtejcD0KQM3MzMzMzPA/MzMzMzMz9z/hehSuR+HKPzMzMzMzM/M/CtejcD0K1z8pXI/C9SgEQOxRuB6F6+k/FK5H4XoU7j89CtejcD0KQLgehetRuN6/w/UoXI/Cxb/NzMzMzMzsP1K4HoXrUfQ/7FG4HoXr/T8zMzMzMzPzP7gehetRuPY/H4XrUbge9T+PwvUoXI8KQDMzMzMzMwdAcT0K16NwAUAfhetRuB71P4/C9Shcj9I/ZmZmZmZm1j8AAAAAAADgv0jhehSuRwdAmpmZmZmZ8T9I4XoUrkfpPxSuR+F6FAhAMzMzMzMzA0CamZmZmZnxP0jhehSuR/E/7FG4HoXrsT9cj8L1KFznP1yPwvUoXO8/pHA9CtejAEDD9Shcj8LVv8P1KFyPwsW/pHA9CtejAEB7FK5H4XrUv5qZmZmZmek/SOF6FK5H+T8zMzMzMzMBQNejcD0K1+s/cT0K16Nw5b8pXI/C9Sj0PzMzMzMzM/c/CtejcD0K1z/NzMzMzMzsP8P1KFyPwu0/XI/C9Shc9z/hehSuR+HivwAAAAAAANC/pHA9CtejwL8AAAAAAAD4P+xRuB6F68E/pHA9CtejwD+PwvUoXI/SP+F6FK5H4QBACtejcD0KAUD2KFyPwvX8PxSuR+F6FAhA9ihcj8L1E0AAAAAAAADQPwAAAAAAANA/rkfhehSu5z+uR+F6FK7vPz0K16NwPeo/exSuR+F65D8=\",\"dtype\":\"float64\",\"shape\":[82]},\"x\":{\"__ndarray__\":\"AAAAAAAA/D8AAAAAAAAYQAAAAAAAAPg/AAAAAAAAE0AAAAAAAAAdQAAAAAAAABdAAAAAAAAALEAAAAAAAAAbQAAAAAAAAB1AAAAAAAAAHECamZmZmZm5vwAAAAAAAAhAAAAAAADAMkAAAAAAAAAsQAAAAAAAACRAAAAAAAAAIEAAAAAAAAD4PwAAAAAAABtAAAAAAAAA9D8AAAAAAAAkQAAAAAAAABZAAAAAAABAOkAAAAAAAAAkQAAAAAAAAClAAAAAAAAA+D8AAAAAAAD0PwAAAAAAAAJAAAAAAAAAAEAAAAAAAAAOQAAAAAAAACJAAAAAAAAACEAAAAAAAAAwQAAAAAAAwDVAAAAAAAAANEAAAAAAAAD4PwAAAAAAAPY/AAAAAAAAHUAAAAAAAAD8PwAAAAAAADJAAAAAAAAAJUAAAAAAAAAEQAAAAAAAAClAAAAAAAAAGEAAAAAAAAAUQAAAAAAAABVAAAAAAAAA0D8AAAAAAADgvwAAAAAAAC5AAAAAAAAADkDNzMzMzMzsPwAAAAAAAChAAAAAAAAAMEAAAAAAAAAMQAAAAAAAAOi/mpmZmZmZuT8AAAAAAAAqQAAAAAAAAPg/AAAAAAAAAAAAAAAAAAAWQAAAAAAAABRAzczMzMzM5L8AAAAAAADgPwAAAAAAAPw/AAAAAAAABkAAAAAAAAAEQAAAAAAAACBAAAAAAAAAHEAAAAAAAAAoQM3MzMzMzPA/AAAAAAAAGEAAAAAAAAAUQAAAAAAAABRAAAAAAAAAHEAAAAAAAAAWQAAAAAAAADRAKVyPwvUo+D8AAAAAAAATQAAAAAAAABBAAAAAAAAA4D8AAAAAAAAQQAAAAAAAABJA7FG4HoXrwT8=\",\"dtype\":\"float64\",\"shape\":[82]},\"y\":{\"__ndarray__\":\"AAAAyvgV1UEAAIBDTC3UQQAAAJwQerNBAAAAyO/Nr0EAAADkLSOpQQAAAPRZ8KdBAAAASqNZp0EAAAAqJ9WjQQAAAEp0KaFBAAAAiOYsn0EAAADQxlKeQQAAACj7ZJlBAAAA9Gmxl0EAAAD0QQeUQQAAAFyZjZNBAAAAHM+Hk0EAAAAUm36QQQAAAKikXotBAAAAmKhliEEAAAD4lkuIQQAAAFgrlodBAAAAAC9PhUEAAAAYHxyFQQAAAPA3/IRBAAAAAHgrgkEAAAAo9Z6BQQAAAOjxQYFBAAAAcPr/f0EAAABwOAt/QQAAAECc3X5BAAAAoN2OfkEAAADQO1l9QQAAABBKHX1BAAAAsEUZfEEAAABw6Z93QQAAAJCwmHZBAAAAkMH6c0EAAACgbaxyQQAAAIDjRnJBAAAAQCGNcUEAAACQrVpxQQAAAKAdy3BBAAAAgBTYZ0EAAADA9DxmQQAAAID2wWRBAAAAQBxEZEEAAACgXgpjQQAAAECp7WJBAAAAQNfjYkEAAADg4XpiQQAAACBKB2JBAAAAYOFeYUEAAABgVbZgQQAAAEDkS2BBAAAAIF0fYEEAAABAzHJdQQAAAMDFVlxBAAAAAOzXWkEAAAAAQ09aQQAAAAAxZVdBAAAAAH3zVUEAAADA5GtUQQAAAIBHHlJBAAAAAMICUEEAAACAV8ZPQQAAAIC01E5BAAAAgB3PTUEAAAAANtFHQQAAAIAtY0ZBAAAAAMRiRkEAAACAeh1GQQAAAIBgj0RBAAAAgEy+Q0EAAACACM1BQQAAAIAagkBBAAAAABHpN0EAAAAAtvE0QQAAAABbWjNBAAAAAOLWK0EAAAAA1F4YQQAAAADQnRRBAAAAAPghCEE=\",\"dtype\":\"float64\",\"shape\":[82]}}},\"id\":\"8ae9d8b5-2b6a-472c-87dd-8355c7e610d7\",\"type\":\"ColumnDataSource\"},{\"attributes\":{\"active_drag\":\"auto\",\"active_inspect\":\"auto\",\"active_scroll\":\"auto\",\"active_tap\":\"auto\",\"tools\":[{\"id\":\"0a3ddbcc-1a6d-492b-b278-e1984b2e9d2c\",\"type\":\"HoverTool\"},{\"id\":\"5367351b-204c-4a5a-ab36-1fb0a01c301e\",\"type\":\"PanTool\"},{\"id\":\"bf7f20ae-0410-43d9-8279-98f4d93bc308\",\"type\":\"BoxZoomTool\"},{\"id\":\"f56edbd2-090a-46df-9152-bba70a7fb294\",\"type\":\"WheelZoomTool\"},{\"id\":\"b7928396-b068-47ee-9916-fe5315efa671\",\"type\":\"ResetTool\"}]},\"id\":\"aa9cfbaf-67e8-447f-956a-cfea6b2666fa\",\"type\":\"Toolbar\"},{\"attributes\":{},\"id\":\"5367351b-204c-4a5a-ab36-1fb0a01c301e\",\"type\":\"PanTool\"},{\"attributes\":{\"overlay\":{\"id\":\"8c057439-cb40-4564-973d-37cc1b70becc\",\"type\":\"BoxAnnotation\"}},\"id\":\"bf7f20ae-0410-43d9-8279-98f4d93bc308\",\"type\":\"BoxZoomTool\"},{\"attributes\":{\"dimension\":1,\"plot\":{\"id\":\"dc129c99-abfd-4cc5-b293-ceb96bfd2993\",\"subtype\":\"Figure\",\"type\":\"Plot\"},\"ticker\":{\"id\":\"ea4cb22e-4616-4d1d-86c6-f649f3c11b7d\",\"type\":\"BasicTicker\"}},\"id\":\"500169c8-9604-4c86-b672-e33d273d1195\",\"type\":\"Grid\"},{\"attributes\":{\"bottom_units\":\"screen\",\"fill_alpha\":{\"value\":0.5},\"fill_color\":{\"value\":\"lightgrey\"},\"left_units\":\"screen\",\"level\":\"overlay\",\"line_alpha\":{\"value\":1.0},\"line_color\":{\"value\":\"black\"},\"line_dash\":[4,4],\"line_width\":{\"value\":2},\"plot\":null,\"render_mode\":\"css\",\"right_units\":\"screen\",\"top_units\":\"screen\"},\"id\":\"8c057439-cb40-4564-973d-37cc1b70becc\",\"type\":\"BoxAnnotation\"},{\"attributes\":{\"callback\":null},\"id\":\"7404d619-f1a3-47b8-a05d-e804c5decb54\",\"type\":\"DataRange1d\"},{\"attributes\":{},\"id\":\"0fc4f2ef-8c03-4d88-b230-db92ca8c28f5\",\"type\":\"LinearScale\"},{\"attributes\":{\"below\":[{\"id\":\"9461dd2b-9a0c-447a-a111-0e5ef1b5fcd5\",\"type\":\"LinearAxis\"}],\"left\":[{\"id\":\"1b6000dc-9bc3-425b-8e1a-65950015ff15\",\"type\":\"LinearAxis\"}],\"renderers\":[{\"id\":\"9461dd2b-9a0c-447a-a111-0e5ef1b5fcd5\",\"type\":\"LinearAxis\"},{\"id\":\"b36a4142-0b08-421c-b2ac-295c1ac59034\",\"type\":\"Grid\"},{\"id\":\"1b6000dc-9bc3-425b-8e1a-65950015ff15\",\"type\":\"LinearAxis\"},{\"id\":\"500169c8-9604-4c86-b672-e33d273d1195\",\"type\":\"Grid\"},{\"id\":\"8c057439-cb40-4564-973d-37cc1b70becc\",\"type\":\"BoxAnnotation\"},{\"id\":\"48ba10de-5056-4b0c-be51-801c941aca88\",\"type\":\"GlyphRenderer\"}],\"title\":{\"id\":\"d89e3977-d8e5-48ae-9ffe-d7778116d060\",\"type\":\"Title\"},\"toolbar\":{\"id\":\"aa9cfbaf-67e8-447f-956a-cfea6b2666fa\",\"type\":\"Toolbar\"},\"x_range\":{\"id\":\"7404d619-f1a3-47b8-a05d-e804c5decb54\",\"type\":\"DataRange1d\"},\"x_scale\":{\"id\":\"631db9b8-5b17-4b49-aa6e-146aaf6ed4fa\",\"type\":\"LinearScale\"},\"y_range\":{\"id\":\"19763ce0-57e8-4e5c-a548-1093e59ff749\",\"type\":\"DataRange1d\"},\"y_scale\":{\"id\":\"0fc4f2ef-8c03-4d88-b230-db92ca8c28f5\",\"type\":\"LinearScale\"}},\"id\":\"dc129c99-abfd-4cc5-b293-ceb96bfd2993\",\"subtype\":\"Figure\",\"type\":\"Plot\"}],\"root_ids\":[\"dc129c99-abfd-4cc5-b293-ceb96bfd2993\"]},\"title\":\"Bokeh Application\",\"version\":\"0.12.10\"}};\n",
       "    var render_items = [{\"docid\":\"dbd126dd-228e-46e5-bc3e-bc90e3c730b2\",\"elementid\":\"62bd5d21-384e-4fec-9eac-d54e2be13d2c\",\"modelid\":\"dc129c99-abfd-4cc5-b293-ceb96bfd2993\"}];\n",
       "\n",
       "    root.Bokeh.embed.embed_items(docs_json, render_items);\n",
       "  }\n",
       "\n",
       "  if (root.Bokeh !== undefined) {\n",
       "    embed_document(root);\n",
       "  } else {\n",
       "    var attempts = 0;\n",
       "    var timer = setInterval(function(root) {\n",
       "      if (root.Bokeh !== undefined) {\n",
       "        embed_document(root);\n",
       "        clearInterval(timer);\n",
       "      }\n",
       "      attempts++;\n",
       "      if (attempts > 100) {\n",
       "        console.log(\"Bokeh: ERROR: Unable to embed document because BokehJS library is missing\")\n",
       "        clearInterval(timer);\n",
       "      }\n",
       "    }, 10, root)\n",
       "  }\n",
       "})(window);"
      ],
      "application/vnd.bokehjs_exec.v0+json": ""
     },
     "metadata": {
      "application/vnd.bokehjs_exec.v0+json": {
       "id": "dc129c99-abfd-4cc5-b293-ceb96bfd2993"
      }
     },
     "output_type": "display_data"
    }
   ],
   "source": [
    "# Plot the population compared to the interest rate\n",
    "\n",
    "source = ColumnDataSource(data=dict(\n",
    "    x=df['Interest rate'],\n",
    "    y=df['Population'],\n",
    "    desc=df['Country'],\n",
    "    radii=df['Yearly Change']\n",
    "))\n",
    "\n",
    "hover = HoverTool(tooltips=[\n",
    "    ('Country', '@desc'),\n",
    "    ('Interest Rate (%)', '@x'),\n",
    "    ('Population', '@y')\n",
    "])\n",
    "tools = [hover, PanTool(), BoxZoomTool(), WheelZoomTool(), ResetTool()]\n",
    "\n",
    "p = figure(tools=tools,\n",
    "           x_axis_label='Interest Rate (%)',\n",
    "           y_axis_label='Population')\n",
    "\n",
    "p.circle('x', 'y', size=10, alpha=0.5, source=source)\n",
    "show(p)"
   ]
  },
  {
   "cell_type": "code",
   "execution_count": 88,
   "metadata": {
    "collapsed": true
   },
   "outputs": [],
   "source": [
    "# Add year of last change column\n",
    "\n",
    "def get_year(x):\n",
    "    year = x.strftime('%Y')\n",
    "    if year in ['2018', '2017', '2016']:\n",
    "        return year\n",
    "    else:\n",
    "        return 'Other' \n",
    "    \n",
    "df['Year of last change'] = df['Date of last change'].apply(get_year)"
   ]
  },
  {
   "cell_type": "code",
   "execution_count": 89,
   "metadata": {
    "scrolled": false
   },
   "outputs": [
    {
     "data": {
      "text/html": [
       "\n",
       "<div class=\"bk-root\">\n",
       "    <div class=\"bk-plotdiv\" id=\"a04a4379-7034-4f4f-9059-54a0fa730c4d\"></div>\n",
       "</div>"
      ]
     },
     "metadata": {},
     "output_type": "display_data"
    },
    {
     "data": {
      "application/javascript": [
       "(function(root) {\n",
       "  function embed_document(root) {\n",
       "    var docs_json = {\"e414180c-d2e2-48e1-a385-4c57df5ca8c9\":{\"roots\":{\"references\":[{\"attributes\":{\"dimension\":1,\"plot\":{\"id\":\"2d667256-5c22-4333-9be1-f0a081b77218\",\"subtype\":\"Figure\",\"type\":\"Plot\"},\"ticker\":{\"id\":\"b55ec6c8-c68c-45a3-b12c-87d4d21e3058\",\"type\":\"BasicTicker\"}},\"id\":\"75de1ebe-900d-4965-84d8-e118913be3ab\",\"type\":\"Grid\"},{\"attributes\":{\"callback\":null,\"tooltips\":[[\"Country\",\"@desc\"],[\"Interest Rate (%)\",\"@x\"],[\"Population\",\"@y\"]]},\"id\":\"45a302a7-e9a0-4703-b860-322b18685625\",\"type\":\"HoverTool\"},{\"attributes\":{},\"id\":\"47efb733-2547-45d3-8b99-7f8382c204a8\",\"type\":\"WheelZoomTool\"},{\"attributes\":{},\"id\":\"64d26a3d-3790-48cc-9fec-a71d0d4e301e\",\"type\":\"BasicTicker\"},{\"attributes\":{},\"id\":\"76ec4676-c3e0-42b8-997b-731d6adae63a\",\"type\":\"LinearScale\"},{\"attributes\":{\"source\":{\"id\":\"bff6456a-8490-413a-b976-95086b5d7194\",\"type\":\"ColumnDataSource\"}},\"id\":\"cecec235-c98b-401c-b247-1cbcf4d3482b\",\"type\":\"CDSView\"},{\"attributes\":{\"plot\":null,\"text\":\"\"},\"id\":\"dda35e98-558a-4baa-b649-bb91d8d92510\",\"type\":\"Title\"},{\"attributes\":{\"below\":[{\"id\":\"99581876-d1ac-4f1a-8076-075f63a256f6\",\"type\":\"LinearAxis\"}],\"left\":[{\"id\":\"a6068697-1218-4b44-b914-68a2f147da83\",\"type\":\"LinearAxis\"}],\"renderers\":[{\"id\":\"99581876-d1ac-4f1a-8076-075f63a256f6\",\"type\":\"LinearAxis\"},{\"id\":\"a616a873-f4e3-4f6b-8991-0d997cb4d84e\",\"type\":\"Grid\"},{\"id\":\"a6068697-1218-4b44-b914-68a2f147da83\",\"type\":\"LinearAxis\"},{\"id\":\"75de1ebe-900d-4965-84d8-e118913be3ab\",\"type\":\"Grid\"},{\"id\":\"ab4fe78f-cc2a-4696-a932-8923e4552387\",\"type\":\"BoxAnnotation\"},{\"id\":\"b4a635c3-287c-4d73-812b-fd4755ca752f\",\"type\":\"Legend\"},{\"id\":\"68670f1c-e8f7-4ec0-973c-5e8f701ca875\",\"type\":\"GlyphRenderer\"}],\"title\":{\"id\":\"dda35e98-558a-4baa-b649-bb91d8d92510\",\"type\":\"Title\"},\"toolbar\":{\"id\":\"fed677ea-523b-45c7-b43b-d919c0a95faa\",\"type\":\"Toolbar\"},\"x_range\":{\"id\":\"2c736ff5-4a6e-4a95-852c-9a92d6b0e4c7\",\"type\":\"DataRange1d\"},\"x_scale\":{\"id\":\"76ec4676-c3e0-42b8-997b-731d6adae63a\",\"type\":\"LinearScale\"},\"y_range\":{\"id\":\"403e10d6-2bc6-40b9-8365-69ffc579150b\",\"type\":\"DataRange1d\"},\"y_scale\":{\"id\":\"519cb78f-a8bf-4671-9cd5-bef021d7db9c\",\"type\":\"LinearScale\"}},\"id\":\"2d667256-5c22-4333-9be1-f0a081b77218\",\"subtype\":\"Figure\",\"type\":\"Plot\"},{\"attributes\":{},\"id\":\"00863dc1-aac2-4bd4-b2bb-e4b4f63bc3f3\",\"type\":\"BasicTickFormatter\"},{\"attributes\":{\"overlay\":{\"id\":\"ab4fe78f-cc2a-4696-a932-8923e4552387\",\"type\":\"BoxAnnotation\"}},\"id\":\"90d20cb8-9223-48ca-b2cf-a67a825a0178\",\"type\":\"BoxZoomTool\"},{\"attributes\":{\"label\":{\"field\":\"label\"},\"renderers\":[{\"id\":\"68670f1c-e8f7-4ec0-973c-5e8f701ca875\",\"type\":\"GlyphRenderer\"}]},\"id\":\"718064ae-0a98-48fb-9cf4-da779dbe4ed3\",\"type\":\"LegendItem\"},{\"attributes\":{\"active_drag\":\"auto\",\"active_inspect\":\"auto\",\"active_scroll\":\"auto\",\"active_tap\":\"auto\",\"tools\":[{\"id\":\"45a302a7-e9a0-4703-b860-322b18685625\",\"type\":\"HoverTool\"},{\"id\":\"bc6abade-bb54-4c05-acf2-d41e121f41c5\",\"type\":\"PanTool\"},{\"id\":\"90d20cb8-9223-48ca-b2cf-a67a825a0178\",\"type\":\"BoxZoomTool\"},{\"id\":\"47efb733-2547-45d3-8b99-7f8382c204a8\",\"type\":\"WheelZoomTool\"},{\"id\":\"e114dc28-fa04-4ffe-8e62-c93c062c4f34\",\"type\":\"ResetTool\"}]},\"id\":\"fed677ea-523b-45c7-b43b-d919c0a95faa\",\"type\":\"Toolbar\"},{\"attributes\":{\"callback\":null},\"id\":\"403e10d6-2bc6-40b9-8365-69ffc579150b\",\"type\":\"DataRange1d\"},{\"attributes\":{},\"id\":\"b55ec6c8-c68c-45a3-b12c-87d4d21e3058\",\"type\":\"BasicTicker\"},{\"attributes\":{\"axis_label\":\"Interest Rate (%)\",\"formatter\":{\"id\":\"3e612e26-9dbb-41cb-a618-afa991223bcc\",\"type\":\"BasicTickFormatter\"},\"plot\":{\"id\":\"2d667256-5c22-4333-9be1-f0a081b77218\",\"subtype\":\"Figure\",\"type\":\"Plot\"},\"ticker\":{\"id\":\"64d26a3d-3790-48cc-9fec-a71d0d4e301e\",\"type\":\"BasicTicker\"}},\"id\":\"99581876-d1ac-4f1a-8076-075f63a256f6\",\"type\":\"LinearAxis\"},{\"attributes\":{},\"id\":\"e114dc28-fa04-4ffe-8e62-c93c062c4f34\",\"type\":\"ResetTool\"},{\"attributes\":{\"data_source\":{\"id\":\"bff6456a-8490-413a-b976-95086b5d7194\",\"type\":\"ColumnDataSource\"},\"glyph\":{\"id\":\"134da14f-f467-4e6e-96e3-d293a3cf39d8\",\"type\":\"Circle\"},\"hover_glyph\":null,\"muted_glyph\":null,\"nonselection_glyph\":{\"id\":\"ed5d8762-d864-4202-b965-69de5070ec6f\",\"type\":\"Circle\"},\"selection_glyph\":null,\"view\":{\"id\":\"cecec235-c98b-401c-b247-1cbcf4d3482b\",\"type\":\"CDSView\"}},\"id\":\"68670f1c-e8f7-4ec0-973c-5e8f701ca875\",\"type\":\"GlyphRenderer\"},{\"attributes\":{},\"id\":\"519cb78f-a8bf-4671-9cd5-bef021d7db9c\",\"type\":\"LinearScale\"},{\"attributes\":{},\"id\":\"3e612e26-9dbb-41cb-a618-afa991223bcc\",\"type\":\"BasicTickFormatter\"},{\"attributes\":{\"bottom_units\":\"screen\",\"fill_alpha\":{\"value\":0.5},\"fill_color\":{\"value\":\"lightgrey\"},\"left_units\":\"screen\",\"level\":\"overlay\",\"line_alpha\":{\"value\":1.0},\"line_color\":{\"value\":\"black\"},\"line_dash\":[4,4],\"line_width\":{\"value\":2},\"plot\":null,\"render_mode\":\"css\",\"right_units\":\"screen\",\"top_units\":\"screen\"},\"id\":\"ab4fe78f-cc2a-4696-a932-8923e4552387\",\"type\":\"BoxAnnotation\"},{\"attributes\":{\"plot\":{\"id\":\"2d667256-5c22-4333-9be1-f0a081b77218\",\"subtype\":\"Figure\",\"type\":\"Plot\"},\"ticker\":{\"id\":\"64d26a3d-3790-48cc-9fec-a71d0d4e301e\",\"type\":\"BasicTicker\"}},\"id\":\"a616a873-f4e3-4f6b-8991-0d997cb4d84e\",\"type\":\"Grid\"},{\"attributes\":{\"fill_alpha\":{\"value\":0.5},\"fill_color\":{\"field\":\"colors\"},\"line_alpha\":{\"value\":0.5},\"size\":{\"units\":\"screen\",\"value\":10},\"x\":{\"field\":\"x\"},\"y\":{\"field\":\"y\"}},\"id\":\"134da14f-f467-4e6e-96e3-d293a3cf39d8\",\"type\":\"Circle\"},{\"attributes\":{\"callback\":null,\"column_names\":[\"label\",\"colors\",\"desc\",\"x\",\"y\"],\"data\":{\"colors\":[\"red\",\"blue\",\"blue\",\"orange\",\"blue\",\"orange\",\"orange\",\"orange\",\"black\",\"blue\",\"orange\",\"red\",\"blue\",\"blue\",\"blue\",\"orange\",\"red\",\"blue\",\"orange\",\"orange\",\"blue\",\"blue\",\"blue\",\"blue\",\"red\",\"black\",\"orange\",\"red\",\"blue\",\"red\",\"orange\",\"orange\",\"blue\",\"blue\",\"orange\",\"orange\",\"blue\",\"red\",\"blue\",\"blue\",\"blue\",\"blue\",\"blue\",\"blue\",\"blue\",\"blue\",\"orange\",\"orange\",\"blue\",\"orange\",\"blue\",\"blue\",\"blue\",\"red\",\"red\",\"blue\",\"blue\",\"orange\",\"orange\",\"orange\",\"orange\",\"orange\",\"orange\",\"blue\",\"red\",\"blue\",\"blue\",\"blue\",\"orange\",\"blue\",\"orange\",\"blue\",\"orange\",\"orange\",\"blue\",\"blue\",\"red\",\"orange\",\"red\",\"orange\",\"blue\",\"orange\"],\"desc\":[\"China\",\"India\",\"United States\",\"Indonesia\",\"Brazil\",\"Pakistan\",\"Nigeria\",\"Bangladesh\",\"Russia\",\"Mexico\",\"Japan\",\"Philippines\",\"Egypt\",\"DR Congo\",\"Iran\",\"Turkey\",\"Thailand\",\"South Africa\",\"South Korea\",\"Kenya\",\"Colombia\",\"Argentina\",\"Uganda\",\"Ukraine\",\"Poland\",\"Canada\",\"Morocco\",\"Saudi Arabia\",\"Peru\",\"Uzbekistan\",\"Malaysia\",\"Angola\",\"Mozambique\",\"Ghana\",\"Australia\",\"Taiwan\",\"Sri Lanka\",\"Romania\",\"Malawi\",\"Kazakhstan\",\"Chile\",\"Zambia\",\"Rwanda\",\"Tunisia\",\"Dominican Republic\",\"Czech Republic\",\"Sweden\",\"Azerbaijan\",\"Jordan\",\"Hungary\",\"Belarus\",\"Tajikistan\",\"Serbia\",\"Switzerland\",\"Israel\",\"Sierra Leone\",\"Hong Kong\",\"Bulgaria\",\"Paraguay\",\"Kyrgyzstan\",\"Denmark\",\"Norway\",\"New Zealand\",\"Kuwait\",\"Croatia\",\"Moldova\",\"Georgia\",\"Mongolia\",\"Albania\",\"Armenia\",\"Jamaica\",\"Qatar\",\"Namibia\",\"Botswana\",\"Gambia\",\"Bahrain\",\"Trinidad and Tobago\",\"Mauritius\",\"Fiji\",\"Bahamas\",\"Iceland\",\"Samoa\"],\"label\":[\"Other\",\"2017\",\"2017\",\"2016\",\"2017\",\"2016\",\"2016\",\"2016\",\"2018\",\"2017\",\"2016\",\"Other\",\"2017\",\"2017\",\"2017\",\"2016\",\"Other\",\"2017\",\"2016\",\"2016\",\"2017\",\"2017\",\"2017\",\"2017\",\"Other\",\"2018\",\"2016\",\"Other\",\"2017\",\"Other\",\"2016\",\"2016\",\"2017\",\"2017\",\"2016\",\"2016\",\"2017\",\"Other\",\"2017\",\"2017\",\"2017\",\"2017\",\"2017\",\"2017\",\"2017\",\"2017\",\"2016\",\"2016\",\"2017\",\"2016\",\"2017\",\"2017\",\"2017\",\"Other\",\"Other\",\"2017\",\"2017\",\"2016\",\"2016\",\"2016\",\"2016\",\"2016\",\"2016\",\"2017\",\"Other\",\"2017\",\"2017\",\"2017\",\"2016\",\"2017\",\"2016\",\"2017\",\"2016\",\"2016\",\"2017\",\"2017\",\"Other\",\"2016\",\"Other\",\"2016\",\"2017\",\"2016\"],\"x\":{\"__ndarray__\":\"AAAAAAAA/D8AAAAAAAAYQAAAAAAAAPg/AAAAAAAAE0AAAAAAAAAdQAAAAAAAABdAAAAAAAAALEAAAAAAAAAbQAAAAAAAAB1AAAAAAAAAHECamZmZmZm5vwAAAAAAAAhAAAAAAADAMkAAAAAAAAAsQAAAAAAAACRAAAAAAAAAIEAAAAAAAAD4PwAAAAAAABtAAAAAAAAA9D8AAAAAAAAkQAAAAAAAABZAAAAAAABAOkAAAAAAAAAkQAAAAAAAAClAAAAAAAAA+D8AAAAAAAD0PwAAAAAAAAJAAAAAAAAAAEAAAAAAAAAOQAAAAAAAACJAAAAAAAAACEAAAAAAAAAwQAAAAAAAwDVAAAAAAAAANEAAAAAAAAD4PwAAAAAAAPY/AAAAAAAAHUAAAAAAAAD8PwAAAAAAADJAAAAAAAAAJUAAAAAAAAAEQAAAAAAAAClAAAAAAAAAGEAAAAAAAAAUQAAAAAAAABVAAAAAAAAA0D8AAAAAAADgvwAAAAAAAC5AAAAAAAAADkDNzMzMzMzsPwAAAAAAAChAAAAAAAAAMEAAAAAAAAAMQAAAAAAAAOi/mpmZmZmZuT8AAAAAAAAqQAAAAAAAAPg/AAAAAAAAAAAAAAAAAAAWQAAAAAAAABRAzczMzMzM5L8AAAAAAADgPwAAAAAAAPw/AAAAAAAABkAAAAAAAAAEQAAAAAAAACBAAAAAAAAAHEAAAAAAAAAoQM3MzMzMzPA/AAAAAAAAGEAAAAAAAAAUQAAAAAAAABRAAAAAAAAAHEAAAAAAAAAWQAAAAAAAADRAKVyPwvUo+D8AAAAAAAATQAAAAAAAABBAAAAAAAAA4D8AAAAAAAAQQAAAAAAAABJA7FG4HoXrwT8=\",\"dtype\":\"float64\",\"shape\":[82]},\"y\":{\"__ndarray__\":\"AAAAyvgV1UEAAIBDTC3UQQAAAJwQerNBAAAAyO/Nr0EAAADkLSOpQQAAAPRZ8KdBAAAASqNZp0EAAAAqJ9WjQQAAAEp0KaFBAAAAiOYsn0EAAADQxlKeQQAAACj7ZJlBAAAA9Gmxl0EAAAD0QQeUQQAAAFyZjZNBAAAAHM+Hk0EAAAAUm36QQQAAAKikXotBAAAAmKhliEEAAAD4lkuIQQAAAFgrlodBAAAAAC9PhUEAAAAYHxyFQQAAAPA3/IRBAAAAAHgrgkEAAAAo9Z6BQQAAAOjxQYFBAAAAcPr/f0EAAABwOAt/QQAAAECc3X5BAAAAoN2OfkEAAADQO1l9QQAAABBKHX1BAAAAsEUZfEEAAABw6Z93QQAAAJCwmHZBAAAAkMH6c0EAAACgbaxyQQAAAIDjRnJBAAAAQCGNcUEAAACQrVpxQQAAAKAdy3BBAAAAgBTYZ0EAAADA9DxmQQAAAID2wWRBAAAAQBxEZEEAAACgXgpjQQAAAECp7WJBAAAAQNfjYkEAAADg4XpiQQAAACBKB2JBAAAAYOFeYUEAAABgVbZgQQAAAEDkS2BBAAAAIF0fYEEAAABAzHJdQQAAAMDFVlxBAAAAAOzXWkEAAAAAQ09aQQAAAAAxZVdBAAAAAH3zVUEAAADA5GtUQQAAAIBHHlJBAAAAAMICUEEAAACAV8ZPQQAAAIC01E5BAAAAgB3PTUEAAAAANtFHQQAAAIAtY0ZBAAAAAMRiRkEAAACAeh1GQQAAAIBgj0RBAAAAgEy+Q0EAAACACM1BQQAAAIAagkBBAAAAABHpN0EAAAAAtvE0QQAAAABbWjNBAAAAAOLWK0EAAAAA1F4YQQAAAADQnRRBAAAAAPghCEE=\",\"dtype\":\"float64\",\"shape\":[82]}}},\"id\":\"bff6456a-8490-413a-b976-95086b5d7194\",\"type\":\"ColumnDataSource\"},{\"attributes\":{\"items\":[{\"id\":\"718064ae-0a98-48fb-9cf4-da779dbe4ed3\",\"type\":\"LegendItem\"}],\"plot\":{\"id\":\"2d667256-5c22-4333-9be1-f0a081b77218\",\"subtype\":\"Figure\",\"type\":\"Plot\"}},\"id\":\"b4a635c3-287c-4d73-812b-fd4755ca752f\",\"type\":\"Legend\"},{\"attributes\":{\"axis_label\":\"Population\",\"formatter\":{\"id\":\"00863dc1-aac2-4bd4-b2bb-e4b4f63bc3f3\",\"type\":\"BasicTickFormatter\"},\"plot\":{\"id\":\"2d667256-5c22-4333-9be1-f0a081b77218\",\"subtype\":\"Figure\",\"type\":\"Plot\"},\"ticker\":{\"id\":\"b55ec6c8-c68c-45a3-b12c-87d4d21e3058\",\"type\":\"BasicTicker\"}},\"id\":\"a6068697-1218-4b44-b914-68a2f147da83\",\"type\":\"LinearAxis\"},{\"attributes\":{\"callback\":null},\"id\":\"2c736ff5-4a6e-4a95-852c-9a92d6b0e4c7\",\"type\":\"DataRange1d\"},{\"attributes\":{\"fill_alpha\":{\"value\":0.1},\"fill_color\":{\"value\":\"#1f77b4\"},\"line_alpha\":{\"value\":0.1},\"line_color\":{\"value\":\"#1f77b4\"},\"size\":{\"units\":\"screen\",\"value\":10},\"x\":{\"field\":\"x\"},\"y\":{\"field\":\"y\"}},\"id\":\"ed5d8762-d864-4202-b965-69de5070ec6f\",\"type\":\"Circle\"},{\"attributes\":{},\"id\":\"bc6abade-bb54-4c05-acf2-d41e121f41c5\",\"type\":\"PanTool\"}],\"root_ids\":[\"2d667256-5c22-4333-9be1-f0a081b77218\"]},\"title\":\"Bokeh Application\",\"version\":\"0.12.10\"}};\n",
       "    var render_items = [{\"docid\":\"e414180c-d2e2-48e1-a385-4c57df5ca8c9\",\"elementid\":\"a04a4379-7034-4f4f-9059-54a0fa730c4d\",\"modelid\":\"2d667256-5c22-4333-9be1-f0a081b77218\"}];\n",
       "\n",
       "    root.Bokeh.embed.embed_items(docs_json, render_items);\n",
       "  }\n",
       "\n",
       "  if (root.Bokeh !== undefined) {\n",
       "    embed_document(root);\n",
       "  } else {\n",
       "    var attempts = 0;\n",
       "    var timer = setInterval(function(root) {\n",
       "      if (root.Bokeh !== undefined) {\n",
       "        embed_document(root);\n",
       "        clearInterval(timer);\n",
       "      }\n",
       "      attempts++;\n",
       "      if (attempts > 100) {\n",
       "        console.log(\"Bokeh: ERROR: Unable to embed document because BokehJS library is missing\")\n",
       "        clearInterval(timer);\n",
       "      }\n",
       "    }, 10, root)\n",
       "  }\n",
       "})(window);"
      ],
      "application/vnd.bokehjs_exec.v0+json": ""
     },
     "metadata": {
      "application/vnd.bokehjs_exec.v0+json": {
       "id": "2d667256-5c22-4333-9be1-f0a081b77218"
      }
     },
     "output_type": "display_data"
    }
   ],
   "source": [
    "# Re-plot the above figure,\n",
    "# adding colors based on year\n",
    "# of last interest rate change\n",
    "\n",
    "year_to_color = {\n",
    "    '2018': 'black',\n",
    "    '2017': 'blue',\n",
    "    '2016': 'orange',\n",
    "    'Other':'red'\n",
    "}\n",
    "\n",
    "source = ColumnDataSource(data=dict(\n",
    "    x=df['Interest rate'],\n",
    "    y=df['Population'],\n",
    "    desc=df['Country'],\n",
    "    colors=df['Year of last change'].map(year_to_color),\n",
    "    label=df['Year of last change']\n",
    "))\n",
    "\n",
    "hover = HoverTool(tooltips=[\n",
    "    ('Country', '@desc'),\n",
    "    ('Interest Rate (%)', '@x'),\n",
    "    ('Population', '@y')\n",
    "])\n",
    "tools = [hover, PanTool(), BoxZoomTool(), WheelZoomTool(), ResetTool()]\n",
    "\n",
    "p = figure(tools=tools,\n",
    "           x_axis_label='Interest Rate (%)',\n",
    "           y_axis_label='Population')\n",
    "\n",
    "p.circle('x', 'y', size=10, alpha=0.5, source=source,\n",
    "         fill_color='colors', line_color='black',\n",
    "         legend='label')\n",
    "show(p)"
   ]
  },
  {
   "cell_type": "code",
   "execution_count": 90,
   "metadata": {},
   "outputs": [
    {
     "data": {
      "text/plain": [
       "Index(['Country', 'Population', 'Yearly Change', 'Interest rate',\n",
       "       'Date of last change', 'Year of last change'],\n",
       "      dtype='object')"
      ]
     },
     "execution_count": 90,
     "metadata": {},
     "output_type": "execute_result"
    }
   ],
   "source": [
    "df.columns"
   ]
  },
  {
   "cell_type": "code",
   "execution_count": 91,
   "metadata": {},
   "outputs": [
    {
     "data": {
      "text/html": [
       "\n",
       "<div class=\"bk-root\">\n",
       "    <div class=\"bk-plotdiv\" id=\"96751bc9-2c3e-4c8c-937f-2df647fa1003\"></div>\n",
       "</div>"
      ]
     },
     "metadata": {},
     "output_type": "display_data"
    },
    {
     "data": {
      "application/javascript": [
       "(function(root) {\n",
       "  function embed_document(root) {\n",
       "    var docs_json = {\"bda3cea3-f763-4bab-856c-d9c9d0633f30\":{\"roots\":{\"references\":[{\"attributes\":{},\"id\":\"d95d94f1-9461-49da-a805-b19408b253a1\",\"type\":\"LinearScale\"},{\"attributes\":{\"axis_label\":\"Interest Rate\",\"formatter\":{\"id\":\"c5e63269-5c3b-4cd6-96af-d4df2add51bd\",\"type\":\"BasicTickFormatter\"},\"plot\":{\"id\":\"59fc0f98-e474-4960-901a-4c2b013d77c8\",\"subtype\":\"Figure\",\"type\":\"Plot\"},\"ticker\":{\"id\":\"6e3cce11-abeb-4176-8ec4-b1d51638defb\",\"type\":\"BasicTicker\"}},\"id\":\"d7afe435-2cb8-4482-bb65-9ae4b5e1ad5a\",\"type\":\"LinearAxis\"},{\"attributes\":{\"axis_label\":\"YoY Population Change\",\"formatter\":{\"id\":\"7accba58-e21d-4a6c-bd66-0a6cca160a24\",\"type\":\"BasicTickFormatter\"},\"plot\":{\"id\":\"59fc0f98-e474-4960-901a-4c2b013d77c8\",\"subtype\":\"Figure\",\"type\":\"Plot\"},\"ticker\":{\"id\":\"9c6947d4-2866-4f0a-b6a6-cbb39e0cfccd\",\"type\":\"BasicTicker\"}},\"id\":\"34b6a78a-1149-491d-9a5b-c41d1d28833b\",\"type\":\"LinearAxis\"},{\"attributes\":{\"plot\":null,\"text\":\"\"},\"id\":\"6945c94a-a0c9-4691-ab60-d95b4f4b9850\",\"type\":\"Title\"},{\"attributes\":{\"data_source\":{\"id\":\"b64b75f3-4594-409a-8d1a-600a30b5d9e4\",\"type\":\"ColumnDataSource\"},\"glyph\":{\"id\":\"88981b11-ee76-4634-9715-f8cdba8a4844\",\"type\":\"Circle\"},\"hover_glyph\":null,\"muted_glyph\":null,\"nonselection_glyph\":{\"id\":\"b75096fd-be69-496b-bddb-c3b14b57bec8\",\"type\":\"Circle\"},\"selection_glyph\":null,\"view\":{\"id\":\"757c7aaf-82b1-4dcd-abf7-d35e6cca1050\",\"type\":\"CDSView\"}},\"id\":\"76c25c00-d0e6-4454-8718-c5b433d20d3e\",\"type\":\"GlyphRenderer\"},{\"attributes\":{\"fill_alpha\":{\"value\":0.5},\"fill_color\":{\"value\":\"#1f77b4\"},\"line_alpha\":{\"value\":0.5},\"line_color\":{\"value\":\"#1f77b4\"},\"radius\":{\"field\":\"radii\",\"units\":\"data\"},\"size\":{\"units\":\"screen\",\"value\":10},\"x\":{\"field\":\"x\"},\"y\":{\"field\":\"y\"}},\"id\":\"88981b11-ee76-4634-9715-f8cdba8a4844\",\"type\":\"Circle\"},{\"attributes\":{\"bottom_units\":\"screen\",\"fill_alpha\":{\"value\":0.5},\"fill_color\":{\"value\":\"lightgrey\"},\"left_units\":\"screen\",\"level\":\"overlay\",\"line_alpha\":{\"value\":1.0},\"line_color\":{\"value\":\"black\"},\"line_dash\":[4,4],\"line_width\":{\"value\":2},\"plot\":null,\"render_mode\":\"css\",\"right_units\":\"screen\",\"top_units\":\"screen\"},\"id\":\"e5c2c6ea-8c4e-4c1e-86ea-529134169821\",\"type\":\"BoxAnnotation\"},{\"attributes\":{\"overlay\":{\"id\":\"e5c2c6ea-8c4e-4c1e-86ea-529134169821\",\"type\":\"BoxAnnotation\"}},\"id\":\"b43f8ec8-cbaf-40c4-a543-a248b397ce4e\",\"type\":\"BoxZoomTool\"},{\"attributes\":{\"callback\":null},\"id\":\"b572c426-fae0-4cba-a782-1219d2c6f9a1\",\"type\":\"DataRange1d\"},{\"attributes\":{\"dimension\":1,\"plot\":{\"id\":\"59fc0f98-e474-4960-901a-4c2b013d77c8\",\"subtype\":\"Figure\",\"type\":\"Plot\"},\"ticker\":{\"id\":\"6e3cce11-abeb-4176-8ec4-b1d51638defb\",\"type\":\"BasicTicker\"}},\"id\":\"3a9a984d-058a-41e9-ba8f-bc9259534d57\",\"type\":\"Grid\"},{\"attributes\":{},\"id\":\"6eed3826-4b43-4ac8-9655-4b77afc876b1\",\"type\":\"LinearScale\"},{\"attributes\":{\"callback\":null,\"column_names\":[\"population\",\"desc\",\"y\",\"x\",\"radii\"],\"data\":{\"desc\":[\"China\",\"India\",\"United States\",\"Indonesia\",\"Brazil\",\"Pakistan\",\"Nigeria\",\"Bangladesh\",\"Russia\",\"Mexico\",\"Japan\",\"Philippines\",\"Egypt\",\"DR Congo\",\"Iran\",\"Turkey\",\"Thailand\",\"South Africa\",\"South Korea\",\"Kenya\",\"Colombia\",\"Argentina\",\"Uganda\",\"Ukraine\",\"Poland\",\"Canada\",\"Morocco\",\"Saudi Arabia\",\"Peru\",\"Uzbekistan\",\"Malaysia\",\"Angola\",\"Mozambique\",\"Ghana\",\"Australia\",\"Taiwan\",\"Sri Lanka\",\"Romania\",\"Malawi\",\"Kazakhstan\",\"Chile\",\"Zambia\",\"Rwanda\",\"Tunisia\",\"Dominican Republic\",\"Czech Republic\",\"Sweden\",\"Azerbaijan\",\"Jordan\",\"Hungary\",\"Belarus\",\"Tajikistan\",\"Serbia\",\"Switzerland\",\"Israel\",\"Sierra Leone\",\"Hong Kong\",\"Bulgaria\",\"Paraguay\",\"Kyrgyzstan\",\"Denmark\",\"Norway\",\"New Zealand\",\"Kuwait\",\"Croatia\",\"Moldova\",\"Georgia\",\"Mongolia\",\"Albania\",\"Armenia\",\"Jamaica\",\"Qatar\",\"Namibia\",\"Botswana\",\"Gambia\",\"Bahrain\",\"Trinidad and Tobago\",\"Mauritius\",\"Fiji\",\"Bahamas\",\"Iceland\",\"Samoa\"],\"population\":{\"__ndarray__\":\"4ue/By8clkCrCDcZNSiVQGAEjZlEbHRAls/yPLiscEDWjXdHxltqQK3cC8wKGmlA+WcG8QF8aEDDYWngx8tkQAWlaOXe/mFAzqeOVUpYYEC/ub963MtfQHHIBtLFoFpADLH6IwzYWEC+9WG9UQBVQP1NKETAgFRAp+mzA656VECnID8buUtRQBKFlnX/skxArKjBNAyVSUACui9ntnlJQOsAiLt6u0hAJbIPsixYRkD7QPLOoSJGQCpVouwtAUZAgsmNImsNQ0DjiLX4FHpCQMoa9RCNGEJAHuIftvTGQECbOLnfoUZAQN2VXTC4LkBAD7qEQ28FQEBRZoNMMsY+QDlHHR1Xhz5A8wTCTrF2PUAib7n6scU4QGuDE9GvsTdA8NsQ4zXzNEAX8ghupJQzQEm8PJ0rKjNAnil0XmNnMkAUev1JfDIyQFRx4xbzmzFAa2PshJcAKUA8vyhBf1EnQGX/PA0YxCVA46WbxCBAJUBA+FCiJfcjQBKifEEL2SNAaR7AIr/OI0A75dGNsGAjQGIx6lp75yJA/Io1XOQ2IkCGVidnKIYhQPrS25+LFiFAbJOKxtrnIEBf7pOjAOEeQNy3Wicutx1AKbFre7slHEBEFf4Mb5YbQBReglMfiBhAXio25nUEF0A+d4L912kVQImWPJ6W/xJA6YAk7NvJEEBAv+/fvKgQQHwKgPEMKhBAkYDR5c1BD0BQjCyZY/kIQFW9/E6TeQdApvELryR5B0DSViWRfTAHQDVEFf4MjwVA4nK8AtGzBEC69C9JZaoCQOXVOQZkTwFAkPmAQGcS+T9Q4QhSKfb1P3trYKsES/Q/MUCiCRQx7T+SIjKs4o3ZP1mLTwEwntU/kpbK2xFOyT8=\",\"dtype\":\"float64\",\"shape\":[82]},\"radii\":{\"__ndarray__\":\"Ir4VXy8T2D/Su+Cl5IzXP5cJrbleI8c/Bq3xekfoxD95NVJbVpbCP2miIIKDI8I/XX1zRw/qwT+gAWNZioLAP0EN8jNbt74/RoO4iglGvT9LK7lF6968PymCEVOfa7o/9QbevByFuT8Cm1zopna3P2EtwTr2Lrc/VifiP4crtz9ZnHjPDEu1PxA6visfZbM/WTeD1r5Psj9jii6980WyP8L6EZ04AbI/4twPXBAdsT/FqNH8ggixP2LhfCCf+7A/z96/RfWarz++w8bI0B+vP68/Pw0+za4/KUAFvn2orT9BRU80NTatP+ULE7+3IK0/cXaOH3j7rD9nNZpxJ2esP7nn1+sWSqw/i6CHwaTKqz+OuBf+rXupP7Pyq84i7Kg/84vtHFNvpz8uHw3176emP1hpv2gCaqY/ecY1v/P2pT/4dlE6S9elPwTi0WU2fKU/uGTDLE8aoj9KGRT0hXuhP3hvch3846A/LmtViXmwoD9kqL+MRi2gPw+Yl+oPIaA/oCqgQ+AcoD+5EOHBu9+fPyNnd01ue58/w2NrxAXnnj91qEHHpk+eP1E76iWE7p0/eOSwrIPFnT9eG4CKg3OcP8feASv+6Js/3yVKuOgpmz+P8lyhauSaPx0PW7nuW5k/IVVHdF+QmD/Sgl5PULGXPybBsOMNUZY/qEAaJIT6lD94y/pFyOWUP8iLXkC5lZQ/dkUo8qg9lD/79ndysxeSPyyXP6qFipE/koFVVVyKkT8GiuQPIm+RPyIh5cpaz5A/ohxsXwR5kD+AB4qFZ0iPP+yGPhskII4/roKJBwSjiT+wpQMWc/6HP/0sWzyBEIc/cUczFIuPgz9Q0rfc2OF5P8E8K9Uzznc/kZqtCkY2cj8=\",\"dtype\":\"float64\",\"shape\":[82]},\"x\":{\"__ndarray__\":\"9ihcj8L12D/D9Shcj8LxP7gehetRuOY/9ihcj8L18D8AAAAAAADoP+F6FK5H4f4/4XoUrkfhBEB7FK5H4XrwP3sUrkfhepS/16NwPQrX8z9xPQrXo3DNv1K4HoXrUfg/7FG4HoXr/T89CtejcD0KQM3MzMzMzPA/MzMzMzMz9z/hehSuR+HKPzMzMzMzM/M/CtejcD0K1z8pXI/C9SgEQOxRuB6F6+k/FK5H4XoU7j89CtejcD0KQLgehetRuN6/w/UoXI/Cxb/NzMzMzMzsP1K4HoXrUfQ/7FG4HoXr/T8zMzMzMzPzP7gehetRuPY/H4XrUbge9T+PwvUoXI8KQDMzMzMzMwdAcT0K16NwAUAfhetRuB71P4/C9Shcj9I/ZmZmZmZm1j8AAAAAAADgv0jhehSuRwdAmpmZmZmZ8T9I4XoUrkfpPxSuR+F6FAhAMzMzMzMzA0CamZmZmZnxP0jhehSuR/E/7FG4HoXrsT9cj8L1KFznP1yPwvUoXO8/pHA9CtejAEDD9Shcj8LVv8P1KFyPwsW/pHA9CtejAEB7FK5H4XrUv5qZmZmZmek/SOF6FK5H+T8zMzMzMzMBQNejcD0K1+s/cT0K16Nw5b8pXI/C9Sj0PzMzMzMzM/c/CtejcD0K1z/NzMzMzMzsP8P1KFyPwu0/XI/C9Shc9z/hehSuR+HivwAAAAAAANC/pHA9CtejwL8AAAAAAAD4P+xRuB6F68E/pHA9CtejwD+PwvUoXI/SP+F6FK5H4QBACtejcD0KAUD2KFyPwvX8PxSuR+F6FAhA9ihcj8L1E0AAAAAAAADQPwAAAAAAANA/rkfhehSu5z+uR+F6FK7vPz0K16NwPeo/exSuR+F65D8=\",\"dtype\":\"float64\",\"shape\":[82]},\"y\":{\"__ndarray__\":\"AAAAAAAA/D8AAAAAAAAYQAAAAAAAAPg/AAAAAAAAE0AAAAAAAAAdQAAAAAAAABdAAAAAAAAALEAAAAAAAAAbQAAAAAAAAB1AAAAAAAAAHECamZmZmZm5vwAAAAAAAAhAAAAAAADAMkAAAAAAAAAsQAAAAAAAACRAAAAAAAAAIEAAAAAAAAD4PwAAAAAAABtAAAAAAAAA9D8AAAAAAAAkQAAAAAAAABZAAAAAAABAOkAAAAAAAAAkQAAAAAAAAClAAAAAAAAA+D8AAAAAAAD0PwAAAAAAAAJAAAAAAAAAAEAAAAAAAAAOQAAAAAAAACJAAAAAAAAACEAAAAAAAAAwQAAAAAAAwDVAAAAAAAAANEAAAAAAAAD4PwAAAAAAAPY/AAAAAAAAHUAAAAAAAAD8PwAAAAAAADJAAAAAAAAAJUAAAAAAAAAEQAAAAAAAAClAAAAAAAAAGEAAAAAAAAAUQAAAAAAAABVAAAAAAAAA0D8AAAAAAADgvwAAAAAAAC5AAAAAAAAADkDNzMzMzMzsPwAAAAAAAChAAAAAAAAAMEAAAAAAAAAMQAAAAAAAAOi/mpmZmZmZuT8AAAAAAAAqQAAAAAAAAPg/AAAAAAAAAAAAAAAAAAAWQAAAAAAAABRAzczMzMzM5L8AAAAAAADgPwAAAAAAAPw/AAAAAAAABkAAAAAAAAAEQAAAAAAAACBAAAAAAAAAHEAAAAAAAAAoQM3MzMzMzPA/AAAAAAAAGEAAAAAAAAAUQAAAAAAAABRAAAAAAAAAHEAAAAAAAAAWQAAAAAAAADRAKVyPwvUo+D8AAAAAAAATQAAAAAAAABBAAAAAAAAA4D8AAAAAAAAQQAAAAAAAABJA7FG4HoXrwT8=\",\"dtype\":\"float64\",\"shape\":[82]}}},\"id\":\"b64b75f3-4594-409a-8d1a-600a30b5d9e4\",\"type\":\"ColumnDataSource\"},{\"attributes\":{\"callback\":null},\"id\":\"3b084d39-5df5-4c72-8fd9-36b7ce156ef8\",\"type\":\"DataRange1d\"},{\"attributes\":{},\"id\":\"9c6947d4-2866-4f0a-b6a6-cbb39e0cfccd\",\"type\":\"BasicTicker\"},{\"attributes\":{\"active_drag\":\"auto\",\"active_inspect\":\"auto\",\"active_scroll\":\"auto\",\"active_tap\":\"auto\",\"tools\":[{\"id\":\"267b0b53-7476-4992-a84c-14cde3717255\",\"type\":\"HoverTool\"},{\"id\":\"4e3c21b1-111b-4db5-92ea-8d11ed819105\",\"type\":\"PanTool\"},{\"id\":\"b43f8ec8-cbaf-40c4-a543-a248b397ce4e\",\"type\":\"BoxZoomTool\"},{\"id\":\"ee5d2ade-d571-4e3c-afca-81eab048b115\",\"type\":\"WheelZoomTool\"},{\"id\":\"1d281131-1597-4d80-9e28-a1ec0d454d5e\",\"type\":\"ResetTool\"}]},\"id\":\"767c2a7a-6081-4c16-b928-bd9ce0ce3b7e\",\"type\":\"Toolbar\"},{\"attributes\":{},\"id\":\"7accba58-e21d-4a6c-bd66-0a6cca160a24\",\"type\":\"BasicTickFormatter\"},{\"attributes\":{\"source\":{\"id\":\"b64b75f3-4594-409a-8d1a-600a30b5d9e4\",\"type\":\"ColumnDataSource\"}},\"id\":\"757c7aaf-82b1-4dcd-abf7-d35e6cca1050\",\"type\":\"CDSView\"},{\"attributes\":{},\"id\":\"4e3c21b1-111b-4db5-92ea-8d11ed819105\",\"type\":\"PanTool\"},{\"attributes\":{\"fill_alpha\":{\"value\":0.1},\"fill_color\":{\"value\":\"#1f77b4\"},\"line_alpha\":{\"value\":0.1},\"line_color\":{\"value\":\"#1f77b4\"},\"radius\":{\"field\":\"radii\",\"units\":\"data\"},\"size\":{\"units\":\"screen\",\"value\":10},\"x\":{\"field\":\"x\"},\"y\":{\"field\":\"y\"}},\"id\":\"b75096fd-be69-496b-bddb-c3b14b57bec8\",\"type\":\"Circle\"},{\"attributes\":{},\"id\":\"6e3cce11-abeb-4176-8ec4-b1d51638defb\",\"type\":\"BasicTicker\"},{\"attributes\":{\"plot\":{\"id\":\"59fc0f98-e474-4960-901a-4c2b013d77c8\",\"subtype\":\"Figure\",\"type\":\"Plot\"},\"ticker\":{\"id\":\"9c6947d4-2866-4f0a-b6a6-cbb39e0cfccd\",\"type\":\"BasicTicker\"}},\"id\":\"4c362b01-bec0-4284-82bb-9232239b171f\",\"type\":\"Grid\"},{\"attributes\":{\"below\":[{\"id\":\"34b6a78a-1149-491d-9a5b-c41d1d28833b\",\"type\":\"LinearAxis\"}],\"left\":[{\"id\":\"d7afe435-2cb8-4482-bb65-9ae4b5e1ad5a\",\"type\":\"LinearAxis\"}],\"renderers\":[{\"id\":\"34b6a78a-1149-491d-9a5b-c41d1d28833b\",\"type\":\"LinearAxis\"},{\"id\":\"4c362b01-bec0-4284-82bb-9232239b171f\",\"type\":\"Grid\"},{\"id\":\"d7afe435-2cb8-4482-bb65-9ae4b5e1ad5a\",\"type\":\"LinearAxis\"},{\"id\":\"3a9a984d-058a-41e9-ba8f-bc9259534d57\",\"type\":\"Grid\"},{\"id\":\"e5c2c6ea-8c4e-4c1e-86ea-529134169821\",\"type\":\"BoxAnnotation\"},{\"id\":\"76c25c00-d0e6-4454-8718-c5b433d20d3e\",\"type\":\"GlyphRenderer\"}],\"title\":{\"id\":\"6945c94a-a0c9-4691-ab60-d95b4f4b9850\",\"type\":\"Title\"},\"toolbar\":{\"id\":\"767c2a7a-6081-4c16-b928-bd9ce0ce3b7e\",\"type\":\"Toolbar\"},\"x_range\":{\"id\":\"3b084d39-5df5-4c72-8fd9-36b7ce156ef8\",\"type\":\"DataRange1d\"},\"x_scale\":{\"id\":\"6eed3826-4b43-4ac8-9655-4b77afc876b1\",\"type\":\"LinearScale\"},\"y_range\":{\"id\":\"b572c426-fae0-4cba-a782-1219d2c6f9a1\",\"type\":\"DataRange1d\"},\"y_scale\":{\"id\":\"d95d94f1-9461-49da-a805-b19408b253a1\",\"type\":\"LinearScale\"}},\"id\":\"59fc0f98-e474-4960-901a-4c2b013d77c8\",\"subtype\":\"Figure\",\"type\":\"Plot\"},{\"attributes\":{},\"id\":\"c5e63269-5c3b-4cd6-96af-d4df2add51bd\",\"type\":\"BasicTickFormatter\"},{\"attributes\":{\"callback\":null,\"tooltips\":[[\"Country\",\"@desc\"],[\"Population (millions)\",\"@population\"],[\"YoY Population Change\",\"@x\"],[\"Interest Rate (%)\",\"@y\"]]},\"id\":\"267b0b53-7476-4992-a84c-14cde3717255\",\"type\":\"HoverTool\"},{\"attributes\":{},\"id\":\"ee5d2ade-d571-4e3c-afca-81eab048b115\",\"type\":\"WheelZoomTool\"},{\"attributes\":{},\"id\":\"1d281131-1597-4d80-9e28-a1ec0d454d5e\",\"type\":\"ResetTool\"}],\"root_ids\":[\"59fc0f98-e474-4960-901a-4c2b013d77c8\"]},\"title\":\"Bokeh Application\",\"version\":\"0.12.10\"}};\n",
       "    var render_items = [{\"docid\":\"bda3cea3-f763-4bab-856c-d9c9d0633f30\",\"elementid\":\"96751bc9-2c3e-4c8c-937f-2df647fa1003\",\"modelid\":\"59fc0f98-e474-4960-901a-4c2b013d77c8\"}];\n",
       "\n",
       "    root.Bokeh.embed.embed_items(docs_json, render_items);\n",
       "  }\n",
       "\n",
       "  if (root.Bokeh !== undefined) {\n",
       "    embed_document(root);\n",
       "  } else {\n",
       "    var attempts = 0;\n",
       "    var timer = setInterval(function(root) {\n",
       "      if (root.Bokeh !== undefined) {\n",
       "        embed_document(root);\n",
       "        clearInterval(timer);\n",
       "      }\n",
       "      attempts++;\n",
       "      if (attempts > 100) {\n",
       "        console.log(\"Bokeh: ERROR: Unable to embed document because BokehJS library is missing\")\n",
       "        clearInterval(timer);\n",
       "      }\n",
       "    }, 10, root)\n",
       "  }\n",
       "})(window);"
      ],
      "application/vnd.bokehjs_exec.v0+json": ""
     },
     "metadata": {
      "application/vnd.bokehjs_exec.v0+json": {
       "id": "59fc0f98-e474-4960-901a-4c2b013d77c8"
      }
     },
     "output_type": "display_data"
    }
   ],
   "source": [
    "hover = HoverTool(tooltips=[\n",
    "    ('Country', '@desc'),\n",
    "    ('Population Change (%)', '@x'),\n",
    "    ('Interest Rate (%)', '@y')\n",
    "])\n",
    "\n",
    "source = ColumnDataSource(data=dict(\n",
    "    x=df['Yearly Change'],\n",
    "    y=df['Interest rate'],\n",
    "    desc=df['Country'],\n",
    "    radii=np.sqrt(df['Population'])/1e5,\n",
    "    population=df['Population']/1e6\n",
    "))\n",
    "\n",
    "hover = HoverTool(tooltips=[\n",
    "    ('Country', '@desc'),\n",
    "    ('Population (millions)', '@population'),\n",
    "    ('YoY Population Change', '@x'),\n",
    "    ('Interest Rate (%)', '@y')\n",
    "])\n",
    "tools = [hover, PanTool(), BoxZoomTool(), WheelZoomTool(), ResetTool()]\n",
    "\n",
    "p = figure(tools=tools,\n",
    "           x_axis_label='YoY Population Change',\n",
    "           y_axis_label='Interest Rate')\n",
    "\n",
    "p.circle('x', 'y', size=10, alpha=0.5, source=source,\n",
    "         radius='radii')\n",
    "show(p)"
   ]
  },
  {
   "cell_type": "code",
   "execution_count": 92,
   "metadata": {
    "collapsed": true
   },
   "outputs": [],
   "source": [
    "# Add a line of best fit\n",
    "\n",
    "from sklearn.linear_model import LinearRegression\n",
    "\n",
    "X = df['Yearly Change'].values.reshape(-1, 1)\n",
    "y = df['Interest rate'].values\n",
    "weights = np.sqrt(df['Population'])/1e5\n",
    "\n",
    "lm = LinearRegression()\n",
    "lm.fit(X, y, sample_weight=weights)\n",
    "lm_x = np.linspace(X.flatten().min(), X.flatten().max(), 50)\n",
    "lm_y = lm.predict(lm_x.reshape(-1, 1))"
   ]
  },
  {
   "cell_type": "code",
   "execution_count": 93,
   "metadata": {},
   "outputs": [
    {
     "data": {
      "text/html": [
       "\n",
       "<div class=\"bk-root\">\n",
       "    <div class=\"bk-plotdiv\" id=\"ae38422c-d960-4739-98bc-bd58a800835c\"></div>\n",
       "</div>"
      ]
     },
     "metadata": {},
     "output_type": "display_data"
    },
    {
     "data": {
      "application/javascript": [
       "(function(root) {\n",
       "  function embed_document(root) {\n",
       "    var docs_json = {\"6c20f395-8a99-4dca-99a1-c8e1446e446c\":{\"roots\":{\"references\":[{\"attributes\":{\"bottom_units\":\"screen\",\"fill_alpha\":{\"value\":0.5},\"fill_color\":{\"value\":\"lightgrey\"},\"left_units\":\"screen\",\"level\":\"overlay\",\"line_alpha\":{\"value\":1.0},\"line_color\":{\"value\":\"black\"},\"line_dash\":[4,4],\"line_width\":{\"value\":2},\"plot\":null,\"render_mode\":\"css\",\"right_units\":\"screen\",\"top_units\":\"screen\"},\"id\":\"97f68dae-179e-4410-a719-802a628fd9cb\",\"type\":\"BoxAnnotation\"},{\"attributes\":{\"line_alpha\":{\"value\":0.1},\"line_color\":{\"value\":\"#1f77b4\"},\"line_width\":{\"value\":2},\"x\":{\"field\":\"x\"},\"y\":{\"field\":\"y\"}},\"id\":\"a1c08586-77e8-4277-a37f-324de3653be0\",\"type\":\"Line\"},{\"attributes\":{\"source\":{\"id\":\"4726deab-b4eb-48ef-a421-8ae727b9d9cf\",\"type\":\"ColumnDataSource\"}},\"id\":\"9690a75e-a21b-41aa-96e4-d67d65849027\",\"type\":\"CDSView\"},{\"attributes\":{\"callback\":null,\"column_names\":[\"population\",\"desc\",\"y\",\"x\"],\"data\":{\"desc\":[\"N/A\",\"N/A\",\"N/A\",\"N/A\",\"N/A\",\"N/A\",\"N/A\",\"N/A\",\"N/A\",\"N/A\",\"N/A\",\"N/A\",\"N/A\",\"N/A\",\"N/A\",\"N/A\",\"N/A\",\"N/A\",\"N/A\",\"N/A\",\"N/A\",\"N/A\",\"N/A\",\"N/A\",\"N/A\",\"N/A\",\"N/A\",\"N/A\",\"N/A\",\"N/A\",\"N/A\",\"N/A\",\"N/A\",\"N/A\",\"N/A\",\"N/A\",\"N/A\",\"N/A\",\"N/A\",\"N/A\",\"N/A\",\"N/A\",\"N/A\",\"N/A\",\"N/A\",\"N/A\",\"N/A\",\"N/A\",\"N/A\",\"N/A\"],\"population\":[\"N/A\",\"N/A\",\"N/A\",\"N/A\",\"N/A\",\"N/A\",\"N/A\",\"N/A\",\"N/A\",\"N/A\",\"N/A\",\"N/A\",\"N/A\",\"N/A\",\"N/A\",\"N/A\",\"N/A\",\"N/A\",\"N/A\",\"N/A\",\"N/A\",\"N/A\",\"N/A\",\"N/A\",\"N/A\",\"N/A\",\"N/A\",\"N/A\",\"N/A\",\"N/A\",\"N/A\",\"N/A\",\"N/A\",\"N/A\",\"N/A\",\"N/A\",\"N/A\",\"N/A\",\"N/A\",\"N/A\",\"N/A\",\"N/A\",\"N/A\",\"N/A\",\"N/A\",\"N/A\",\"N/A\",\"N/A\",\"N/A\",\"N/A\"],\"x\":{\"__ndarray__\":\"cT0K16Nw5b9c7G1iYb7hv4w2o9s9GNy/YZRq8riz1L9s5GMSaJ7KvyhA5X+8qre/ACL1k1ydlz+U6O9ktbzBP3aWsJvfQtA/ojjphGSn1z/O2iFu6QvfP3s+rSs3OOM/kY9JoHnq5j+n4OUUvJzqP7sxgon+Tu4/aEEPf6AA8T/0aV25wdnyP36Sq/PisvQ/Crv5LQSM9j+U40doJWX4PyAMlqJGPvo/qjTk3GcX/D80XTIXifD9P8CFgFGqyf8/JVfnxWXRAEBqaw5j9r0BQLB/NQCHqgJA9ZNcnReXA0A6qIM6qIMEQIC8qtc4cAVAxdDRdMlcBkAL5fgRWkkHQFD5H6/qNQhAlQ1HTHsiCUDbIW7pCw8KQCA2lYac+wpAZkq8Iy3oC0CqXuPAvdQMQPByCl5OwQ1ANocx+96tDkB8m1iYb5oPQODXvxqAQxBAA2JTaci5EEAm7Oa3EDARQEh2egZZphFAawAOVaEcEkCOiqGj6ZISQLAUNfIxCRNA057IQHp/E0D2KFyPwvUTQA==\",\"dtype\":\"float64\",\"shape\":[50]},\"y\":{\"__ndarray__\":\"9LkntY805D9nsFgk0yTwP9WDHW5eL/Y/Qlfit+k5/D9YldOAOiIBQA//tSWAJwRAxWiYysUsB0B70npvCzIKQDI8XRRRNw1A9dKfXEseEEDQBxEv7qARQKs8ggGRIxNAhnHz0zOmFEBipmSm1igWQDzb1Xh5qxdAGBBHSxwuGUD0RLgdv7AaQM55KfBhMxxArK6awgS2HUCG4wuVpzgfQDGMvjOlXSBAnib3nPYeIUAMwS8GSOAhQHpbaG+ZoSJA5/Wg2OpiI0BVkNlBPCQkQMMqEquN5SRAMMVKFN+mJUCdX4N9MGgmQAv6u+aBKSdAeZT0T9PqJ0DnLi25JKwoQFTJZSJ2bSlAwmOei8cuKkAw/tb0GPAqQJ2YD15qsStACzNIx7tyLEB4zYAwDTQtQOZnuZle9S1AVALyArC2LkDCnCpsAXgvQJibsWqpHDBAz+hNH1J9MEAGNurT+t0wQDyDhoijPjFAc9AiPUyfMUCqHb/x9P8xQOFqW6adYDJAGLj3WkbBMkBPBZQP7yEzQA==\",\"dtype\":\"float64\",\"shape\":[50]}}},\"id\":\"4726deab-b4eb-48ef-a421-8ae727b9d9cf\",\"type\":\"ColumnDataSource\"},{\"attributes\":{},\"id\":\"258b6967-c8bf-4e69-9c28-e5ee479d6ac6\",\"type\":\"PanTool\"},{\"attributes\":{},\"id\":\"60a9a647-51d0-4976-a80d-cd38440ff0eb\",\"type\":\"LinearScale\"},{\"attributes\":{\"source\":{\"id\":\"cb651d75-6399-474a-8f4e-4917139e0327\",\"type\":\"ColumnDataSource\"}},\"id\":\"9d0375ab-e26a-4e5e-8c5c-224d755ece52\",\"type\":\"CDSView\"},{\"attributes\":{\"plot\":{\"id\":\"f0c2f8b3-ef06-423b-b7a4-93c5b0cec135\",\"subtype\":\"Figure\",\"type\":\"Plot\"},\"ticker\":{\"id\":\"c1a0837b-226e-4ea8-90ab-5283b04ecb7d\",\"type\":\"BasicTicker\"}},\"id\":\"26549749-c889-4edc-bbee-c203e37df07b\",\"type\":\"Grid\"},{\"attributes\":{},\"id\":\"9f10f831-7074-4426-869f-3fbe8e056a7b\",\"type\":\"BasicTicker\"},{\"attributes\":{},\"id\":\"f6878606-c97e-4fec-880e-ba88ba62e37c\",\"type\":\"BasicTickFormatter\"},{\"attributes\":{\"fill_alpha\":{\"value\":0.5},\"fill_color\":{\"value\":\"#1f77b4\"},\"line_alpha\":{\"value\":0.5},\"line_color\":{\"value\":\"#1f77b4\"},\"radius\":{\"field\":\"radii\",\"units\":\"data\"},\"size\":{\"units\":\"screen\",\"value\":10},\"x\":{\"field\":\"x\"},\"y\":{\"field\":\"y\"}},\"id\":\"0417724d-2a0a-4b7d-a9da-1d2cdb5af660\",\"type\":\"Circle\"},{\"attributes\":{\"data_source\":{\"id\":\"cb651d75-6399-474a-8f4e-4917139e0327\",\"type\":\"ColumnDataSource\"},\"glyph\":{\"id\":\"0417724d-2a0a-4b7d-a9da-1d2cdb5af660\",\"type\":\"Circle\"},\"hover_glyph\":null,\"muted_glyph\":null,\"nonselection_glyph\":{\"id\":\"485ec91d-7438-4bb2-bce5-7c845ce5b308\",\"type\":\"Circle\"},\"selection_glyph\":null,\"view\":{\"id\":\"9d0375ab-e26a-4e5e-8c5c-224d755ece52\",\"type\":\"CDSView\"}},\"id\":\"18f2af7b-2cae-4899-9404-a1c9323df751\",\"type\":\"GlyphRenderer\"},{\"attributes\":{\"axis_label\":\"YoY Population Change\",\"formatter\":{\"id\":\"e92c0c4f-73df-46c6-b854-a985c6e1dfae\",\"type\":\"BasicTickFormatter\"},\"plot\":{\"id\":\"f0c2f8b3-ef06-423b-b7a4-93c5b0cec135\",\"subtype\":\"Figure\",\"type\":\"Plot\"},\"ticker\":{\"id\":\"c1a0837b-226e-4ea8-90ab-5283b04ecb7d\",\"type\":\"BasicTicker\"}},\"id\":\"797570dd-6c9e-4f05-a288-21dbade6a52b\",\"type\":\"LinearAxis\"},{\"attributes\":{\"below\":[{\"id\":\"797570dd-6c9e-4f05-a288-21dbade6a52b\",\"type\":\"LinearAxis\"}],\"left\":[{\"id\":\"5324405d-b051-4af6-b4ea-308146708ed7\",\"type\":\"LinearAxis\"}],\"renderers\":[{\"id\":\"797570dd-6c9e-4f05-a288-21dbade6a52b\",\"type\":\"LinearAxis\"},{\"id\":\"26549749-c889-4edc-bbee-c203e37df07b\",\"type\":\"Grid\"},{\"id\":\"5324405d-b051-4af6-b4ea-308146708ed7\",\"type\":\"LinearAxis\"},{\"id\":\"be3cdae8-de76-4bb5-a129-34e779f27d4d\",\"type\":\"Grid\"},{\"id\":\"97f68dae-179e-4410-a719-802a628fd9cb\",\"type\":\"BoxAnnotation\"},{\"id\":\"18f2af7b-2cae-4899-9404-a1c9323df751\",\"type\":\"GlyphRenderer\"},{\"id\":\"982d03bf-fa28-493d-aac3-f0c6be425093\",\"type\":\"GlyphRenderer\"}],\"title\":{\"id\":\"bb47c6e2-19b8-4e0a-8449-3e975110b3c0\",\"type\":\"Title\"},\"toolbar\":{\"id\":\"fc287cc8-f3a8-403e-8379-26877a63bb4f\",\"type\":\"Toolbar\"},\"x_range\":{\"id\":\"9e842227-9bda-4f41-bf34-fc2ff87755fb\",\"type\":\"DataRange1d\"},\"x_scale\":{\"id\":\"ec1b2528-7e86-433d-9e53-61f7c86d1162\",\"type\":\"LinearScale\"},\"y_range\":{\"id\":\"bc12a218-daf0-4694-aa36-7ca4495c3897\",\"type\":\"DataRange1d\"},\"y_scale\":{\"id\":\"60a9a647-51d0-4976-a80d-cd38440ff0eb\",\"type\":\"LinearScale\"}},\"id\":\"f0c2f8b3-ef06-423b-b7a4-93c5b0cec135\",\"subtype\":\"Figure\",\"type\":\"Plot\"},{\"attributes\":{\"callback\":null,\"column_names\":[\"population\",\"desc\",\"y\",\"x\",\"radii\"],\"data\":{\"desc\":[\"China\",\"India\",\"United States\",\"Indonesia\",\"Brazil\",\"Pakistan\",\"Nigeria\",\"Bangladesh\",\"Russia\",\"Mexico\",\"Japan\",\"Philippines\",\"Egypt\",\"DR Congo\",\"Iran\",\"Turkey\",\"Thailand\",\"South Africa\",\"South Korea\",\"Kenya\",\"Colombia\",\"Argentina\",\"Uganda\",\"Ukraine\",\"Poland\",\"Canada\",\"Morocco\",\"Saudi Arabia\",\"Peru\",\"Uzbekistan\",\"Malaysia\",\"Angola\",\"Mozambique\",\"Ghana\",\"Australia\",\"Taiwan\",\"Sri Lanka\",\"Romania\",\"Malawi\",\"Kazakhstan\",\"Chile\",\"Zambia\",\"Rwanda\",\"Tunisia\",\"Dominican Republic\",\"Czech Republic\",\"Sweden\",\"Azerbaijan\",\"Jordan\",\"Hungary\",\"Belarus\",\"Tajikistan\",\"Serbia\",\"Switzerland\",\"Israel\",\"Sierra Leone\",\"Hong Kong\",\"Bulgaria\",\"Paraguay\",\"Kyrgyzstan\",\"Denmark\",\"Norway\",\"New Zealand\",\"Kuwait\",\"Croatia\",\"Moldova\",\"Georgia\",\"Mongolia\",\"Albania\",\"Armenia\",\"Jamaica\",\"Qatar\",\"Namibia\",\"Botswana\",\"Gambia\",\"Bahrain\",\"Trinidad and Tobago\",\"Mauritius\",\"Fiji\",\"Bahamas\",\"Iceland\",\"Samoa\"],\"population\":{\"__ndarray__\":\"4ue/By8clkCrCDcZNSiVQGAEjZlEbHRAls/yPLiscEDWjXdHxltqQK3cC8wKGmlA+WcG8QF8aEDDYWngx8tkQAWlaOXe/mFAzqeOVUpYYEC/ub963MtfQHHIBtLFoFpADLH6IwzYWEC+9WG9UQBVQP1NKETAgFRAp+mzA656VECnID8buUtRQBKFlnX/skxArKjBNAyVSUACui9ntnlJQOsAiLt6u0hAJbIPsixYRkD7QPLOoSJGQCpVouwtAUZAgsmNImsNQ0DjiLX4FHpCQMoa9RCNGEJAHuIftvTGQECbOLnfoUZAQN2VXTC4LkBAD7qEQ28FQEBRZoNMMsY+QDlHHR1Xhz5A8wTCTrF2PUAib7n6scU4QGuDE9GvsTdA8NsQ4zXzNEAX8ghupJQzQEm8PJ0rKjNAnil0XmNnMkAUev1JfDIyQFRx4xbzmzFAa2PshJcAKUA8vyhBf1EnQGX/PA0YxCVA46WbxCBAJUBA+FCiJfcjQBKifEEL2SNAaR7AIr/OI0A75dGNsGAjQGIx6lp75yJA/Io1XOQ2IkCGVidnKIYhQPrS25+LFiFAbJOKxtrnIEBf7pOjAOEeQNy3Wicutx1AKbFre7slHEBEFf4Mb5YbQBReglMfiBhAXio25nUEF0A+d4L912kVQImWPJ6W/xJA6YAk7NvJEEBAv+/fvKgQQHwKgPEMKhBAkYDR5c1BD0BQjCyZY/kIQFW9/E6TeQdApvELryR5B0DSViWRfTAHQDVEFf4MjwVA4nK8AtGzBEC69C9JZaoCQOXVOQZkTwFAkPmAQGcS+T9Q4QhSKfb1P3trYKsES/Q/MUCiCRQx7T+SIjKs4o3ZP1mLTwEwntU/kpbK2xFOyT8=\",\"dtype\":\"float64\",\"shape\":[82]},\"radii\":{\"__ndarray__\":\"Ir4VXy8T2D/Su+Cl5IzXP5cJrbleI8c/Bq3xekfoxD95NVJbVpbCP2miIIKDI8I/XX1zRw/qwT+gAWNZioLAP0EN8jNbt74/RoO4iglGvT9LK7lF6968PymCEVOfa7o/9QbevByFuT8Cm1zopna3P2EtwTr2Lrc/VifiP4crtz9ZnHjPDEu1PxA6visfZbM/WTeD1r5Psj9jii6980WyP8L6EZ04AbI/4twPXBAdsT/FqNH8ggixP2LhfCCf+7A/z96/RfWarz++w8bI0B+vP68/Pw0+za4/KUAFvn2orT9BRU80NTatP+ULE7+3IK0/cXaOH3j7rD9nNZpxJ2esP7nn1+sWSqw/i6CHwaTKqz+OuBf+rXupP7Pyq84i7Kg/84vtHFNvpz8uHw3176emP1hpv2gCaqY/ecY1v/P2pT/4dlE6S9elPwTi0WU2fKU/uGTDLE8aoj9KGRT0hXuhP3hvch3846A/LmtViXmwoD9kqL+MRi2gPw+Yl+oPIaA/oCqgQ+AcoD+5EOHBu9+fPyNnd01ue58/w2NrxAXnnj91qEHHpk+eP1E76iWE7p0/eOSwrIPFnT9eG4CKg3OcP8feASv+6Js/3yVKuOgpmz+P8lyhauSaPx0PW7nuW5k/IVVHdF+QmD/Sgl5PULGXPybBsOMNUZY/qEAaJIT6lD94y/pFyOWUP8iLXkC5lZQ/dkUo8qg9lD/79ndysxeSPyyXP6qFipE/koFVVVyKkT8GiuQPIm+RPyIh5cpaz5A/ohxsXwR5kD+AB4qFZ0iPP+yGPhskII4/roKJBwSjiT+wpQMWc/6HP/0sWzyBEIc/cUczFIuPgz9Q0rfc2OF5P8E8K9Uzznc/kZqtCkY2cj8=\",\"dtype\":\"float64\",\"shape\":[82]},\"x\":{\"__ndarray__\":\"9ihcj8L12D/D9Shcj8LxP7gehetRuOY/9ihcj8L18D8AAAAAAADoP+F6FK5H4f4/4XoUrkfhBEB7FK5H4XrwP3sUrkfhepS/16NwPQrX8z9xPQrXo3DNv1K4HoXrUfg/7FG4HoXr/T89CtejcD0KQM3MzMzMzPA/MzMzMzMz9z/hehSuR+HKPzMzMzMzM/M/CtejcD0K1z8pXI/C9SgEQOxRuB6F6+k/FK5H4XoU7j89CtejcD0KQLgehetRuN6/w/UoXI/Cxb/NzMzMzMzsP1K4HoXrUfQ/7FG4HoXr/T8zMzMzMzPzP7gehetRuPY/H4XrUbge9T+PwvUoXI8KQDMzMzMzMwdAcT0K16NwAUAfhetRuB71P4/C9Shcj9I/ZmZmZmZm1j8AAAAAAADgv0jhehSuRwdAmpmZmZmZ8T9I4XoUrkfpPxSuR+F6FAhAMzMzMzMzA0CamZmZmZnxP0jhehSuR/E/7FG4HoXrsT9cj8L1KFznP1yPwvUoXO8/pHA9CtejAEDD9Shcj8LVv8P1KFyPwsW/pHA9CtejAEB7FK5H4XrUv5qZmZmZmek/SOF6FK5H+T8zMzMzMzMBQNejcD0K1+s/cT0K16Nw5b8pXI/C9Sj0PzMzMzMzM/c/CtejcD0K1z/NzMzMzMzsP8P1KFyPwu0/XI/C9Shc9z/hehSuR+HivwAAAAAAANC/pHA9CtejwL8AAAAAAAD4P+xRuB6F68E/pHA9CtejwD+PwvUoXI/SP+F6FK5H4QBACtejcD0KAUD2KFyPwvX8PxSuR+F6FAhA9ihcj8L1E0AAAAAAAADQPwAAAAAAANA/rkfhehSu5z+uR+F6FK7vPz0K16NwPeo/exSuR+F65D8=\",\"dtype\":\"float64\",\"shape\":[82]},\"y\":{\"__ndarray__\":\"AAAAAAAA/D8AAAAAAAAYQAAAAAAAAPg/AAAAAAAAE0AAAAAAAAAdQAAAAAAAABdAAAAAAAAALEAAAAAAAAAbQAAAAAAAAB1AAAAAAAAAHECamZmZmZm5vwAAAAAAAAhAAAAAAADAMkAAAAAAAAAsQAAAAAAAACRAAAAAAAAAIEAAAAAAAAD4PwAAAAAAABtAAAAAAAAA9D8AAAAAAAAkQAAAAAAAABZAAAAAAABAOkAAAAAAAAAkQAAAAAAAAClAAAAAAAAA+D8AAAAAAAD0PwAAAAAAAAJAAAAAAAAAAEAAAAAAAAAOQAAAAAAAACJAAAAAAAAACEAAAAAAAAAwQAAAAAAAwDVAAAAAAAAANEAAAAAAAAD4PwAAAAAAAPY/AAAAAAAAHUAAAAAAAAD8PwAAAAAAADJAAAAAAAAAJUAAAAAAAAAEQAAAAAAAAClAAAAAAAAAGEAAAAAAAAAUQAAAAAAAABVAAAAAAAAA0D8AAAAAAADgvwAAAAAAAC5AAAAAAAAADkDNzMzMzMzsPwAAAAAAAChAAAAAAAAAMEAAAAAAAAAMQAAAAAAAAOi/mpmZmZmZuT8AAAAAAAAqQAAAAAAAAPg/AAAAAAAAAAAAAAAAAAAWQAAAAAAAABRAzczMzMzM5L8AAAAAAADgPwAAAAAAAPw/AAAAAAAABkAAAAAAAAAEQAAAAAAAACBAAAAAAAAAHEAAAAAAAAAoQM3MzMzMzPA/AAAAAAAAGEAAAAAAAAAUQAAAAAAAABRAAAAAAAAAHEAAAAAAAAAWQAAAAAAAADRAKVyPwvUo+D8AAAAAAAATQAAAAAAAABBAAAAAAAAA4D8AAAAAAAAQQAAAAAAAABJA7FG4HoXrwT8=\",\"dtype\":\"float64\",\"shape\":[82]}}},\"id\":\"cb651d75-6399-474a-8f4e-4917139e0327\",\"type\":\"ColumnDataSource\"},{\"attributes\":{\"callback\":null},\"id\":\"9e842227-9bda-4f41-bf34-fc2ff87755fb\",\"type\":\"DataRange1d\"},{\"attributes\":{\"line_color\":{\"value\":\"red\"},\"line_width\":{\"value\":2},\"x\":{\"field\":\"x\"},\"y\":{\"field\":\"y\"}},\"id\":\"3f142bf8-7f3e-4331-9a0a-c3b1cab662c2\",\"type\":\"Line\"},{\"attributes\":{},\"id\":\"ec1b2528-7e86-433d-9e53-61f7c86d1162\",\"type\":\"LinearScale\"},{\"attributes\":{\"data_source\":{\"id\":\"4726deab-b4eb-48ef-a421-8ae727b9d9cf\",\"type\":\"ColumnDataSource\"},\"glyph\":{\"id\":\"3f142bf8-7f3e-4331-9a0a-c3b1cab662c2\",\"type\":\"Line\"},\"hover_glyph\":null,\"muted_glyph\":null,\"nonselection_glyph\":{\"id\":\"a1c08586-77e8-4277-a37f-324de3653be0\",\"type\":\"Line\"},\"selection_glyph\":null,\"view\":{\"id\":\"9690a75e-a21b-41aa-96e4-d67d65849027\",\"type\":\"CDSView\"}},\"id\":\"982d03bf-fa28-493d-aac3-f0c6be425093\",\"type\":\"GlyphRenderer\"},{\"attributes\":{\"callback\":null,\"tooltips\":[[\"Country\",\"@desc\"],[\"Population (millions)\",\"@population\"],[\"YoY Population Change\",\"@x\"],[\"Interest Rate (%)\",\"@y\"]]},\"id\":\"820dee23-07f4-4d99-94e4-7f17ffc56e2a\",\"type\":\"HoverTool\"},{\"attributes\":{\"overlay\":{\"id\":\"97f68dae-179e-4410-a719-802a628fd9cb\",\"type\":\"BoxAnnotation\"}},\"id\":\"f432891b-236d-44de-ba67-b049a35fd7fe\",\"type\":\"BoxZoomTool\"},{\"attributes\":{},\"id\":\"c1a0837b-226e-4ea8-90ab-5283b04ecb7d\",\"type\":\"BasicTicker\"},{\"attributes\":{\"callback\":null},\"id\":\"bc12a218-daf0-4694-aa36-7ca4495c3897\",\"type\":\"DataRange1d\"},{\"attributes\":{},\"id\":\"d3c96295-12be-40fd-86a9-4c7292ceea4c\",\"type\":\"ResetTool\"},{\"attributes\":{\"fill_alpha\":{\"value\":0.1},\"fill_color\":{\"value\":\"#1f77b4\"},\"line_alpha\":{\"value\":0.1},\"line_color\":{\"value\":\"#1f77b4\"},\"radius\":{\"field\":\"radii\",\"units\":\"data\"},\"size\":{\"units\":\"screen\",\"value\":10},\"x\":{\"field\":\"x\"},\"y\":{\"field\":\"y\"}},\"id\":\"485ec91d-7438-4bb2-bce5-7c845ce5b308\",\"type\":\"Circle\"},{\"attributes\":{},\"id\":\"871f37f8-f004-4f76-8df4-3a480a922334\",\"type\":\"WheelZoomTool\"},{\"attributes\":{\"plot\":null,\"text\":\"\"},\"id\":\"bb47c6e2-19b8-4e0a-8449-3e975110b3c0\",\"type\":\"Title\"},{\"attributes\":{},\"id\":\"e92c0c4f-73df-46c6-b854-a985c6e1dfae\",\"type\":\"BasicTickFormatter\"},{\"attributes\":{\"axis_label\":\"Interest Rate\",\"formatter\":{\"id\":\"f6878606-c97e-4fec-880e-ba88ba62e37c\",\"type\":\"BasicTickFormatter\"},\"plot\":{\"id\":\"f0c2f8b3-ef06-423b-b7a4-93c5b0cec135\",\"subtype\":\"Figure\",\"type\":\"Plot\"},\"ticker\":{\"id\":\"9f10f831-7074-4426-869f-3fbe8e056a7b\",\"type\":\"BasicTicker\"}},\"id\":\"5324405d-b051-4af6-b4ea-308146708ed7\",\"type\":\"LinearAxis\"},{\"attributes\":{\"dimension\":1,\"plot\":{\"id\":\"f0c2f8b3-ef06-423b-b7a4-93c5b0cec135\",\"subtype\":\"Figure\",\"type\":\"Plot\"},\"ticker\":{\"id\":\"9f10f831-7074-4426-869f-3fbe8e056a7b\",\"type\":\"BasicTicker\"}},\"id\":\"be3cdae8-de76-4bb5-a129-34e779f27d4d\",\"type\":\"Grid\"},{\"attributes\":{\"active_drag\":\"auto\",\"active_inspect\":\"auto\",\"active_scroll\":\"auto\",\"active_tap\":\"auto\",\"tools\":[{\"id\":\"820dee23-07f4-4d99-94e4-7f17ffc56e2a\",\"type\":\"HoverTool\"},{\"id\":\"258b6967-c8bf-4e69-9c28-e5ee479d6ac6\",\"type\":\"PanTool\"},{\"id\":\"f432891b-236d-44de-ba67-b049a35fd7fe\",\"type\":\"BoxZoomTool\"},{\"id\":\"871f37f8-f004-4f76-8df4-3a480a922334\",\"type\":\"WheelZoomTool\"},{\"id\":\"d3c96295-12be-40fd-86a9-4c7292ceea4c\",\"type\":\"ResetTool\"}]},\"id\":\"fc287cc8-f3a8-403e-8379-26877a63bb4f\",\"type\":\"Toolbar\"}],\"root_ids\":[\"f0c2f8b3-ef06-423b-b7a4-93c5b0cec135\"]},\"title\":\"Bokeh Application\",\"version\":\"0.12.10\"}};\n",
       "    var render_items = [{\"docid\":\"6c20f395-8a99-4dca-99a1-c8e1446e446c\",\"elementid\":\"ae38422c-d960-4739-98bc-bd58a800835c\",\"modelid\":\"f0c2f8b3-ef06-423b-b7a4-93c5b0cec135\"}];\n",
       "\n",
       "    root.Bokeh.embed.embed_items(docs_json, render_items);\n",
       "  }\n",
       "\n",
       "  if (root.Bokeh !== undefined) {\n",
       "    embed_document(root);\n",
       "  } else {\n",
       "    var attempts = 0;\n",
       "    var timer = setInterval(function(root) {\n",
       "      if (root.Bokeh !== undefined) {\n",
       "        embed_document(root);\n",
       "        clearInterval(timer);\n",
       "      }\n",
       "      attempts++;\n",
       "      if (attempts > 100) {\n",
       "        console.log(\"Bokeh: ERROR: Unable to embed document because BokehJS library is missing\")\n",
       "        clearInterval(timer);\n",
       "      }\n",
       "    }, 10, root)\n",
       "  }\n",
       "})(window);"
      ],
      "application/vnd.bokehjs_exec.v0+json": ""
     },
     "metadata": {
      "application/vnd.bokehjs_exec.v0+json": {
       "id": "f0c2f8b3-ef06-423b-b7a4-93c5b0cec135"
      }
     },
     "output_type": "display_data"
    }
   ],
   "source": [
    "# Re-plot the above, including a line of best fit\n",
    "\n",
    "source = ColumnDataSource(data=dict(\n",
    "    x=df['Yearly Change'],\n",
    "    y=df['Interest rate'],\n",
    "    desc=df['Country'],\n",
    "    radii=np.sqrt(df['Population'])/1e5,\n",
    "    population=df['Population']/1e6\n",
    "))\n",
    "\n",
    "lm_source = ColumnDataSource(data=dict(\n",
    "    x=lm_x,\n",
    "    y=lm_y,\n",
    "    desc=['N/A']*len(lm_x),\n",
    "    population=['N/A']*len(lm_x)\n",
    "))\n",
    "\n",
    "hover = HoverTool(tooltips=[\n",
    "    ('Country', '@desc'),\n",
    "    ('Population (millions)', '@population'),\n",
    "    ('YoY Population Change', '@x'),\n",
    "    ('Interest Rate (%)', '@y')\n",
    "])\n",
    "tools = [hover, PanTool(), BoxZoomTool(), WheelZoomTool(), ResetTool()]\n",
    "\n",
    "p = figure(tools=tools,\n",
    "           x_axis_label='YoY Population Change',\n",
    "           y_axis_label='Interest Rate')\n",
    "\n",
    "p.circle('x', 'y', size=10, alpha=0.5, source=source,\n",
    "         radius='radii')\n",
    "p.line('x', 'y', line_width=2, line_color='red',\n",
    "       source=lm_source)\n",
    "\n",
    "show(p)"
   ]
  },
  {
   "cell_type": "code",
   "execution_count": null,
   "metadata": {
    "collapsed": true
   },
   "outputs": [],
   "source": []
  },
  {
   "cell_type": "code",
   "execution_count": null,
   "metadata": {
    "collapsed": true
   },
   "outputs": [],
   "source": []
  },
  {
   "cell_type": "markdown",
   "metadata": {},
   "source": [
    "---\n",
    "### External Content: Scraping cryptocurrency price data\n",
    "---"
   ]
  },
  {
   "cell_type": "code",
   "execution_count": 94,
   "metadata": {
    "collapsed": true
   },
   "outputs": [],
   "source": [
    "soup = BeautifulSoup(requests.get('https://coinmarketcap.com/').content, 'lxml')"
   ]
  },
  {
   "cell_type": "code",
   "execution_count": 95,
   "metadata": {
    "collapsed": true
   },
   "outputs": [],
   "source": [
    "rows = soup.find_all('tr')"
   ]
  },
  {
   "cell_type": "code",
   "execution_count": 96,
   "metadata": {
    "collapsed": true,
    "scrolled": false
   },
   "outputs": [],
   "source": [
    "coins = []\n",
    "prices = []\n",
    "\n",
    "for row in rows:    \n",
    "    try:\n",
    "        coins.append(row.find_all('td')[1].find_all('a')[1].text)\n",
    "        prices.append(float(row.find_all('td')[2].text.strip().replace('$', '').replace(',', '')))\n",
    "    except:\n",
    "        pass"
   ]
  },
  {
   "cell_type": "code",
   "execution_count": 97,
   "metadata": {},
   "outputs": [
    {
     "data": {
      "image/png": "[encoded data removed]",
      "text/plain": [
       "<matplotlib.figure.Figure at 0x1a1b0839e8>"
      ]
     },
     "metadata": {
      "image/png": {
       "height": 478,
       "width": 412
      }
     },
     "output_type": "display_data"
    }
   ],
   "source": [
    "fig = plt.figure(figsize=(6, 8))\n",
    "pd.Series(prices, index=coins)[::-1].iloc[-10:].plot.barh()\n",
    "plt.savefig('../figures/lesson-3-crypto-prices.png', bbox_inches='tight', dpi=300)"
   ]
  },
  {
   "cell_type": "code",
   "execution_count": null,
   "metadata": {
    "collapsed": true
   },
   "outputs": [],
   "source": []
  },
  {
   "cell_type": "code",
   "execution_count": null,
   "metadata": {
    "collapsed": true
   },
   "outputs": [],
   "source": []
  }
 ],
 "metadata": {
  "anaconda-cloud": {},
  "kernelspec": {
   "display_name": "Python [default]",
   "language": "python",
   "name": "python3"
  },
  "language_info": {
   "codemirror_mode": {
    "name": "ipython",
    "version": 3
   },
   "file_extension": ".py",
   "mimetype": "text/x-python",
   "name": "python",
   "nbconvert_exporter": "python",
   "pygments_lexer": "ipython3",
   "version": "3.5.4"
  }
 },
 "nbformat": 4,
 "nbformat_minor": 1
}
